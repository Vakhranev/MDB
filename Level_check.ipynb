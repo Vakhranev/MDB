{
  "nbformat": 4,
  "nbformat_minor": 0,
  "metadata": {
    "colab": {
      "provenance": [],
      "authorship_tag": "ABX9TyNIiusURIqzR7Pq1g9QNnro",
      "include_colab_link": true
    },
    "kernelspec": {
      "name": "python3",
      "display_name": "Python 3"
    },
    "language_info": {
      "name": "python"
    }
  },
  "cells": [
    {
      "cell_type": "markdown",
      "metadata": {
        "id": "view-in-github",
        "colab_type": "text"
      },
      "source": [
        "<a href=\"https://colab.research.google.com/github/Vakhranev/MDB/blob/main/%D0%9F%D1%80%D0%BE%D0%B2%D0%B5%D1%80%D0%BA%D0%B0_%D1%83%D1%80%D0%BE%D0%B2%D0%BD%D1%8F_%D0%901.ipynb\" target=\"_parent\"><img src=\"https://colab.research.google.com/assets/colab-badge.svg\" alt=\"Open In Colab\"/></a>"
      ]
    },
    {
      "cell_type": "code",
      "execution_count": 2,
      "metadata": {
        "colab": {
          "base_uri": "https://localhost:8080/",
          "height": 463
        },
        "id": "ODAfeodXmSAr",
        "outputId": "19376943-edf4-4f1c-dc6f-45b01015c11d"
      },
      "outputs": [
        {
          "output_type": "stream",
          "name": "stderr",
          "text": [
            "<ipython-input-2-4005d4608820>:142: MatplotlibDeprecationWarning: The seaborn styles shipped by Matplotlib are deprecated since 3.6, as they no longer correspond to the styles shipped by seaborn. However, they will remain available as 'seaborn-v0_8-<style>'. Alternatively, directly use the seaborn API instead.\n",
            "  plt.style.use('seaborn')\n"
          ]
        },
        {
          "output_type": "display_data",
          "data": {
            "text/plain": [
              "<Figure size 1000x500 with 1 Axes>"
            ],
            "image/png": "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\n"
          },
          "metadata": {}
        }
      ],
      "source": [
        "import glob\n",
        "import os\n",
        "from pymystem3 import Mystem\n",
        "import string\n",
        "import csv\n",
        "import matplotlib.pyplot as plt\n",
        "import numpy as np\n",
        "import pandas as pd\n",
        "\n",
        "mystem = Mystem()\n",
        "\n",
        "#folder path с текстами учеников\n",
        "students_path = r\"/content/Students_texts\"\n",
        "text_contents = {}\n",
        "\n",
        "#тут будет количество уникальных лемм\n",
        "x_data = []\n",
        "\n",
        "for text_path in glob.glob(students_path + \"/*.txt\"):\n",
        "    with open(text_path, \"r\", encoding='utf-8') as file:\n",
        "        file_name = os.path.basename(text_path) # Ключи тут являются названиями файлов текстов\n",
        "        text = file.read()\n",
        "        lemmas = [lemma for lemma in mystem.lemmatize(text) \n",
        "                  if lemma.strip() and not all(c in string.punctuation or c.isspace() for c in lemma) # убираем знаки препинания\n",
        "                  and not any(c.isalpha() and ord(c) < 128 for c in lemma)] # убираем леммы без кириллицы\n",
        "        lemmas = list(set(lemmas)) # Оставляем только уникальные леммы\n",
        "        x_data.append(len(lemmas)) # записываем количество уникальных лемм каждого текста\n",
        "        text_contents[file_name] = lemmas\n",
        "\n",
        "\n",
        "# Загружаем частотный словарь для каждой тысячи слов\n",
        "df = pd.read_csv('ru_m3.csv', sep=';')\n",
        "df.index = np.arange(1, len(df) + 1)\n",
        "df = df[['Lemma','CEFR']]\n",
        "mark1 = \"a1\"\n",
        "mark2 = \"a2\"\n",
        "mark3 = \"b1\"\n",
        "mark4 = \"b2\"\n",
        "mark5 = \"A1\"\n",
        "mark6 = \"A2\"\n",
        "mark7 = \"B1\"\n",
        "mark8 = \"B2\"\n",
        "dc1 = df.query('CEFR == @mark1 | CEFR == @mark5')\n",
        "dc2 = df.query('CEFR == @mark2 | CEFR == @mark6')\n",
        "dc3 = df.query('CEFR == @mark3 | CEFR == @mark7')\n",
        "dc4 = df.query('CEFR == @mark4 | CEFR == @mark8')\n",
        "\n",
        "l = []\n",
        "for word in dc1['Lemma']:\n",
        "  if word not in l:\n",
        "    l.append(word)\n",
        "slovar1 = l\n",
        "\n",
        "l = []\n",
        "for word in dc2['Lemma']:\n",
        "  if word not in l:\n",
        "    l.append(word)\n",
        "slovar2 = l\n",
        "\n",
        "l = []\n",
        "for word in dc3['Lemma']:\n",
        "  if word not in l:\n",
        "    l.append(word)\n",
        "slovar3 = l\n",
        "\n",
        "l = []\n",
        "for word in dc4['Lemma']:\n",
        "  if word not in l:\n",
        "    l.append(word)\n",
        "slovar4 = l\n",
        "\n",
        "# Matching lemmas для каждого уровня\n",
        "y_data_1 = []\n",
        "y_data_2 = []\n",
        "y_data_3 = []\n",
        "y_data_4 = []\n",
        "\n",
        "for file_name, lines in text_contents.items():\n",
        "    lv1 = 0\n",
        "    lv2 = 0\n",
        "    lv3 = 0\n",
        "    lv4 = 0\n",
        "    for i in lines:\n",
        "        if i in slovar1:\n",
        "            lv1 += 1\n",
        "        if i in slovar2:\n",
        "            lv2 += 1\n",
        "        if i in slovar3:\n",
        "            lv3 += 1\n",
        "        if i in slovar4:\n",
        "            lv4 += 1\n",
        "    y_data_1.append(lv1)\n",
        "    y_data_2.append(lv2)\n",
        "    y_data_3.append(lv3)\n",
        "    y_data_4.append(lv4)\n",
        "\n",
        "#Unmatched lemmas\n",
        "y_data_5 = []\n",
        "\n",
        "for i in range(len(y_data_1)):\n",
        "    diff = x_data[i] - y_data_1[i] - y_data_2[i] - y_data_3[i] - y_data_4[i]\n",
        "    y_data_5.append(diff)\n",
        "\n",
        "info = []\n",
        "info = list(text_contents.keys())\n",
        "name_to_number = {}\n",
        "\n",
        "\n",
        "for i, name in enumerate(set(info)):\n",
        "    name_to_number[name] = i\n",
        "\n",
        "info_n = [i for i in range(len(info))] # Заменяем имена на цифры для bar graph\n",
        "\n",
        "\n",
        "\n",
        "percentages_1 = [y / x * 100 for y, x in zip(y_data_1, x_data)]\n",
        "percentages_2 = [y / x * 100 for y, x in zip(y_data_2, x_data)]\n",
        "percentages_3 = [y / x * 100 for y, x in zip(y_data_3, x_data)]\n",
        "percentages_4 = [y / x * 100 for y, x in zip(y_data_4, x_data)]\n",
        "percentages_5 = [y / x * 100 for y, x in zip(y_data_5, x_data)]\n",
        "\n",
        "\n",
        "# Записываем данные словарь и из него делаем dataframe\n",
        "dict = {'Number': info_n, 'File_Name': info, 'Unique_Lemmas': x_data, 'A1 %':percentages_1, 'A2 %':percentages_2, 'B1 %':percentages_3, 'B2 %':percentages_4, 'Unmatched lemmas %':percentages_5}\n",
        "\n",
        "df = pd.DataFrame(dict)\n",
        "\n",
        "# Сохраняем dataframe как csv файл\n",
        "df.to_csv(\"students_data.csv\", encoding='utf-8', index=False)\n",
        "\n",
        "for i in range(len(y_data_1)):\n",
        "    x_data[i] = x_data[i] - y_data_5[i]\n",
        "\n",
        "percentages_1 = [y / x * 100 for y, x in zip(y_data_1, x_data)]\n",
        "percentages_2 = [y / x * 100 for y, x in zip(y_data_2, x_data)]\n",
        "percentages_3 = [y / x * 100 for y, x in zip(y_data_3, x_data)]\n",
        "percentages_4 = [y / x * 100 for y, x in zip(y_data_4, x_data)]\n",
        "\n",
        "colors = ['blue', 'green', 'red', 'orange']\n",
        "\n",
        "plt.figure(figsize=(10, 5))\n",
        "plt.style.use('seaborn')\n",
        "\n",
        "\n",
        "plt.bar(info_n, percentages_1, color=colors[0])\n",
        "plt.bar(info_n, percentages_2, bottom=percentages_1, color=colors[1])\n",
        "plt.bar(info_n, percentages_3, bottom=np.add(percentages_1, percentages_2), color=colors[2])\n",
        "plt.bar(info_n, percentages_4, bottom=np.add(np.add(percentages_1, percentages_2), percentages_3), color=colors[3])\n",
        "\n",
        "labels = ['A1', 'A2', 'B1', 'B2']\n",
        "\n",
        "plt.legend(labels, loc='center left', bbox_to_anchor=(1.0, 0.5))\n",
        "plt.xticks()\n",
        "plt.ylabel('Percentage')\n",
        "plt.show()"
      ]
    },
    {
      "cell_type": "code",
      "source": [
        "np.std(percentages_1)"
      ],
      "metadata": {
        "colab": {
          "base_uri": "https://localhost:8080/"
        },
        "id": "LBZ6nKPWqhrW",
        "outputId": "2c51224a-d622-4c76-9db0-844b76fadc74"
      },
      "execution_count": 3,
      "outputs": [
        {
          "output_type": "execute_result",
          "data": {
            "text/plain": [
              "8.834181154100557"
            ]
          },
          "metadata": {},
          "execution_count": 3
        }
      ]
    },
    {
      "cell_type": "code",
      "source": [
        "df = pd.read_csv('lemmas_levels.csv', sep=',')\n",
        "df.index = np.arange(1, len(df) + 1)\n",
        "mark1 = \"1E\"\n",
        "mark2 = \"2I\"\n",
        "mark3 = \"3AU\"\n",
        "mark4 = \"4S\"\n",
        "ll1 = df.query('level == @mark1')\n",
        "ll2 = df.query('level == @mark2')\n",
        "ll3 = df.query('level == @mark3')\n",
        "ll4 = df.query('level == @mark4')"
      ],
      "metadata": {
        "id": "ntv8qZ-uBHi1"
      },
      "execution_count": 4,
      "outputs": []
    },
    {
      "cell_type": "code",
      "source": [
        "slovar1 = ll1['lemma'].str.strip('\\'').tolist()\n",
        "slovar2 = ll2['lemma'].str.strip('\\'').tolist()\n",
        "slovar3 = ll3['lemma'].str.strip('\\'').tolist()\n",
        "slovar4 = ll4['lemma'].str.strip('\\'').tolist()"
      ],
      "metadata": {
        "id": "eH6lUV_yBP_d"
      },
      "execution_count": 5,
      "outputs": []
    },
    {
      "cell_type": "code",
      "source": [
        "# Matching lemmas для каждого уровня\n",
        "y_data_1 = []\n",
        "y_data_2 = []\n",
        "y_data_3 = []\n",
        "y_data_4 = []\n",
        "\n",
        "for file_name, lines in text_contents.items():\n",
        "    lv1 = 0\n",
        "    lv2 = 0\n",
        "    lv3 = 0\n",
        "    lv4 = 0\n",
        "    for i in lines:\n",
        "        if i in slovar1:\n",
        "            lv1 += 1\n",
        "        if i in slovar2:\n",
        "            lv2 += 1\n",
        "        if i in slovar3:\n",
        "            lv3 += 1\n",
        "        if i in slovar4:\n",
        "            lv4 += 1\n",
        "    y_data_1.append(lv1)\n",
        "    y_data_2.append(lv2)\n",
        "    y_data_3.append(lv3)\n",
        "    y_data_4.append(lv4)\n",
        "\n",
        "#Unmatched lemmas\n",
        "y_data_5 = []\n",
        "\n",
        "for i in range(len(y_data_1)):\n",
        "    diff = x_data[i] - y_data_1[i] - y_data_2[i] - y_data_3[i] - y_data_4[i]\n",
        "    y_data_5.append(diff)\n",
        "\n",
        "info = []\n",
        "info = list(text_contents.keys())\n",
        "name_to_number = {}\n",
        "\n",
        "\n",
        "for i, name in enumerate(set(info)):\n",
        "    name_to_number[name] = i\n",
        "\n",
        "info_n = [i for i in range(len(info))] # Заменяем имена на цифры для bar graph\n",
        "\n",
        "\n",
        "\n",
        "percentages_1 = [y / x * 100 for y, x in zip(y_data_1, x_data)]\n",
        "percentages_2 = [y / x * 100 for y, x in zip(y_data_2, x_data)]\n",
        "percentages_3 = [y / x * 100 for y, x in zip(y_data_3, x_data)]\n",
        "percentages_4 = [y / x * 100 for y, x in zip(y_data_4, x_data)]\n",
        "percentages_5 = [y / x * 100 for y, x in zip(y_data_5, x_data)]\n",
        "\n",
        "\n",
        "# Записываем данные словарь и из него делаем dataframe\n",
        "dict = {'Number': info_n, 'File_Name': info, 'Unique_Lemmas': x_data, 'A1 %':percentages_1, 'A2 %':percentages_2, 'B1 %':percentages_3, 'B2 %':percentages_4, 'Unmatched lemmas %':percentages_5}\n",
        "\n",
        "df = pd.DataFrame(dict)\n",
        "\n",
        "# Сохраняем dataframe как csv файл\n",
        "df.to_csv(\"students_data.csv\", encoding='utf-8', index=False)\n",
        "\n",
        "for i in range(len(y_data_1)):\n",
        "    x_data[i] = x_data[i] - y_data_5[i]\n",
        "\n",
        "percentages_1 = [y / x * 100 for y, x in zip(y_data_1, x_data)]\n",
        "percentages_2 = [y / x * 100 for y, x in zip(y_data_2, x_data)]\n",
        "percentages_3 = [y / x * 100 for y, x in zip(y_data_3, x_data)]\n",
        "percentages_4 = [y / x * 100 for y, x in zip(y_data_4, x_data)]\n",
        "\n",
        "colors = ['blue', 'green', 'red', 'orange']\n",
        "\n",
        "plt.figure(figsize=(10, 5))\n",
        "plt.style.use('seaborn')\n",
        "\n",
        "\n",
        "plt.bar(info_n, percentages_1, color=colors[0])\n",
        "plt.bar(info_n, percentages_2, bottom=percentages_1, color=colors[1])\n",
        "plt.bar(info_n, percentages_3, bottom=np.add(percentages_1, percentages_2), color=colors[2])\n",
        "plt.bar(info_n, percentages_4, bottom=np.add(np.add(percentages_1, percentages_2), percentages_3), color=colors[3])\n",
        "\n",
        "labels = ['A1', 'A2', 'B1', 'B2']\n",
        "\n",
        "plt.legend(labels, loc='center left', bbox_to_anchor=(1.0, 0.5))\n",
        "plt.xticks()\n",
        "plt.ylabel('Percentage')\n",
        "plt.show()"
      ],
      "metadata": {
        "colab": {
          "base_uri": "https://localhost:8080/",
          "height": 463
        },
        "id": "JXu3L010r3Fi",
        "outputId": "944736dd-5a3e-482b-b14f-6149cbec1346"
      },
      "execution_count": 6,
      "outputs": [
        {
          "output_type": "stream",
          "name": "stderr",
          "text": [
            "<ipython-input-6-821ea53164bf>:71: MatplotlibDeprecationWarning: The seaborn styles shipped by Matplotlib are deprecated since 3.6, as they no longer correspond to the styles shipped by seaborn. However, they will remain available as 'seaborn-v0_8-<style>'. Alternatively, directly use the seaborn API instead.\n",
            "  plt.style.use('seaborn')\n"
          ]
        },
        {
          "output_type": "display_data",
          "data": {
            "text/plain": [
              "<Figure size 1000x500 with 1 Axes>"
            ],
            "image/png": "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\n"
          },
          "metadata": {}
        }
      ]
    },
    {
      "cell_type": "code",
      "source": [
        "np.std(percentages_1)"
      ],
      "metadata": {
        "colab": {
          "base_uri": "https://localhost:8080/"
        },
        "id": "6etUAbtysLkO",
        "outputId": "8db35e6e-c477-4346-a2b7-0cc2f8af3854"
      },
      "execution_count": 7,
      "outputs": [
        {
          "output_type": "execute_result",
          "data": {
            "text/plain": [
              "3.841703716268849"
            ]
          },
          "metadata": {},
          "execution_count": 7
        }
      ]
    },
    {
      "cell_type": "code",
      "source": [
        "df = pd.read_csv('A1.csv', sep=';')\n",
        "df.index = np.arange(1, len(df) + 1)\n",
        "A1 = df[:754]"
      ],
      "metadata": {
        "id": "uqF5QGkVQ8jy"
      },
      "execution_count": 8,
      "outputs": []
    },
    {
      "cell_type": "code",
      "source": [
        "df = pd.read_csv('A2.csv', sep=';')\n",
        "df.index = np.arange(1, len(df) + 1)\n",
        "A2 = df[:1048]"
      ],
      "metadata": {
        "id": "GWKmhxMhTEgu"
      },
      "execution_count": 9,
      "outputs": []
    },
    {
      "cell_type": "code",
      "source": [
        "df = pd.read_csv('B1.csv', sep=';')\n",
        "df.index = np.arange(1, len(df) + 1)\n",
        "B1 = df[:1081]"
      ],
      "metadata": {
        "id": "008zKNiLWHFT"
      },
      "execution_count": 10,
      "outputs": []
    },
    {
      "cell_type": "code",
      "source": [
        "df = pd.read_csv('B2.csv', sep=';')\n",
        "df.index = np.arange(1, len(df) + 1)\n",
        "B2 = df[:3331]"
      ],
      "metadata": {
        "id": "EC76rJT0XJDS"
      },
      "execution_count": 11,
      "outputs": []
    },
    {
      "cell_type": "code",
      "source": [
        "slovar1 = A1['Lemma'].str.lower().tolist()\n",
        "slovar2 = A2['Unnamed: 0'].str.lower().tolist()\n",
        "slovar3 = B1['Lemma'].str.lower().tolist()\n",
        "slovar4 = B2['Lemma'].str.lower().tolist()"
      ],
      "metadata": {
        "id": "kDqXLs5PFNUs"
      },
      "execution_count": 12,
      "outputs": []
    },
    {
      "cell_type": "code",
      "source": [
        "# Matching lemmas для каждого уровня\n",
        "y_data_1 = []\n",
        "y_data_2 = []\n",
        "y_data_3 = []\n",
        "y_data_4 = []\n",
        "\n",
        "for file_name, lines in text_contents.items():\n",
        "    lv1 = 0\n",
        "    lv2 = 0\n",
        "    lv3 = 0\n",
        "    lv4 = 0\n",
        "    for i in lines:\n",
        "        if i in slovar1:\n",
        "            lv1 += 1\n",
        "        if i in slovar2:\n",
        "            lv2 += 1\n",
        "        if i in slovar3:\n",
        "            lv3 += 1\n",
        "        if i in slovar4:\n",
        "            lv4 += 1\n",
        "    y_data_1.append(lv1)\n",
        "    y_data_2.append(lv2)\n",
        "    y_data_3.append(lv3)\n",
        "    y_data_4.append(lv4)\n",
        "\n",
        "#Unmatched lemmas\n",
        "y_data_5 = []\n",
        "\n",
        "for i in range(len(y_data_1)):\n",
        "    diff = x_data[i] - y_data_1[i] - y_data_2[i] - y_data_3[i] - y_data_4[i]\n",
        "    y_data_5.append(diff)\n",
        "\n",
        "info = []\n",
        "info = list(text_contents.keys())\n",
        "name_to_number = {}\n",
        "\n",
        "\n",
        "for i, name in enumerate(set(info)):\n",
        "    name_to_number[name] = i\n",
        "\n",
        "info_n = [i for i in range(len(info))] # Заменяем имена на цифры для bar graph\n",
        "\n",
        "\n",
        "\n",
        "percentages_1 = [y / x * 100 for y, x in zip(y_data_1, x_data)]\n",
        "percentages_2 = [y / x * 100 for y, x in zip(y_data_2, x_data)]\n",
        "percentages_3 = [y / x * 100 for y, x in zip(y_data_3, x_data)]\n",
        "percentages_4 = [y / x * 100 for y, x in zip(y_data_4, x_data)]\n",
        "percentages_5 = [y / x * 100 for y, x in zip(y_data_5, x_data)]\n",
        "\n",
        "\n",
        "# Записываем данные словарь и из него делаем dataframe\n",
        "dict = {'Number': info_n, 'File_Name': info, 'Unique_Lemmas': x_data, 'A1 %':percentages_1, 'A2 %':percentages_2, 'B1 %':percentages_3, 'B2 %':percentages_4, 'Unmatched lemmas %':percentages_5}\n",
        "\n",
        "df = pd.DataFrame(dict)\n",
        "\n",
        "# Сохраняем dataframe как csv файл\n",
        "df.to_csv(\"students_data.csv\", encoding='utf-8', index=False)\n",
        "\n",
        "for i in range(len(y_data_1)):\n",
        "    x_data[i] = x_data[i] - y_data_5[i]\n",
        "\n",
        "percentages_1 = [y / x * 100 for y, x in zip(y_data_1, x_data)]\n",
        "percentages_2 = [y / x * 100 for y, x in zip(y_data_2, x_data)]\n",
        "percentages_3 = [y / x * 100 for y, x in zip(y_data_3, x_data)]\n",
        "percentages_4 = [y / x * 100 for y, x in zip(y_data_4, x_data)]\n",
        "\n",
        "colors = ['blue', 'green', 'red', 'orange']\n",
        "\n",
        "plt.figure(figsize=(10, 5))\n",
        "plt.style.use('seaborn')\n",
        "\n",
        "\n",
        "plt.bar(info_n, percentages_1, color=colors[0])\n",
        "plt.bar(info_n, percentages_2, bottom=percentages_1, color=colors[1])\n",
        "plt.bar(info_n, percentages_3, bottom=np.add(percentages_1, percentages_2), color=colors[2])\n",
        "plt.bar(info_n, percentages_4, bottom=np.add(np.add(percentages_1, percentages_2), percentages_3), color=colors[3])\n",
        "\n",
        "labels = ['A1', 'A2', 'B1', 'B2']\n",
        "\n",
        "plt.legend(labels, loc='center left', bbox_to_anchor=(1.0, 0.5))\n",
        "plt.xticks()\n",
        "plt.ylabel('Percentage')\n",
        "plt.show()"
      ],
      "metadata": {
        "colab": {
          "base_uri": "https://localhost:8080/",
          "height": 463
        },
        "id": "EJhVVlnUstVU",
        "outputId": "c7345304-8495-4a3b-cf95-0b71cbb6240e"
      },
      "execution_count": 13,
      "outputs": [
        {
          "output_type": "stream",
          "name": "stderr",
          "text": [
            "<ipython-input-13-821ea53164bf>:71: MatplotlibDeprecationWarning: The seaborn styles shipped by Matplotlib are deprecated since 3.6, as they no longer correspond to the styles shipped by seaborn. However, they will remain available as 'seaborn-v0_8-<style>'. Alternatively, directly use the seaborn API instead.\n",
            "  plt.style.use('seaborn')\n"
          ]
        },
        {
          "output_type": "display_data",
          "data": {
            "text/plain": [
              "<Figure size 1000x500 with 1 Axes>"
            ],
            "image/png": "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\n"
          },
          "metadata": {}
        }
      ]
    },
    {
      "cell_type": "code",
      "source": [
        "np.std(percentages_1)"
      ],
      "metadata": {
        "colab": {
          "base_uri": "https://localhost:8080/"
        },
        "id": "1b4Dl8f7sz5K",
        "outputId": "59d68791-10e1-4876-b03a-e47d752342c2"
      },
      "execution_count": 14,
      "outputs": [
        {
          "output_type": "execute_result",
          "data": {
            "text/plain": [
              "12.360791238894853"
            ]
          },
          "metadata": {},
          "execution_count": 14
        }
      ]
    },
    {
      "cell_type": "code",
      "source": [
        "df = pd.read_csv('new_vocab_a1.csv', sep=';')\n",
        "df.index = np.arange(1, len(df) + 1)\n",
        "i = 1\n",
        "for word in df['а']:\n",
        "  if len(word) < 2:\n",
        "    df.drop(index = i, inplace = True)\n",
        "  else:\n",
        "    i += 1\n",
        "nv1 = df"
      ],
      "metadata": {
        "id": "U4Bxcq4ls9En"
      },
      "execution_count": 15,
      "outputs": []
    },
    {
      "cell_type": "code",
      "source": [
        "df = pd.read_csv('new_vocab_a2.csv', sep=';')\n",
        "df.index = np.arange(1, len(df) + 1)\n",
        "i = 1\n",
        "for word in df['а']:\n",
        "  if len(word) < 2:\n",
        "    df.drop(index = i, inplace = True)\n",
        "  else:\n",
        "    i += 1\n",
        "nv2 = df"
      ],
      "metadata": {
        "id": "Wm8-VV060V2S"
      },
      "execution_count": 16,
      "outputs": []
    },
    {
      "cell_type": "code",
      "source": [
        "df = pd.read_csv('new_vocab_b1.csv', sep=';')\n",
        "df.index = np.arange(1, len(df) + 1)\n",
        "i = 1\n",
        "for word in df['а']:\n",
        "  if len(word) < 2:\n",
        "    df.drop(index = i, inplace = True)\n",
        "  else:\n",
        "    i += 1\n",
        "nv3 = df"
      ],
      "metadata": {
        "id": "3knprXCl0nsD"
      },
      "execution_count": 17,
      "outputs": []
    },
    {
      "cell_type": "code",
      "source": [
        "df = pd.read_csv('new_vocab_b2.csv', sep=';')\n",
        "df.index = np.arange(1, len(df) + 1)\n",
        "i = 1\n",
        "for word in df['а']:\n",
        "  if len(word) < 2:\n",
        "    df.drop(index = i, inplace = True)\n",
        "  else:\n",
        "    i += 1\n",
        "nv4 = df"
      ],
      "metadata": {
        "id": "cB5W9R7b04Gb"
      },
      "execution_count": 18,
      "outputs": []
    },
    {
      "cell_type": "code",
      "source": [
        "slovar1 = nv1['а'].str.lower().tolist()\n",
        "data8 = nv2['а'].str.lower().tolist()\n",
        "slovar2 = list(set(data8) - set(slovar1))\n",
        "data7 = nv3['а'].str.lower().tolist()\n",
        "slovar3 = list(set(data7) - set(data8))\n",
        "data6 = nv4['а'].str.lower().tolist()\n",
        "slovar4 = list(set(data6) - set(data7))"
      ],
      "metadata": {
        "id": "Db2oJb90IHBL"
      },
      "execution_count": 19,
      "outputs": []
    },
    {
      "cell_type": "code",
      "source": [
        "# Matching lemmas для каждого уровня\n",
        "y_data_1 = []\n",
        "y_data_2 = []\n",
        "y_data_3 = []\n",
        "y_data_4 = []\n",
        "\n",
        "for file_name, lines in text_contents.items():\n",
        "    lv1 = 0\n",
        "    lv2 = 0\n",
        "    lv3 = 0\n",
        "    lv4 = 0\n",
        "    for i in lines:\n",
        "        if i in slovar1:\n",
        "            lv1 += 1\n",
        "        if i in slovar2:\n",
        "            lv2 += 1\n",
        "        if i in slovar3:\n",
        "            lv3 += 1\n",
        "        if i in slovar4:\n",
        "            lv4 += 1\n",
        "    y_data_1.append(lv1)\n",
        "    y_data_2.append(lv2)\n",
        "    y_data_3.append(lv3)\n",
        "    y_data_4.append(lv4)\n",
        "\n",
        "#Unmatched lemmas\n",
        "y_data_5 = []\n",
        "\n",
        "for i in range(len(y_data_1)):\n",
        "    diff = x_data[i] - y_data_1[i] - y_data_2[i] - y_data_3[i] - y_data_4[i]\n",
        "    y_data_5.append(diff)\n",
        "\n",
        "info = []\n",
        "info = list(text_contents.keys())\n",
        "name_to_number = {}\n",
        "\n",
        "\n",
        "for i, name in enumerate(set(info)):\n",
        "    name_to_number[name] = i\n",
        "\n",
        "info_n = [i for i in range(len(info))] # Заменяем имена на цифры для bar graph\n",
        "\n",
        "\n",
        "\n",
        "percentages_1 = [y / x * 100 for y, x in zip(y_data_1, x_data)]\n",
        "percentages_2 = [y / x * 100 for y, x in zip(y_data_2, x_data)]\n",
        "percentages_3 = [y / x * 100 for y, x in zip(y_data_3, x_data)]\n",
        "percentages_4 = [y / x * 100 for y, x in zip(y_data_4, x_data)]\n",
        "percentages_5 = [y / x * 100 for y, x in zip(y_data_5, x_data)]\n",
        "\n",
        "\n",
        "# Записываем данные словарь и из него делаем dataframe\n",
        "dict = {'Number': info_n, 'File_Name': info, 'Unique_Lemmas': x_data, 'A1 %':percentages_1, 'A2 %':percentages_2, 'B1 %':percentages_3, 'B2 %':percentages_4, 'Unmatched lemmas %':percentages_5}\n",
        "\n",
        "df = pd.DataFrame(dict)\n",
        "\n",
        "# Сохраняем dataframe как csv файл\n",
        "df.to_csv(\"students_data.csv\", encoding='utf-8', index=False)\n",
        "\n",
        "for i in range(len(y_data_1)):\n",
        "    x_data[i] = x_data[i] - y_data_5[i]\n",
        "\n",
        "percentages_1 = [y / x * 100 for y, x in zip(y_data_1, x_data)]\n",
        "percentages_2 = [y / x * 100 for y, x in zip(y_data_2, x_data)]\n",
        "percentages_3 = [y / x * 100 for y, x in zip(y_data_3, x_data)]\n",
        "percentages_4 = [y / x * 100 for y, x in zip(y_data_4, x_data)]\n",
        "\n",
        "colors = ['blue', 'green', 'red', 'orange']\n",
        "\n",
        "plt.figure(figsize=(10, 5))\n",
        "plt.style.use('seaborn')\n",
        "\n",
        "\n",
        "plt.bar(info_n, percentages_1, color=colors[0])\n",
        "plt.bar(info_n, percentages_2, bottom=percentages_1, color=colors[1])\n",
        "plt.bar(info_n, percentages_3, bottom=np.add(percentages_1, percentages_2), color=colors[2])\n",
        "plt.bar(info_n, percentages_4, bottom=np.add(np.add(percentages_1, percentages_2), percentages_3), color=colors[3])\n",
        "\n",
        "labels = ['A1', 'A2', 'B1', 'B2']\n",
        "\n",
        "plt.legend(labels, loc='center left', bbox_to_anchor=(1.0, 0.5))\n",
        "plt.xticks()\n",
        "plt.ylabel('Percentage')\n",
        "plt.show()"
      ],
      "metadata": {
        "colab": {
          "base_uri": "https://localhost:8080/",
          "height": 463
        },
        "outputId": "c59d948d-7869-4cf4-b7ac-efdd233e92e8",
        "id": "kB5sYKF4tfxO"
      },
      "execution_count": 20,
      "outputs": [
        {
          "output_type": "stream",
          "name": "stderr",
          "text": [
            "<ipython-input-20-821ea53164bf>:71: MatplotlibDeprecationWarning: The seaborn styles shipped by Matplotlib are deprecated since 3.6, as they no longer correspond to the styles shipped by seaborn. However, they will remain available as 'seaborn-v0_8-<style>'. Alternatively, directly use the seaborn API instead.\n",
            "  plt.style.use('seaborn')\n"
          ]
        },
        {
          "output_type": "display_data",
          "data": {
            "text/plain": [
              "<Figure size 1000x500 with 1 Axes>"
            ],
            "image/png": "iVBORw0KGgoAAAANSUhEUgAAA5kAAAGyCAYAAABuogD6AAAAOXRFWHRTb2Z0d2FyZQBNYXRwbG90bGliIHZlcnNpb24zLjcuMSwgaHR0cHM6Ly9tYXRwbG90bGliLm9yZy/bCgiHAAAACXBIWXMAAA9hAAAPYQGoP6dpAAA0MklEQVR4nO3dfZhWdYE38O8MCLuCIGhhvkXpoiIjmhKGtpgaqykqiua7LLmm+FIET5pC6IXps4+6PWZJui5auq3soImZprW+bCaVWdpA6FM8vsGlosKooLw19/OHj1Okxsxwhjn3zedzXV5dnPPrnO9vzsw98z0v911XqVQqAQAAgALUd3UAAAAAaoeSCQAAQGGUTAAAAAqjZAIAAFAYJRMAAIDCKJkAAAAURskEAACgMEomAAAAhVEyAQAAKIySCQAAQGG6vGT+9Kc/zYgRIzJx4sR3rbv77rszevTo7LXXXjn66KPz8MMPt65raWnJ17/+9Rx00EEZNmxYPve5z+X555/fmNEBAAD4C11aMv/1X/81l156aT784Q+/a92CBQty/vnnZ/Lkyfn5z3+ecePG5ZxzzsmLL76YJPn3f//3/OAHP8j111+fBx54IAMHDszZZ5+dSqWysacBAADA/9elJbNnz56ZPXv2e5bMxsbGjBw5MiNHjkzPnj1zxBFHZNCgQbnzzjuTJLNmzcq4ceOy0047pXfv3pk4cWIWLlyYJ554YmNPAwAAgP+vS0vmqaeemi222OI9182fPz+DBw9eZ9ngwYPT1NSUlStX5g9/+MM663v37p0Pf/jDaWpq6tTMAAAAvL/uXR3g/TQ3N6dv377rLOvbt2/+8Ic/5LXXXkulUnnP9cuWLWvT9iuVSurq6grLu8G+14YsJ1bKM7Yt49sztqM5OnF+dZesf3xlWvu33ZZvu9a7vtuz3fbkbee2SzG2vePb84XurK9zZ86vs74W7foGbWeOMoxt5/w67UtXja/NnfTFaO+3XBm+jzrtWLd3fBnGliVHFf49UI3HpFO/96kppS2ZSdb7fOWGPH+5dOmK1NeXp2T2a8OYZctWlGZsW8a3Z2xHc3Tm/NqiY9vu1Unbbd/YMnydi/6e21g5Omu7ZZhfrWdu/7Fu+89rZ/1s1/prc/u+xtWXudZ/psqSoxr/HqjGY9KVf8N0tn791j832q60JbNfv35pbm5eZ1lzc3P69++fLbfcMvX19e+5fquttmrT9ltaKmlpqa6zJ2vXttTs2LLkqPXMtT6/suQwv/LlML+OjS1LjlrPXOvzK0sO8ytfjvZmpnp0+UeYvJ8hQ4Zk3rx56yxramrK0KFD07Nnz/zd3/1d5s+f37ru9ddfz3PPPZc99thjY0cFAADg/yttyTzuuOPyyCOP5MEHH8yqVasye/bsPPPMMzniiCOSJCeccEK++93vZuHChVm+fHmuvPLK7LbbbmloaOji5AAAAJuuLr1d9p1CuHbt2iTJT37ykyRvX7EcNGhQrrzyylx++eVZvHhxdt5551x33XX5wAc+kCQ5/vjj8/LLL+eUU07JihUrMnz48Hzzm9/smokAAACQpItL5vo+bmTUqFEZNWrUe66rq6vLeeedl/POO68zogEAANABpb1dFgAAgOpT2neXBeD91f1+/WOWfLrzcwDVwWtGlTupDWOWdHoKaDNXMgEAACiMK5k1zplLgBIqy1WJsuSATZC/0ahlSiYAreouXv+Y0nUORQkASkXJBDZ5ziYD8L4urqx/zIQ33v5fJ70giZIJtaM9vwQBWIeTTWyyFGM6gZJZjbwYdIyvG7AJqDvpr59wWrLEySYAOpeSCdBZnNgAoABV+bw8mzQlEwCgCq3vqnXiyjXQNZRMAIBOoggCm6L6rg4AAABA7XAlsyw8u0WN8A6NG8DrAFDj/I6ATYOSSYet7xeFXxIA5VbzbybixA1Al1Ayq5A/ClLlEywHzwkBVanWf0dU4/yqMTPQqZRMAP7k4vWffMiEP518KMOtb+058VbzJ+kAoASUTKDrOPu9UdSlDVet46o1AFAMJRNYv5KUwTJcNQOoSu28S4GOcbcEvM1HmAAAAFAYVzIBgPWq+duuXeljE+XqK51ByWST4UUUqkhJbtEGANpPySwJBaiEnNXmvfi+ANgoOus5/NI83+/3CTVMyQToJE4eAVAIhZQqo2TWuna8KJXmzB4AAB3mbzq6mpJJ6bj6AzXKc5ZQk2r+TaGAdlMyAahubiMDgFJRMqlurowAAECpKJlsHMogAABsEuq7OgAAAAC1w5VMAAD+xN1HHecZcUjiSiYAAAAFciUToCR8fA8AG52rr3QCJRMANrLSnFCo8T8uS/N1BtjEKJnAevlDrYRqvBwAANVLyQQAqkZd1n+CZUmq9wSLk3pALVAyKR9XaAAAoGopmQBsOpzEAoBOp2QC0HFKGwDwF5RM/sQfiwAAwAaq7+oAAAAA1A5XMtl0uFILAF3L72LYJCiZdNz6flH4JUHROuuPE3/0ALSqyo9ROakNY0oXurbVndSGjxta4ndrrXK7LAAAAIVRMgEAACiMkgkAAEBhPJMJwEZRlzY8nxPP5/wlzzUBUG1cyQQAAKAwrmRWI++ECQAAlJSSCRTLSRAAyszvKeh0bpcFAACgMK5kApSFs+sAQA1wJRMAAIDCKJkAAAAURskEAACgMJ7JBAAoC89mAzXAlUwAAAAK40omAKVTd/H6xyzp9BQAQEcomQCdxW1vAMAmyO2yAAAAFMaVTKqaW+oAAKBclEw2CmUQAAA2DUom0GWcfAAAqD2eyQQAAKAwSiYAUKi6VNb7HwC1S8kEAACgMJ7JBNbP5z0CbDq85gMbqNRXMn/3u9/l1FNPzT777JP99tsvkydPztKlS5Mkc+fOzdixY/Oxj30shx12WO68884uTgsAAEBpS+batWtzxhlnZM8998wjjzySu+66K0uXLs3FF1+cJUuWZMKECTn++OMzd+7cXHTRRZk6dWqampq6OjYAAMAmrbS3y7788st5+eWXc+SRR6ZHjx7p0aNHPv3pT2fmzJn5wQ9+kIEDB2bs2LFJkhEjRuTAAw9MY2NjGhoaujh5B7k1BQAAqAGlLZkDBgzIbrvtllmzZuULX/hCVq5cmfvuuy8HHHBA5s+fn8GDB68zfvDgwbnnnnvavP36+rrU19cVHbtTde/e9gvP1Ta2LDlqPXOtz68sOcyvfDnMr2Njy5Kj1jPX+vzKksP8ypejvZmpHnWVSqW07yP+/PPPZ9y4cVm0aFGS5OMf/3j+9V//NRMmTMguu+yS888/v3VsY2Njrr322jzwwANt2nalUkldXXlKZluivHOkyjC2LePXGXvJ+jdemVZpd47O2m67c1TZ2LLkaM/xa++22zO4DF+LsuQoTebOes0oy/zK8tpcgsy1fkxqfX6dmqM9vyM66TW/vePLMDYpx2toezNTW0p7JXP16tU588wzc8ghh+TMM8/Mm2++mUsuuSSTJ08uZPtLl64o2ZXMXusdsWzZihKNXf/4dceuX8dzdNZ2y/B17rrjt/FytGds27fdr13bLsvXogw5ypJ5/ap7fmV5bS5D5lo/JrU+v87edtvGdt5rfnvHl2Fs21Rj5s7Ur9/689J2pS2Zc+fOzaJFi/KlL30p3bp1yxZbbJHzzjsvRx55ZD75yU+mubl5nfHLli1L//7927z9lpZKWlqq6/TJ2rUtNTu2LDlqPXOtz68sOcyvfDnMr2Njy5Kj1jPX+vzKksP8ypejvZmpHqUtmX/84x/T0tKSP7+bd/Xq1UnefqOf73//++uMnzdvXoYOHbpRMwIA0PXqLl7/mCWdngJ4R2lL5l577ZXNN98811xzTc4888ysXLkyM2bMyLBhw3LkkUfmm9/8ZhobG3PEEUfk5z//eR566KHMmjWrq2MDUATvuA0AVau0b+nUr1+//Nu//Vt+/etf5+///u9z+OGH52/+5m9y1VVXZauttsp1112XW265JXvvvXcuu+yyXHHFFdl11127OjYAAMAmrbRXMpNkyJAhufnmm99z3bBhwzJnzpyNnAgAAIC/ptQlkxri1jcAANgklPZ2WQAAAKqPkgkAAEBhlEwAAAAK45lMqptnPQEAoFSUTAAAqCVOwtPF3C4LAABAYVzJBLqOM60AADXHlUwAAAAKo2QCAABQGCUTAACAwiiZAAAAFEbJBAAAoDBKJgAAAIVRMgEAACiMkgkAAEBhlEwAAAAKo2QCAABQGCUTAACAwiiZAAAAFEbJBAAAoDDduzoAAABskIsr6x8z4Y3OzwEkcSUTAACAAimZAAAAFEbJBAAAoDBKJgAAAIVRMgEAACiMkgkAAEBhlEwAAAAKo2QCAABQGCUTAACAwiiZAAAAFEbJBAAAoDBKJgAAAIVRMgEAACiMkgkAAEBhlEwAAAAKo2QCAABQGCUTAACAwiiZAAAAFEbJBAAAoDBKJgAAAIVRMgEAACiMkgkAAEBhlEwAAAAKo2QCAABQGCUTAACAwiiZAAAAFEbJBAAAoDBKJgAAAIVRMgEAACiMkgkAAEBhlEwAAAAKo2QCAABQmO5dHQAAAN7l4sr6x0x4o/NzAO3mSiYAAACFUTIBAAAojJIJAABAYZRMAAAACqNkAgAAUBglEwAAgML4CBOgJtVdvP4xSzo9BQDApseVTAAAAAqjZAIAAFAYJRMAAIDCKJkAAAAUpvQlc8aMGdl///2z5557Zty4cVm0aFGSZO7cuRk7dmw+9rGP5bDDDsudd97ZxUkBAAAodcn893//99x555357ne/m4cffjg777xzbrrppixZsiQTJkzI8ccfn7lz5+aiiy7K1KlT09TU1NWRAQAANmml/giTmTNn5vzzz89HP/rRJMmUKVOSJP/2b/+WgQMHZuzYsUmSESNG5MADD0xjY2MaGhq6LC8AAMCmrrQl86WXXsqiRYvy2muv5TOf+UxeffXVDB8+PBdffHHmz5+fwYMHrzN+8ODBueeee9q8/fr6utTX1xUdu1N17972C8/VNrYsOWo9c63Pryw5zK98OcyvY2PLkqPWM9f6/MqSw/zKl6O9makedZVKpdLVId7LE088keOOOy77779/LrvsslQqlZx33nnZeuuts3Llyuyyyy45//zzW8c3Njbm2muvzQMPPNCm7VcqldTVladktiXKO0eqDGPbMr49YzuaoyvntzFymN8GZL5k/YMr0yrt325Z5leCsWXJYX5emzd2DvOr7sy1Pr+y5GhvZmpLaa9kvtN9Tz/99AwYMCBJcu655+af/umfMmLEiA3e/tKlK0p2JbPXekcsW7aiRGPXP749Yzueo+vmt3FymF/HM69fdc+vDGPLksP8vDZv7BzmV92Za31+ZclR7O/sztav3/rz0nalLZlbb711kqRPnz6ty7bbbrtUKpWsWbMmzc3N64xftmxZ+vfv3+btt7RU0tJSXadP1q5tqdmxZclR65lrfX5lyWF+5cthfh0bW5YctZ651udXlhzmV74c7c1cNhv7psiOXvl9+OGH87nPfS4nnnhipk2bts66Z599NhMnTsxLL72Un/3sZwWkfFuHb4Reu3ZtfvGLX+S2225rXfbmm28WEipJttlmm/Tu3TsLFixoXbZ48eJsttlmGTlyZObNm7fO+Hnz5mXo0KGF7R8AAKDaNTY25rDDDssPf/jDrFq1qnX53Llzc/LJJ2f77bcvfJ8dKpnPP/98Dj300Jx22mmtbXjx4sU5+OCD84c//KGQYN27d8/YsWPz7W9/O88++2xeffXVfOtb38ro0aMzZsyYLF68OI2NjVm1alUeeuihPPTQQznuuOMK2TcAAEC1W7ZsWe6///6cd9556devX3784x+3rmtubs5NN92UAw44oPD9dqhkXn755Rk6dGgeeeSR1Ne/vYkPfehDOfLII/PP//zPhYWbNGlSPvnJT+bYY4/NwQcfnIEDB2bKlCnZaqutct111+WWW27J3nvvncsuuyxXXHFFdt1118L2DQAAUM3mzJmT3XbbLQMHDszo0aMze/bs1nWHHnpodtppp07Zb4eeyXz00Ufzk5/8JH379m19h9b6+vqcffbZ+fu///vCwvXo0SPTpk17173DSTJs2LDMmTOnsH0BAADUktmzZ+eEE05Ikhx55JH51re+lUWLFnXKLbJ/rkNXMuvr69Or17vfgalSqaSkn4gCAACwyXj88cfzzDPP5NBDD02S7LDDDtlzzz1z++23d/q+O1QyBw0alP/4j/9YZ1mlUsm1117rllUAAIAu1tjYmLVr1+aggw7KXnvtlb322itNTU2544470tLSue/s26HbZc8777ycfvrpueOOO7J27dqceeaZefLJJ9Pc3Jzrr7++6IwAAAC00YoVK3L33Xfnkksuyb777tu6/K233srYsWMzd+7c7Lfffp22/w6VzGHDhuX222/PrFmz0r9//2y22WY54ogjcsIJJ+RDH/pQ0RkBAABoo7vvvjs9e/bMmDFj0qNHj3XWHXjggZk9e3b5SmaS7LTTTrnwwguLzAIAAFAVyvxWNLfddltGjx79roKZJMccc0zOOeecjB8/Po8++mhaWlqydu3aNDQ0JElmzpyZYcOGbdD+O1Qyv/KVr7zvum7dumWbbbbJwQcf7PlMAACAjezWW29933UjR45MU1NTp+6/QyVzyZIlmTdvXt5888185CMfSX19fZ5++un06tUr22+/fR5++OHMmDEjV199dQ4++OCiMwMAAFBSHSqZhxxySHr37p1p06alf//+SZLm5uZMnz49n/70p3PIIYfkpptuyrXXXqtkAgAAbEI69BEmM2bMyKWXXtpaMJNkyy23zLRp03L11VcnSU488cQ899xzxaQEAACgKnSoZL7yyitZuXLlu5avWbMmixcvTpK88cYb6dat24alAwAAoKp06HbZPffcM2eeeWbOOOOM7Ljjjtlss83y3HPP5YYbbsiuu+6a1atX5+yzz17nM1kAAACofR0qmZdffnmmTJmSL3zhC6mrq0uSVCqV7LHHHvna176WHj16pH///pk6dWqhYQEAACi3DpXM7bbbLjfeeGNeffXVvPjii2lpackHP/jBDBgwIK+99lqS5Nprry00KAAAAOXXoZL5jq222ipbbbVV67+XL1+eUaNG5Re/+MUGBwMAAKD6dKhkLl26NF/72tfy+OOPZ9WqVa3Lly9fvs47zgIAALBp6dC7y1566aX5/e9/n8MOOyzLli3Lsccem7/7u7/Lrrvumu9+97tFZwQAAKBKdOhK5i9+8Yvccccd+cAHPpDvfOc7+cIXvpAkufrqq/OTn/wk48aNKzIjAABAqdRdUrdR91eZVunQ/+/hhx/O5z73uZx44omZNm1a6/KVK1fmqquuyr333ps333wzDQ0N+cpXvpJBgwZtcNYOXclcvnx5PvCBDyRJ6urqsnbt2iTJqaeemu985zsbHAoAAIAN19jYmMMOOyw//OEP13nU8Yorrshjjz2WW2+9Nf/93/+dbbfdNuecc04h++xQydxxxx1zzz33JEkGDBiQn/3sZ0ne/hiTd95dFgAAgK6zbNmy3H///TnvvPPSr1+//PjHP25d17t373z5y1/Otttum8033zynnXZann322bz00ksbvN8O3S57+umn50tf+lI+8YlPZPTo0Zk4cWKGDRuWhQsXZs8999zgUAAAAGyYOXPmZLfddsvAgQMzevTozJ49O4cffniSZOLEieuMfeGFF9KzZ89sueWWG7zfDpXMI488MjvttFO23HLLnH322amvr8+vf/3rjBw5MhMmTNjgUAAAAGyY2bNn54QTTkjydof71re+lUWLFmX77bdfZ9xrr72Wr33taxk/fnx69uy5wfvt0O2ys2fPzpAhQ5K8/UzmhAkTcsMNN2TSpEn5/ve/v8GhAAAA6LjHH388zzzzTA499NAkyQ477JA999wzt99++zrjlixZklNOOSW77bZbzj333EL23aGSOX369Pdc/sYbb+Qb3/jGBgUCAABgwzQ2Nmbt2rU56KCDstdee2WvvfZKU1NT7rjjjrS0tCRJnnvuuRx//PHZe++98y//8i/p1q1bIftu1+2yM2fOzMyZM7N69ersv//+71q/fPnyfOhDHyokGAAAAO23YsWK3H333bnkkkuy7777ti5/6623Mnbs2MydOze77bZbxo8fn6OPPrqwd5V9R7tK5vHHH5+BAwfm3HPPzfHHH/+u9X/7t3+bUaNGFRYOAACA9rn77rvTs2fPjBkzJj169Fhn3YEHHpjZs2enV69eGTp0aOEFM2lnydx8881z4IEH5sILL8xJJ51UeBgAAIBqUJlW6eoI7+u2227L6NGj31Uwk+SYY47JOeeck9WrV2ezzTbLfffdt8766dOn56ijjtqg/Xfo3WVPOumkLFy4MP/n//yfdT7Q8x0bGgoAAICOufXWW9933ciRI9PU1NSp++9Qybzhhhty5ZVXvue6uro6JRMAAGAT1aGS+d3vfjdf+cpXcsQRR6RXr15FZwIAAKBKdahkrlixIqeeemrq6uqKzgMAAEAV69DnZO6zzz558skni84CAABAlevQlcxTTjklX/3qV3PUUUdlhx12SH39ul31vT5DEwAAgNrXoZJ5+umnJ8l7vitRXV1dFixYsGGpADbUxW14W/EJb3R+DgCATUyHSuZ//dd/FZ0DAACAGtChkrnddtslSdasWZMXX3wxO+ywQ6GhAAAAqE4deuOflStX5vzzz89ee+2VQw89NEny+uuv5/TTT8/rr79eaEAAAACqR4dK5hVXXJEFCxbkyiuvTLdu3VqX//GPf8yVV15ZWDgAAADa78ADD8zuu++ehoaG7LHHHtlvv/0yadKkvPTSS61jnn322Rx99NHZb7/9Ct13h0rmvffem2984xs55JBDWpf16dMnl19+ee67777CwgEAAJRSXd3G/a8DpkyZkqampvz2t7/N7bffnldeeSVf/epXkyRz587NySefnO23377Ir0qSDpbMFStWZODAge9a3r9//7z55psbmgkAAIACDRgwIKNGjcrTTz+dJGlubs5NN92UAw44oPB9dahk7rjjjvnFL36RJKlU/vQxAT/60Y+y7bbbFpMMAACADVapVPL8889nzpw5Ofzww5Mkhx56aHbaaadO2V+H3l32xBNPzLnnnptjjjkmLS0tufHGGzNv3rzce++9ueiii4rOCAAAQDtdeumlueyyy1KpVLJmzZp84hOfyEknndTp++1QyfzsZz+b7t2755Zbbkm3bt3y7W9/Ox/5yEdy5ZVXrvOcJgAAAF1jypQpOeGEE5K8/WkgN998c4466qjceeed6devX6ftt0MlM0mOOeaYHHPMMUVmAQAAoBP06dMnZ599dm677bbcc889OfHEEzttXx16JnP16tWZPn16fvazn7Uu+8///M9cfPHFWbVqVWHhAAAAKFZnd7YOf07mI488kv79+7cu22233fLEE0/4nEwAAICSWbVqVW688cYsW7YsBx10UKfuq0O3y95333259dZb86EPfah1WUNDQ2bMmJHPfvaz3vwHAACgi73zxj9J0rNnzwwePDg33HBDdtxxx4wfPz6PPvpoWlpasnbt2jQ0NCRJZs6cmWHDhm3QfjtUMt94441stdVW71q+xRZb5PXXX9+gQAAAAKX3Zx/lWEb333//X10/c+bMTtt3h26XHTJkSG644Ya0tLS0Llu9enW++c1vZtdddy0sHAAAANWlQ1cyzz///IwfPz7f+c53su2226alpSWLFi1Kt27d8r3vfa/ojAAAAFSJDpXM3XffPXfffXfuuuuuPPfcc6mvr89xxx2X0aNHp0+fPkVnBAAAoEp0qGTedNNNGTduXE477bSi8wAAAFDFOvRM5owZM/Lmm28WnQUAAIAq16GSOXny5EyfPj1PPvlkVqxYkdWrV6/zHwAAAJumDt0u+7/+1//K6tWrc8cdd7zn+gULFmxIJgAAAKpUh0rmhRdeWHQOAAAAakCHSuaYMWOKzgEAAEAN6NAzmUly22235ZRTTslBBx2UJFm9enWuv/76woIBAABQfTp0JfPmm2/O17/+9YwZMyZPPPFEkmTZsmX53ve+lyQ544wziksIAABQNt+r27j7O7HSruEHHnhgXnrppdTX16euri5bbLFF9t1333z5y1/OgAEDsnLlylx11VW599578+abb6ahoSFf+cpXMmjQoA2O2qErmbfcckuuvfbaTJ06NXV1b39xBwwYkGuuuSa33nrrBocCAABgw0yZMiVNTU357W9/m9tvvz2vvPJKvvrVryZJrrjiijz22GO59dZb89///d/Zdtttc8455xSy3w6VzBdffDHDhw9/1/Ldd989L7/88gaHAgAAoDgDBgzIqFGj8vTTTydJevfunS9/+cvZdttts/nmm+e0007Ls88+m5deemmD99Wh22U/+MEP5rnnnsuHP/zhdZbPmzcvffv23eBQAAAAFKNSqWTRokWZM2dODj/88CTJxIkT1xnzwgsvpGfPntlyyy03eH8dupJ58MEH54tf/GIefPDBVCqVzJ8/P7Nmzcq5556bww47bINDAQAAsGEuvfTSNDQ0pKGhIQcffHA233zznHTSSe8a99prr+VrX/taxo8fn549e27wfjtUMidOnJhBgwZlwoQJWb16dY455phMnz49Bx10UCZNmrTBoQAAANgw7zyTOW/evDz66KMZNmxYjjrqqCxbtqx1zJIlS3LKKadkt912y7nnnlvIftt9u+zy5cvzm9/8JkcddVS+9KUv5aWXXkrPnj2z44475m//9m8LCQUAAEBx+vTpk7PPPju33XZb7rnnnpx44ol57rnnMm7cuIwcOTJTpkxJt27dCtlXu0rm008/nRNPPLG1+X70ox/NzJkzs8022xQSBgAAgM61atWqLF26NOPHj8/RRx9d2LvKvqNdt8t+4xvfyD777JMHH3wwP/7xj7Pjjjvm6quvLjQQAAAAxVq1alVuvPHGLFu2LAcddFD+5V/+JUOHDi28YCbtLJmPPPJILrroomyzzTbZYYcdMmXKlPzyl78sPNR7ueyyy7LLLru0/nvu3LkZO3ZsPvaxj+Wwww7LnXfeuVFyAAAAVIM/f+Of/fbbLw888EBuuOGG7Ljjjrntttty7733tq5/57877rhjg/fbrttl33rrrXVujd1+++3zyiuvbHCI9VmwYEHmzJnT+u8lS5ZkwoQJueiiizJ69Og89thjOeuss/KRj3wkDQ0NnZ4HAADYxJ1Y6eoEf9X999//V9cvWLCg0/bdriuZdXV1nZXjfbW0tGTatGkZN25c67If/OAHGThwYMaOHZuePXtmxIgROfDAA9PY2LjR8wEAAPAn7X532Y3t1ltvTc+ePTN69Oj87//9v5Mk8+fPz+DBg9cZN3jw4Nxzzz1t3m59fV3q6zd+ad4Q3bu3/ZxAtY0tS45az1zr8ytLDvMrXw7z69jYsuSo9cy1Pr+y5DC/8uVob2aqR12lUmnzdd7Bgwfn0EMPXWfZPffc865lV111VSHhXnnllYwePTo333xz/uZv/iYHHXRQnnrqqYwfPz677LJLzj///NaxjY2Nufbaa/PAAw+0aduVSqVLrsy+n7ZEeedIlWFsW8a3Z2xHc3Tl/DZGDvOr7sy1Pr+y5DA/r80bO4f5VXfmWp9fWXK0NzO1pV1XMvfee+8sWbJkvcuKcvnll+foo4/OzjvvnEWLFhW67aVLV5TsSmav9Y5YtmxFicauf3x7xnY8R9fNb+PkML/qzlzr8ytLDvPz2ryxc5hfdWeu9fmVJUd7M3etfv3Wn5e2a1fJvPnmmzsrx7vMnTs3v/nNb3LXXXe9a12/fv3S3Ny8zrJly5alf//+bd5+S0slLS3Vdfpk7dqWmh1blhy1nrnW51eWHOZXvhzm17GxZclR65lrfX5lyWF+5cvR3sxUj9I+k3nnnXfm1Vdfzac+9akkb9/emiTDhw/P+PHj31U+582bl6FDh270nAAAAPxJaUvmBRdckC984Qut/37xxRfz2c9+NnPmzElLS0uuu+66NDY25ogjjsjPf/7zPPTQQ5k1a1YXJgYAAKC0JbNv377p27dv67/Xrl2bJK2f03ndddfl0ksvzSWXXJLtttsuV1xxRXbdddcuyQoAAMDbSlsy/9L222+fp556qvXfw4YNy5w5c7owEQAAAH/Jh9MAAABQGCUTAACAwiiZAAAAFEbJBAAAoDBKJgAAAIVRMgEAACiMkgkAAEBhlEwAAAAKo2QCAABQGCUTAACAwiiZAAAAFEbJBAAAoDBKJgAAAIVRMgEAACiMkgkAAEBhlEwAAAAKo2QCAABQGCUTAACAwiiZAAAAFEbJBAAAoDBKJgAAAIVRMgEAACiMkgkAAEBhlEwAAAAKo2QCAABQGCUTAACAwiiZAAAAFEbJBAAAoDBKJgAAAIVRMgEAACiMkgkAAEBhlEwAAAAKo2QCAABQGCUTAACAwiiZAAAAFEbJBAAAoDBKJgAAAIVRMgEAACiMkgkAAEBhlEwAAAAKo2QCAABQGCUTAACAwiiZAAAAFEbJBAAAoDBKJgAAAIVRMgEAACiMkgkAAEBhlEwAAAAKo2QCAABQGCUTAACAwiiZAAAAFEbJBAAAoDBKJgAAAIVRMgEAACiMkgkAAEBhlEwAAAAKo2QCAABQGCUTAACAwiiZAAAAFEbJBAAAoDBKJgAAAIVRMgEAACiMkgkAAEBhlEwAAAAKo2QCAABQGCUTAACAwpS6ZC5evDhnn312hg8fnhEjRuSCCy7I66+/niRZsGBBTj755Oy9994ZNWpUZs6c2cVpAQAAKHXJPPPMM9OnT5/cf//9uf322/P73/8+//zP/5yVK1fm85//fPbdd9/89Kc/zde//vVcd911ue+++7o6MgAAwCattCXz9ddfz5AhQzJp0qT06tUr22yzTcaMGZNf/epXefDBB7NmzZqcddZZ2XzzzbP77rvn2GOPzaxZs7o6NgAAwCate1cHeD99+vTJ5Zdfvs6yF154IR/84Aczf/787LLLLunWrVvrusGDB6exsbHN26+vr0t9fV1heTeG7t3bfk6g2saWJUetZ671+ZUlh/mVL4f5dWxsWXLUeuZan19Zcphf+XK0NzPVo65SqVS6OkRbNDU15eSTT86MGTNyzz335LXXXss3vvGN1vWPPPJI/vEf/zELFixIff36v2ErlUrq6spTMtsS5Z0jVYaxbRnfnrEdzdGV89sYOcyvujPX+vzKksP8vDZv7BzmV92Za31+ZcnR3szUltJeyfxzjz32WM4666xMmjQpI0aMyD333POe49pTGpcuXVGyK5m91jti2bIVJRq7/vHtGdvxHF03v42Tw/yqO3Otz68sOczPa/PGzmF+1Z251udXlhztzdy1+vVbf17arvQl8/7778//+B//I1OnTs1RRx2VJOnfv3+eeeaZdcY1Nzdnyy23bNNVzCRpaamkpaW6Tp+sXdtSs2PLkqPWM9f6/MqSw/zKl8P8Oja2LDlqPXOtz68sOcyvfDnam5nqUeoboX/961/n/PPPz9VXX91aMJNkyJAheeqpp7J27drWZU1NTRk6dGgXpAQAAOAdpS2Za9euzZQpUzJ58uTsv//+66wbOXJkevfunRkzZuStt97KE088kdmzZ+eEE07oorQAAAAkJS6Zjz/+eBYuXJhLL700DQ0N6/z38ssv59vf/nYeeeSRfPzjH88Xv/jFTJw4MQcccEBXxwYAANiklfaZzH322SdPPfXUXx3zH//xHxspDQAAAG1R2iuZAAAAVB8lEwAAgMIomQAAABRGyQQAAKAwSiYAAACFUTIBAAAojJIJAABAYZRMAAAACqNkAgAAUBglEwAAgMIomQAAABRGyQQAAKAwSiYAAACFUTIBAAAojJIJAABAYZRMAAAACqNkAgAAUBglEwAAgMIomQAAABRGyQQAAKAwSiYAAACFUTIBAAAojJIJAABAYZRMAAAACqNkAgAAUBglEwAAgMIomQAAABRGyQQAAKAwSiYAAACFUTIBAAAojJIJAABAYZRMAAAACqNkAgAAUBglEwAAgMIomQAAABRGyQQAAKAwSiYAAACFUTIBAAAojJIJAABAYZRMAAAACqNkAgAAUBglEwAAgMIomQAAABRGyQQAAKAwSiYAAACFUTIBAAAojJIJAABAYZRMAAAACqNkAgAAUBglEwAAgMIomQAAABRGyQQAAKAwSiYAAACFUTIBAAAojJIJAABAYZRMAAAACqNkAgAAUBglEwAAgMIomQAAABRGyQQAAKAwSiYAAACFUTIBAAAojJIJAABAYZRMAAAACqNkAgAAUBglEwAAgMJUbclcvHhxzjjjjAwfPjyf+tSncsUVV6SlpaWrYwEAAGzSund1gI4699xzs/vuu+cnP/lJXn311Xz+85/P1ltvnX/8x3/s6mgAAACbrKq8ktnU1JQnn3wykydPzhZbbJGBAwdm3LhxmTVrVldHAwAA2KRV5ZXM+fPnZ7vttkvfvn1bl+2+++55+umns3z58vTu3Xu926ivr0t9fV1nxixc9+5tPydQbWPLkqPWM9f6/MqSw/zKl8P8Oja2LDlqPXOtz68sOcyvfDnam5nqUZUls7m5OX369Fln2TuFc9myZW0qmVtttf4xG1Ol0pZRvUoztm3j2zO2Yzm6dn6dn8P8/jS2LDnM709jy5LD/P40tm3ja31+nZ/D/P40tiw5zO9PY8uSo72ZqS1Ve/qg0rbvXAAAADaiqiyZ/fv3T3Nz8zrLmpubU1dXl/79+3dNKAAAAKqzZA4ZMiQvvPBCli5d2rqsqakpO++8c3r1ctkdAACgq1RlyRw8eHAaGhpy1VVXZfny5Vm4cGFuvPHGnHDCCV0dDQAAYJNWV6nShxtffPHFTJ06Nb/85S/Tu3fvHH/88TnnnHNSV1dd7xgLAABQS6q2ZAIAAFA+VXm7LAAAAOWkZAIAAFAYJRMAAIDCKJkAAAAURsksmcWLF+eMM87I8OHD86lPfSpXXHFFWlpaujoWf8VPf/rTjBgxIhMnTnzXurvvvjujR4/OXnvtlaOPPjoPP/xwFyTk/SxevDhnn312hg8fnhEjRuSCCy7I66+/niRZsGBBTj755Oy9994ZNWpUZs6c2cVpeS9PPvlkTjvttOy9994ZMWJEvvjFL+bll19OksydOzdjx47Nxz72sRx22GG58847uzgt7+eyyy7LLrvs0vpvx6467LLLLhkyZEgaGhpa/5s+fXoSx7BazJgxI/vvv3/23HPPjBs3LosWLUri+FGACqUyZsyYypQpUyqvv/565emnn66MGjWqMnPmzK6Oxfu4/vrrK6NGjaocf/zxlS9+8YvrrPvd735XGTJkSOXBBx+srFy5sjJnzpzK0KFDKy+88EIXpeUvHX744ZULLrigsnz58soLL7xQOfrooysXXnhh5a233qp88pOfrFxzzTWVFStWVObNm1f5+Mc/Xrn33nu7OjJ/ZtWqVZVPfOITlW9+85uVVatWVV599dXKySefXJkwYULlpZdequy5556VxsbGysqVKys/+9nPKnvssUflt7/9bVfH5i/87ne/q3z84x+vDBo0qFKpVBy7KjJo0KDK888//67ljmF1uOWWWyqHHHJIZeHChZU33nijMn369Mr06dMdPwrhSmaJNDU15cknn8zkyZOzxRZbZODAgRk3blxmzZrV1dF4Hz179szs2bPz4Q9/+F3rGhsbM3LkyIwcOTI9e/bMEUcckUGDBjkbWBKvv/56hgwZkkmTJqVXr17ZZpttMmbMmPzqV7/Kgw8+mDVr1uSss87K5ptvnt133z3HHnusn8WSeeuttzJx4sR8/vOfT48ePdK/f/98+tOfzu9///v84Ac/yMCBAzN27Nj07NkzI0aMyIEHHpjGxsaujs2faWlpybRp0zJu3LjWZY5d9XMMq8PMmTMzceLEfPSjH03v3r0zZcqUTJkyxfGjEEpmicyfPz/bbbdd+vbt27ps9913z9NPP53ly5d3YTLez6mnnpotttjiPdfNnz8/gwcPXmfZ4MGD09TUtDGisR59+vTJ5Zdfnq233rp12QsvvJAPfvCDmT9/fnbZZZd069atdd3gwYMzb968rojK++jbt2+OPfbYdO/ePUnyf//v/833v//9HHrooe/78+cYlsutt96anj17ZvTo0a3LHLvqctVVV+WAAw7IPvvsk6lTp2bFihWOYRV46aWXsmjRorz22mv5zGc+k+HDh+e8887L0qVLHT8KoWSWSHNzc/r06bPOsncK57Jly7oiEhugubl5nRMGydvH07Esp6amptxyyy0566yz3vNnccstt0xzc7NnpEto8eLFGTJkSD7zmc+koaEh55133vseQz9/5fHKK6/kmmuuybRp09ZZ7thVjz333DMjRozIfffdl1mzZuXxxx/PJZdc4hhWgRdffDFJ8qMf/Sg33nhj5syZkxdffDFTpkxx/CiEklkylUqlqyNQIMezOjz22GP53Oc+l0mTJmXEiBHvO66urm4jpqKttttuuzQ1NeVHP/pRnnnmmXz5y1/u6ki0weWXX56jjz46O++8c1dHoYNmzZqVY489Nj169MhOO+2UyZMn56677sqaNWu6Ohrr8c7fJ6effnoGDBiQbbbZJueee27uv//+Lk5GrVAyS6R///5pbm5eZ1lzc3Pq6urSv3//rglFh/Xr1+89j6djWS73339/zjjjjFx44YU59dRTk7z9s/iXZ2ybm5uz5ZZbpr7ey2YZ1dXVZeDAgZk4cWLuuuuudO/e/V0/f8uWLfPzVxJz587Nb37zm5x99tnvWvder52OXXXYfvvt88c//jH19fWOYcm986jIn1+x3G677VKpVLJmzRrHjw3mr6USGTJkSF544YUsXbq0dVlTU1N23nnn9OrVqwuT0RFDhgx51/MLTU1NGTp0aBcl4i/9+te/zvnnn5+rr746Rx11VOvyIUOG5KmnnsratWtblzl25TN37tz8wz/8wzq3ML9zEmCPPfZ418/fvHnzHMOSuPPOO/Pqq6/mU5/6VIYPH56jjz46STJ8+PAMGjTIsasCv/vd7/I//+f/XGfZwoUL06NHj4wcOdIxLLltttkmvXv3zoIFC1qXLV68OJtttpnjRyGUzBIZPHhwGhoactVVV2X58uVZuHBhbrzxxpxwwgldHY0OOO644/LII4/kwQcfzKpVqzJ79uw888wzOeKII7o6GknWrl2bKVOmZPLkydl///3XWTdy5Mj07t07M2bMyFtvvZUnnngis2fP9rNYMkOGDMny5ctzxRVX5K233srSpUtzzTXXZJ999skJJ5yQxYsXp7GxMatWrcpDDz2Uhx56KMcdd1xXxybJBRdckHvvvTdz5szJnDlzcv311ydJ5syZk9GjRzt2VWCrrbbKrFmzcv3112f16tV5+umnc/XVV+ezn/1sjjzySMew5Lp3756xY8fm29/+dp599tm8+uqr+da3vpXRo0dnzJgxjh8brK7iobFSefHFFzN16tT88pe/TO/evXP88cfnnHPO8SxYSTU0NCRJ6xWvd97l8p13kL3vvvty1VVXZfHixdl5551z0UUXZdiwYV0TlnX86le/ykknnZQePXq8a92PfvSjrFixItOmTcu8efOy9dZb55/+6Z9y4okndkFS/pqnnnoql156aX77299m8803z7777psLLrggAwYMyKOPPppLL700CxcuzHbbbZdJkyZl1KhRXR2Z97Bo0aIcdNBBeeqpp5LEsasSjz76aK666qo89dRT6dGjR8aMGZOJEyemZ8+ejmEVWL16dS6//PL88Ic/zJo1a/IP//APmTp1anr16uX4scGUTAAAAArjdlkAAAAKo2QCAABQGCUTAACAwiiZAAAAFEbJBAAAoDBKJgAAAIVRMgEAACiMkgkAAEBhlEwAAAAKo2QCAABQGCUTAACAwiiZAAAAFOb/AUBV93tvzT8AAAAAAElFTkSuQmCC\n"
          },
          "metadata": {}
        }
      ]
    },
    {
      "cell_type": "code",
      "source": [
        "np.std(percentages_1)"
      ],
      "metadata": {
        "colab": {
          "base_uri": "https://localhost:8080/"
        },
        "outputId": "4618a33c-7a1f-4924-acfc-0bf5b346b4e6",
        "id": "RQEcrQWltfxP"
      },
      "execution_count": 21,
      "outputs": [
        {
          "output_type": "execute_result",
          "data": {
            "text/plain": [
              "8.792430347070212"
            ]
          },
          "metadata": {},
          "execution_count": 21
        }
      ]
    }
  ]
}
{
  "nbformat": 4,
  "nbformat_minor": 0,
  "metadata": {
    "colab": {
      "provenance": [],
      "authorship_tag": "ABX9TyOgwOFb7UnW5MbgcWIA5yMP",
      "include_colab_link": true
    },
    "kernelspec": {
      "name": "python3",
      "display_name": "Python 3"
    },
    "language_info": {
      "name": "python"
    }
  },
  "cells": [
    {
      "cell_type": "markdown",
      "metadata": {
        "id": "view-in-github",
        "colab_type": "text"
      },
      "source": [
        "<a href=\"https://colab.research.google.com/github/Vakhranev/MDB/blob/main/%D0%9F%D1%80%D0%BE%D0%B2%D0%B5%D1%80%D0%BA%D0%B0_%D1%83%D1%80%D0%BE%D0%B2%D0%BD%D1%8F_%D0%902.ipynb\" target=\"_parent\"><img src=\"https://colab.research.google.com/assets/colab-badge.svg\" alt=\"Open In Colab\"/></a>"
      ]
    },
    {
      "cell_type": "code",
      "execution_count": 6,
      "metadata": {
        "colab": {
          "base_uri": "https://localhost:8080/",
          "height": 463
        },
        "id": "ODAfeodXmSAr",
        "outputId": "d8342a8b-8b2b-461a-ea71-095331ca60aa"
      },
      "outputs": [
        {
          "output_type": "stream",
          "name": "stderr",
          "text": [
            "<ipython-input-6-4005d4608820>:142: MatplotlibDeprecationWarning: The seaborn styles shipped by Matplotlib are deprecated since 3.6, as they no longer correspond to the styles shipped by seaborn. However, they will remain available as 'seaborn-v0_8-<style>'. Alternatively, directly use the seaborn API instead.\n",
            "  plt.style.use('seaborn')\n"
          ]
        },
        {
          "output_type": "display_data",
          "data": {
            "text/plain": [
              "<Figure size 1000x500 with 1 Axes>"
            ],
            "image/png": "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\n"
          },
          "metadata": {}
        }
      ],
      "source": [
        "import glob\n",
        "import os\n",
        "from pymystem3 import Mystem\n",
        "import string\n",
        "import csv\n",
        "import matplotlib.pyplot as plt\n",
        "import numpy as np\n",
        "import pandas as pd\n",
        "\n",
        "mystem = Mystem()\n",
        "\n",
        "#folder path с текстами учеников\n",
        "students_path = r\"/content/Students_texts\"\n",
        "text_contents = {}\n",
        "\n",
        "#тут будет количество уникальных лемм\n",
        "x_data = []\n",
        "\n",
        "for text_path in glob.glob(students_path + \"/*.txt\"):\n",
        "    with open(text_path, \"r\", encoding='utf-8') as file:\n",
        "        file_name = os.path.basename(text_path) # Ключи тут являются названиями файлов текстов\n",
        "        text = file.read()\n",
        "        lemmas = [lemma for lemma in mystem.lemmatize(text) \n",
        "                  if lemma.strip() and not all(c in string.punctuation or c.isspace() for c in lemma) # убираем знаки препинания\n",
        "                  and not any(c.isalpha() and ord(c) < 128 for c in lemma)] # убираем леммы без кириллицы\n",
        "        lemmas = list(set(lemmas)) # Оставляем только уникальные леммы\n",
        "        x_data.append(len(lemmas)) # записываем количество уникальных лемм каждого текста\n",
        "        text_contents[file_name] = lemmas\n",
        "\n",
        "\n",
        "# Загружаем частотный словарь для каждой тысячи слов\n",
        "df = pd.read_csv('ru_m3.csv', sep=';')\n",
        "df.index = np.arange(1, len(df) + 1)\n",
        "df = df[['Lemma','CEFR']]\n",
        "mark1 = \"a1\"\n",
        "mark2 = \"a2\"\n",
        "mark3 = \"b1\"\n",
        "mark4 = \"b2\"\n",
        "mark5 = \"A1\"\n",
        "mark6 = \"A2\"\n",
        "mark7 = \"B1\"\n",
        "mark8 = \"B2\"\n",
        "dc1 = df.query('CEFR == @mark1 | CEFR == @mark5')\n",
        "dc2 = df.query('CEFR == @mark2 | CEFR == @mark6')\n",
        "dc3 = df.query('CEFR == @mark3 | CEFR == @mark7')\n",
        "dc4 = df.query('CEFR == @mark4 | CEFR == @mark8')\n",
        "\n",
        "l = []\n",
        "for word in dc1['Lemma']:\n",
        "  if word not in l:\n",
        "    l.append(word)\n",
        "slovar1 = l\n",
        "\n",
        "l = []\n",
        "for word in dc2['Lemma']:\n",
        "  if word not in l:\n",
        "    l.append(word)\n",
        "slovar2 = l\n",
        "\n",
        "l = []\n",
        "for word in dc3['Lemma']:\n",
        "  if word not in l:\n",
        "    l.append(word)\n",
        "slovar3 = l\n",
        "\n",
        "l = []\n",
        "for word in dc4['Lemma']:\n",
        "  if word not in l:\n",
        "    l.append(word)\n",
        "slovar4 = l\n",
        "\n",
        "# Matching lemmas для каждого уровня\n",
        "y_data_1 = []\n",
        "y_data_2 = []\n",
        "y_data_3 = []\n",
        "y_data_4 = []\n",
        "\n",
        "for file_name, lines in text_contents.items():\n",
        "    lv1 = 0\n",
        "    lv2 = 0\n",
        "    lv3 = 0\n",
        "    lv4 = 0\n",
        "    for i in lines:\n",
        "        if i in slovar1:\n",
        "            lv1 += 1\n",
        "        if i in slovar2:\n",
        "            lv2 += 1\n",
        "        if i in slovar3:\n",
        "            lv3 += 1\n",
        "        if i in slovar4:\n",
        "            lv4 += 1\n",
        "    y_data_1.append(lv1)\n",
        "    y_data_2.append(lv2)\n",
        "    y_data_3.append(lv3)\n",
        "    y_data_4.append(lv4)\n",
        "\n",
        "#Unmatched lemmas\n",
        "y_data_5 = []\n",
        "\n",
        "for i in range(len(y_data_1)):\n",
        "    diff = x_data[i] - y_data_1[i] - y_data_2[i] - y_data_3[i] - y_data_4[i]\n",
        "    y_data_5.append(diff)\n",
        "\n",
        "info = []\n",
        "info = list(text_contents.keys())\n",
        "name_to_number = {}\n",
        "\n",
        "\n",
        "for i, name in enumerate(set(info)):\n",
        "    name_to_number[name] = i\n",
        "\n",
        "info_n = [i for i in range(len(info))] # Заменяем имена на цифры для bar graph\n",
        "\n",
        "\n",
        "\n",
        "percentages_1 = [y / x * 100 for y, x in zip(y_data_1, x_data)]\n",
        "percentages_2 = [y / x * 100 for y, x in zip(y_data_2, x_data)]\n",
        "percentages_3 = [y / x * 100 for y, x in zip(y_data_3, x_data)]\n",
        "percentages_4 = [y / x * 100 for y, x in zip(y_data_4, x_data)]\n",
        "percentages_5 = [y / x * 100 for y, x in zip(y_data_5, x_data)]\n",
        "\n",
        "\n",
        "# Записываем данные словарь и из него делаем dataframe\n",
        "dict = {'Number': info_n, 'File_Name': info, 'Unique_Lemmas': x_data, 'A1 %':percentages_1, 'A2 %':percentages_2, 'B1 %':percentages_3, 'B2 %':percentages_4, 'Unmatched lemmas %':percentages_5}\n",
        "\n",
        "df = pd.DataFrame(dict)\n",
        "\n",
        "# Сохраняем dataframe как csv файл\n",
        "df.to_csv(\"students_data.csv\", encoding='utf-8', index=False)\n",
        "\n",
        "for i in range(len(y_data_1)):\n",
        "    x_data[i] = x_data[i] - y_data_5[i]\n",
        "\n",
        "percentages_1 = [y / x * 100 for y, x in zip(y_data_1, x_data)]\n",
        "percentages_2 = [y / x * 100 for y, x in zip(y_data_2, x_data)]\n",
        "percentages_3 = [y / x * 100 for y, x in zip(y_data_3, x_data)]\n",
        "percentages_4 = [y / x * 100 for y, x in zip(y_data_4, x_data)]\n",
        "\n",
        "colors = ['blue', 'green', 'red', 'orange']\n",
        "\n",
        "plt.figure(figsize=(10, 5))\n",
        "plt.style.use('seaborn')\n",
        "\n",
        "\n",
        "plt.bar(info_n, percentages_1, color=colors[0])\n",
        "plt.bar(info_n, percentages_2, bottom=percentages_1, color=colors[1])\n",
        "plt.bar(info_n, percentages_3, bottom=np.add(percentages_1, percentages_2), color=colors[2])\n",
        "plt.bar(info_n, percentages_4, bottom=np.add(np.add(percentages_1, percentages_2), percentages_3), color=colors[3])\n",
        "\n",
        "labels = ['A1', 'A2', 'B1', 'B2']\n",
        "\n",
        "plt.legend(labels, loc='center left', bbox_to_anchor=(1.0, 0.5))\n",
        "plt.xticks()\n",
        "plt.ylabel('Percentage')\n",
        "plt.show()"
      ]
    },
    {
      "cell_type": "code",
      "source": [
        "np.std(percentages_1+percentages_2)"
      ],
      "metadata": {
        "colab": {
          "base_uri": "https://localhost:8080/"
        },
        "id": "LBZ6nKPWqhrW",
        "outputId": "f686a6b4-ec6b-4337-ab21-33dd475e3ac7"
      },
      "execution_count": 7,
      "outputs": [
        {
          "output_type": "execute_result",
          "data": {
            "text/plain": [
              "27.387477204885165"
            ]
          },
          "metadata": {},
          "execution_count": 7
        }
      ]
    },
    {
      "cell_type": "code",
      "source": [
        "df = pd.read_csv('lemmas_levels.csv', sep=',')\n",
        "df.index = np.arange(1, len(df) + 1)\n",
        "mark1 = \"1E\"\n",
        "mark2 = \"2I\"\n",
        "mark3 = \"3AU\"\n",
        "mark4 = \"4S\"\n",
        "ll1 = df.query('level == @mark1')\n",
        "ll2 = df.query('level == @mark2')\n",
        "ll3 = df.query('level == @mark3')\n",
        "ll4 = df.query('level == @mark4')"
      ],
      "metadata": {
        "id": "ntv8qZ-uBHi1"
      },
      "execution_count": 8,
      "outputs": []
    },
    {
      "cell_type": "code",
      "source": [
        "slovar1 = ll1['lemma'].str.strip('\\'').tolist()\n",
        "slovar2 = ll2['lemma'].str.strip('\\'').tolist()\n",
        "slovar3 = ll3['lemma'].str.strip('\\'').tolist()\n",
        "slovar4 = ll4['lemma'].str.strip('\\'').tolist()"
      ],
      "metadata": {
        "id": "eH6lUV_yBP_d"
      },
      "execution_count": 9,
      "outputs": []
    },
    {
      "cell_type": "code",
      "source": [
        "# Matching lemmas для каждого уровня\n",
        "y_data_1 = []\n",
        "y_data_2 = []\n",
        "y_data_3 = []\n",
        "y_data_4 = []\n",
        "\n",
        "for file_name, lines in text_contents.items():\n",
        "    lv1 = 0\n",
        "    lv2 = 0\n",
        "    lv3 = 0\n",
        "    lv4 = 0\n",
        "    for i in lines:\n",
        "        if i in slovar1:\n",
        "            lv1 += 1\n",
        "        if i in slovar2:\n",
        "            lv2 += 1\n",
        "        if i in slovar3:\n",
        "            lv3 += 1\n",
        "        if i in slovar4:\n",
        "            lv4 += 1\n",
        "    y_data_1.append(lv1)\n",
        "    y_data_2.append(lv2)\n",
        "    y_data_3.append(lv3)\n",
        "    y_data_4.append(lv4)\n",
        "\n",
        "#Unmatched lemmas\n",
        "y_data_5 = []\n",
        "\n",
        "for i in range(len(y_data_1)):\n",
        "    diff = x_data[i] - y_data_1[i] - y_data_2[i] - y_data_3[i] - y_data_4[i]\n",
        "    y_data_5.append(diff)\n",
        "\n",
        "info = []\n",
        "info = list(text_contents.keys())\n",
        "name_to_number = {}\n",
        "\n",
        "\n",
        "for i, name in enumerate(set(info)):\n",
        "    name_to_number[name] = i\n",
        "\n",
        "info_n = [i for i in range(len(info))] # Заменяем имена на цифры для bar graph\n",
        "\n",
        "\n",
        "\n",
        "percentages_1 = [y / x * 100 for y, x in zip(y_data_1, x_data)]\n",
        "percentages_2 = [y / x * 100 for y, x in zip(y_data_2, x_data)]\n",
        "percentages_3 = [y / x * 100 for y, x in zip(y_data_3, x_data)]\n",
        "percentages_4 = [y / x * 100 for y, x in zip(y_data_4, x_data)]\n",
        "percentages_5 = [y / x * 100 for y, x in zip(y_data_5, x_data)]\n",
        "\n",
        "\n",
        "# Записываем данные словарь и из него делаем dataframe\n",
        "dict = {'Number': info_n, 'File_Name': info, 'Unique_Lemmas': x_data, 'A1 %':percentages_1, 'A2 %':percentages_2, 'B1 %':percentages_3, 'B2 %':percentages_4, 'Unmatched lemmas %':percentages_5}\n",
        "\n",
        "df = pd.DataFrame(dict)\n",
        "\n",
        "# Сохраняем dataframe как csv файл\n",
        "df.to_csv(\"students_data.csv\", encoding='utf-8', index=False)\n",
        "\n",
        "for i in range(len(y_data_1)):\n",
        "    x_data[i] = x_data[i] - y_data_5[i]\n",
        "\n",
        "percentages_1 = [y / x * 100 for y, x in zip(y_data_1, x_data)]\n",
        "percentages_2 = [y / x * 100 for y, x in zip(y_data_2, x_data)]\n",
        "percentages_3 = [y / x * 100 for y, x in zip(y_data_3, x_data)]\n",
        "percentages_4 = [y / x * 100 for y, x in zip(y_data_4, x_data)]\n",
        "\n",
        "colors = ['blue', 'green', 'red', 'orange']\n",
        "\n",
        "plt.figure(figsize=(10, 5))\n",
        "plt.style.use('seaborn')\n",
        "\n",
        "\n",
        "plt.bar(info_n, percentages_1, color=colors[0])\n",
        "plt.bar(info_n, percentages_2, bottom=percentages_1, color=colors[1])\n",
        "plt.bar(info_n, percentages_3, bottom=np.add(percentages_1, percentages_2), color=colors[2])\n",
        "plt.bar(info_n, percentages_4, bottom=np.add(np.add(percentages_1, percentages_2), percentages_3), color=colors[3])\n",
        "\n",
        "labels = ['A1', 'A2', 'B1', 'B2']\n",
        "\n",
        "plt.legend(labels, loc='center left', bbox_to_anchor=(1.0, 0.5))\n",
        "plt.xticks()\n",
        "plt.ylabel('Percentage')\n",
        "plt.show()"
      ],
      "metadata": {
        "colab": {
          "base_uri": "https://localhost:8080/",
          "height": 463
        },
        "id": "JXu3L010r3Fi",
        "outputId": "52e2fdd0-22e1-4fbe-bd71-8d70b0b40704"
      },
      "execution_count": 10,
      "outputs": [
        {
          "output_type": "stream",
          "name": "stderr",
          "text": [
            "<ipython-input-10-821ea53164bf>:71: MatplotlibDeprecationWarning: The seaborn styles shipped by Matplotlib are deprecated since 3.6, as they no longer correspond to the styles shipped by seaborn. However, they will remain available as 'seaborn-v0_8-<style>'. Alternatively, directly use the seaborn API instead.\n",
            "  plt.style.use('seaborn')\n"
          ]
        },
        {
          "output_type": "display_data",
          "data": {
            "text/plain": [
              "<Figure size 1000x500 with 1 Axes>"
            ],
            "image/png": "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\n"
          },
          "metadata": {}
        }
      ]
    },
    {
      "cell_type": "code",
      "source": [
        "np.std(percentages_1+percentages_2)"
      ],
      "metadata": {
        "colab": {
          "base_uri": "https://localhost:8080/"
        },
        "id": "6etUAbtysLkO",
        "outputId": "591e7fa1-c9d5-4747-839d-21d080ecf881"
      },
      "execution_count": 11,
      "outputs": [
        {
          "output_type": "execute_result",
          "data": {
            "text/plain": [
              "44.4588111003698"
            ]
          },
          "metadata": {},
          "execution_count": 11
        }
      ]
    },
    {
      "cell_type": "code",
      "source": [
        "df = pd.read_csv('A1.csv', sep=';')\n",
        "df.index = np.arange(1, len(df) + 1)\n",
        "A1 = df[:754]"
      ],
      "metadata": {
        "id": "uqF5QGkVQ8jy"
      },
      "execution_count": 12,
      "outputs": []
    },
    {
      "cell_type": "code",
      "source": [
        "df = pd.read_csv('A2.csv', sep=';')\n",
        "df.index = np.arange(1, len(df) + 1)\n",
        "A2 = df[:1048]"
      ],
      "metadata": {
        "id": "GWKmhxMhTEgu"
      },
      "execution_count": 13,
      "outputs": []
    },
    {
      "cell_type": "code",
      "source": [
        "df = pd.read_csv('B1.csv', sep=';')\n",
        "df.index = np.arange(1, len(df) + 1)\n",
        "B1 = df[:1081]"
      ],
      "metadata": {
        "id": "008zKNiLWHFT"
      },
      "execution_count": 14,
      "outputs": []
    },
    {
      "cell_type": "code",
      "source": [
        "df = pd.read_csv('B2.csv', sep=';')\n",
        "df.index = np.arange(1, len(df) + 1)\n",
        "B2 = df[:3331]"
      ],
      "metadata": {
        "id": "EC76rJT0XJDS"
      },
      "execution_count": 15,
      "outputs": []
    },
    {
      "cell_type": "code",
      "source": [
        "slovar1 = A1['Lemma'].str.lower().tolist()\n",
        "slovar2 = A2['Unnamed: 0'].str.lower().tolist()\n",
        "slovar3 = B1['Lemma'].str.lower().tolist()\n",
        "slovar4 = B2['Lemma'].str.lower().tolist()"
      ],
      "metadata": {
        "id": "kDqXLs5PFNUs"
      },
      "execution_count": 16,
      "outputs": []
    },
    {
      "cell_type": "code",
      "source": [
        "# Matching lemmas для каждого уровня\n",
        "y_data_1 = []\n",
        "y_data_2 = []\n",
        "y_data_3 = []\n",
        "y_data_4 = []\n",
        "\n",
        "for file_name, lines in text_contents.items():\n",
        "    lv1 = 0\n",
        "    lv2 = 0\n",
        "    lv3 = 0\n",
        "    lv4 = 0\n",
        "    for i in lines:\n",
        "        if i in slovar1:\n",
        "            lv1 += 1\n",
        "        if i in slovar2:\n",
        "            lv2 += 1\n",
        "        if i in slovar3:\n",
        "            lv3 += 1\n",
        "        if i in slovar4:\n",
        "            lv4 += 1\n",
        "    y_data_1.append(lv1)\n",
        "    y_data_2.append(lv2)\n",
        "    y_data_3.append(lv3)\n",
        "    y_data_4.append(lv4)\n",
        "\n",
        "#Unmatched lemmas\n",
        "y_data_5 = []\n",
        "\n",
        "for i in range(len(y_data_1)):\n",
        "    diff = x_data[i] - y_data_1[i] - y_data_2[i] - y_data_3[i] - y_data_4[i]\n",
        "    y_data_5.append(diff)\n",
        "\n",
        "info = []\n",
        "info = list(text_contents.keys())\n",
        "name_to_number = {}\n",
        "\n",
        "\n",
        "for i, name in enumerate(set(info)):\n",
        "    name_to_number[name] = i\n",
        "\n",
        "info_n = [i for i in range(len(info))] # Заменяем имена на цифры для bar graph\n",
        "\n",
        "\n",
        "\n",
        "percentages_1 = [y / x * 100 for y, x in zip(y_data_1, x_data)]\n",
        "percentages_2 = [y / x * 100 for y, x in zip(y_data_2, x_data)]\n",
        "percentages_3 = [y / x * 100 for y, x in zip(y_data_3, x_data)]\n",
        "percentages_4 = [y / x * 100 for y, x in zip(y_data_4, x_data)]\n",
        "percentages_5 = [y / x * 100 for y, x in zip(y_data_5, x_data)]\n",
        "\n",
        "\n",
        "# Записываем данные словарь и из него делаем dataframe\n",
        "dict = {'Number': info_n, 'File_Name': info, 'Unique_Lemmas': x_data, 'A1 %':percentages_1, 'A2 %':percentages_2, 'B1 %':percentages_3, 'B2 %':percentages_4, 'Unmatched lemmas %':percentages_5}\n",
        "\n",
        "df = pd.DataFrame(dict)\n",
        "\n",
        "# Сохраняем dataframe как csv файл\n",
        "df.to_csv(\"students_data.csv\", encoding='utf-8', index=False)\n",
        "\n",
        "for i in range(len(y_data_1)):\n",
        "    x_data[i] = x_data[i] - y_data_5[i]\n",
        "\n",
        "percentages_1 = [y / x * 100 for y, x in zip(y_data_1, x_data)]\n",
        "percentages_2 = [y / x * 100 for y, x in zip(y_data_2, x_data)]\n",
        "percentages_3 = [y / x * 100 for y, x in zip(y_data_3, x_data)]\n",
        "percentages_4 = [y / x * 100 for y, x in zip(y_data_4, x_data)]\n",
        "\n",
        "colors = ['blue', 'green', 'red', 'orange']\n",
        "\n",
        "plt.figure(figsize=(10, 5))\n",
        "plt.style.use('seaborn')\n",
        "\n",
        "\n",
        "plt.bar(info_n, percentages_1, color=colors[0])\n",
        "plt.bar(info_n, percentages_2, bottom=percentages_1, color=colors[1])\n",
        "plt.bar(info_n, percentages_3, bottom=np.add(percentages_1, percentages_2), color=colors[2])\n",
        "plt.bar(info_n, percentages_4, bottom=np.add(np.add(percentages_1, percentages_2), percentages_3), color=colors[3])\n",
        "\n",
        "labels = ['A1', 'A2', 'B1', 'B2']\n",
        "\n",
        "plt.legend(labels, loc='center left', bbox_to_anchor=(1.0, 0.5))\n",
        "plt.xticks()\n",
        "plt.ylabel('Percentage')\n",
        "plt.show()"
      ],
      "metadata": {
        "colab": {
          "base_uri": "https://localhost:8080/",
          "height": 463
        },
        "id": "EJhVVlnUstVU",
        "outputId": "919bd31d-e066-428b-de35-834442238e91"
      },
      "execution_count": 17,
      "outputs": [
        {
          "output_type": "stream",
          "name": "stderr",
          "text": [
            "<ipython-input-17-821ea53164bf>:71: MatplotlibDeprecationWarning: The seaborn styles shipped by Matplotlib are deprecated since 3.6, as they no longer correspond to the styles shipped by seaborn. However, they will remain available as 'seaborn-v0_8-<style>'. Alternatively, directly use the seaborn API instead.\n",
            "  plt.style.use('seaborn')\n"
          ]
        },
        {
          "output_type": "display_data",
          "data": {
            "text/plain": [
              "<Figure size 1000x500 with 1 Axes>"
            ],
            "image/png": "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\n"
          },
          "metadata": {}
        }
      ]
    },
    {
      "cell_type": "code",
      "source": [
        "np.std(percentages_1+percentages_2)"
      ],
      "metadata": {
        "colab": {
          "base_uri": "https://localhost:8080/"
        },
        "id": "1b4Dl8f7sz5K",
        "outputId": "5d1812ef-5890-43ce-b600-abdfe2cb179b"
      },
      "execution_count": 18,
      "outputs": [
        {
          "output_type": "execute_result",
          "data": {
            "text/plain": [
              "24.405164780520096"
            ]
          },
          "metadata": {},
          "execution_count": 18
        }
      ]
    },
    {
      "cell_type": "code",
      "source": [
        "df = pd.read_csv('new_vocab_a1.csv', sep=';')\n",
        "df.index = np.arange(1, len(df) + 1)\n",
        "i = 1\n",
        "for word in df['а']:\n",
        "  if len(word) < 2:\n",
        "    df.drop(index = i, inplace = True)\n",
        "  else:\n",
        "    i += 1\n",
        "nv1 = df"
      ],
      "metadata": {
        "id": "U4Bxcq4ls9En"
      },
      "execution_count": 19,
      "outputs": []
    },
    {
      "cell_type": "code",
      "source": [
        "df = pd.read_csv('new_vocab_a2.csv', sep=';')\n",
        "df.index = np.arange(1, len(df) + 1)\n",
        "i = 1\n",
        "for word in df['а']:\n",
        "  if len(word) < 2:\n",
        "    df.drop(index = i, inplace = True)\n",
        "  else:\n",
        "    i += 1\n",
        "nv2 = df"
      ],
      "metadata": {
        "id": "Wm8-VV060V2S"
      },
      "execution_count": 20,
      "outputs": []
    },
    {
      "cell_type": "code",
      "source": [
        "df = pd.read_csv('new_vocab_b1.csv', sep=';')\n",
        "df.index = np.arange(1, len(df) + 1)\n",
        "i = 1\n",
        "for word in df['а']:\n",
        "  if len(word) < 2:\n",
        "    df.drop(index = i, inplace = True)\n",
        "  else:\n",
        "    i += 1\n",
        "nv3 = df"
      ],
      "metadata": {
        "id": "3knprXCl0nsD"
      },
      "execution_count": 21,
      "outputs": []
    },
    {
      "cell_type": "code",
      "source": [
        "df = pd.read_csv('new_vocab_b2.csv', sep=';')\n",
        "df.index = np.arange(1, len(df) + 1)\n",
        "i = 1\n",
        "for word in df['а']:\n",
        "  if len(word) < 2:\n",
        "    df.drop(index = i, inplace = True)\n",
        "  else:\n",
        "    i += 1\n",
        "nv4 = df"
      ],
      "metadata": {
        "id": "cB5W9R7b04Gb"
      },
      "execution_count": 22,
      "outputs": []
    },
    {
      "cell_type": "code",
      "source": [
        "slovar1 = nv1['а'].str.lower().tolist()\n",
        "data8 = nv2['а'].str.lower().tolist()\n",
        "slovar2 = list(set(data8) - set(slovar1))\n",
        "data7 = nv3['а'].str.lower().tolist()\n",
        "slovar3 = list(set(data7) - set(data8))\n",
        "data6 = nv4['а'].str.lower().tolist()\n",
        "slovar4 = list(set(data6) - set(data7))"
      ],
      "metadata": {
        "id": "Db2oJb90IHBL"
      },
      "execution_count": 23,
      "outputs": []
    },
    {
      "cell_type": "code",
      "source": [
        "# Matching lemmas для каждого уровня\n",
        "y_data_1 = []\n",
        "y_data_2 = []\n",
        "y_data_3 = []\n",
        "y_data_4 = []\n",
        "\n",
        "for file_name, lines in text_contents.items():\n",
        "    lv1 = 0\n",
        "    lv2 = 0\n",
        "    lv3 = 0\n",
        "    lv4 = 0\n",
        "    for i in lines:\n",
        "        if i in slovar1:\n",
        "            lv1 += 1\n",
        "        if i in slovar2:\n",
        "            lv2 += 1\n",
        "        if i in slovar3:\n",
        "            lv3 += 1\n",
        "        if i in slovar4:\n",
        "            lv4 += 1\n",
        "    y_data_1.append(lv1)\n",
        "    y_data_2.append(lv2)\n",
        "    y_data_3.append(lv3)\n",
        "    y_data_4.append(lv4)\n",
        "\n",
        "#Unmatched lemmas\n",
        "y_data_5 = []\n",
        "\n",
        "for i in range(len(y_data_1)):\n",
        "    diff = x_data[i] - y_data_1[i] - y_data_2[i] - y_data_3[i] - y_data_4[i]\n",
        "    y_data_5.append(diff)\n",
        "\n",
        "info = []\n",
        "info = list(text_contents.keys())\n",
        "name_to_number = {}\n",
        "\n",
        "\n",
        "for i, name in enumerate(set(info)):\n",
        "    name_to_number[name] = i\n",
        "\n",
        "info_n = [i for i in range(len(info))] # Заменяем имена на цифры для bar graph\n",
        "\n",
        "\n",
        "\n",
        "percentages_1 = [y / x * 100 for y, x in zip(y_data_1, x_data)]\n",
        "percentages_2 = [y / x * 100 for y, x in zip(y_data_2, x_data)]\n",
        "percentages_3 = [y / x * 100 for y, x in zip(y_data_3, x_data)]\n",
        "percentages_4 = [y / x * 100 for y, x in zip(y_data_4, x_data)]\n",
        "percentages_5 = [y / x * 100 for y, x in zip(y_data_5, x_data)]\n",
        "\n",
        "\n",
        "# Записываем данные словарь и из него делаем dataframe\n",
        "dict = {'Number': info_n, 'File_Name': info, 'Unique_Lemmas': x_data, 'A1 %':percentages_1, 'A2 %':percentages_2, 'B1 %':percentages_3, 'B2 %':percentages_4, 'Unmatched lemmas %':percentages_5}\n",
        "\n",
        "df = pd.DataFrame(dict)\n",
        "\n",
        "# Сохраняем dataframe как csv файл\n",
        "df.to_csv(\"students_data.csv\", encoding='utf-8', index=False)\n",
        "\n",
        "for i in range(len(y_data_1)):\n",
        "    x_data[i] = x_data[i] - y_data_5[i]\n",
        "\n",
        "percentages_1 = [y / x * 100 for y, x in zip(y_data_1, x_data)]\n",
        "percentages_2 = [y / x * 100 for y, x in zip(y_data_2, x_data)]\n",
        "percentages_3 = [y / x * 100 for y, x in zip(y_data_3, x_data)]\n",
        "percentages_4 = [y / x * 100 for y, x in zip(y_data_4, x_data)]\n",
        "\n",
        "colors = ['blue', 'green', 'red', 'orange']\n",
        "\n",
        "plt.figure(figsize=(10, 5))\n",
        "plt.style.use('seaborn')\n",
        "\n",
        "\n",
        "plt.bar(info_n, percentages_1, color=colors[0])\n",
        "plt.bar(info_n, percentages_2, bottom=percentages_1, color=colors[1])\n",
        "plt.bar(info_n, percentages_3, bottom=np.add(percentages_1, percentages_2), color=colors[2])\n",
        "plt.bar(info_n, percentages_4, bottom=np.add(np.add(percentages_1, percentages_2), percentages_3), color=colors[3])\n",
        "\n",
        "labels = ['A1', 'A2', 'B1', 'B2']\n",
        "\n",
        "plt.legend(labels, loc='center left', bbox_to_anchor=(1.0, 0.5))\n",
        "plt.xticks()\n",
        "plt.ylabel('Percentage')\n",
        "plt.show()"
      ],
      "metadata": {
        "colab": {
          "base_uri": "https://localhost:8080/",
          "height": 463
        },
        "outputId": "adbb0319-8bc4-4436-b103-04f636a0ab04",
        "id": "kB5sYKF4tfxO"
      },
      "execution_count": 24,
      "outputs": [
        {
          "output_type": "stream",
          "name": "stderr",
          "text": [
            "<ipython-input-24-821ea53164bf>:71: MatplotlibDeprecationWarning: The seaborn styles shipped by Matplotlib are deprecated since 3.6, as they no longer correspond to the styles shipped by seaborn. However, they will remain available as 'seaborn-v0_8-<style>'. Alternatively, directly use the seaborn API instead.\n",
            "  plt.style.use('seaborn')\n"
          ]
        },
        {
          "output_type": "display_data",
          "data": {
            "text/plain": [
              "<Figure size 1000x500 with 1 Axes>"
            ],
            "image/png": "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\n"
          },
          "metadata": {}
        }
      ]
    },
    {
      "cell_type": "code",
      "source": [
        "np.std(percentages_1+percentages_2)"
      ],
      "metadata": {
        "colab": {
          "base_uri": "https://localhost:8080/"
        },
        "outputId": "76ac1d7e-2e7e-45e8-a65e-33319010f440",
        "id": "RQEcrQWltfxP"
      },
      "execution_count": 25,
      "outputs": [
        {
          "output_type": "execute_result",
          "data": {
            "text/plain": [
              "35.84968525727147"
            ]
          },
          "metadata": {},
          "execution_count": 25
        }
      ]
    }
  ]
}
{
  "nbformat": 4,
  "nbformat_minor": 0,
  "metadata": {
    "colab": {
      "provenance": [],
      "authorship_tag": "ABX9TyNO56Qrdz+J+K3BRQBVaTZ7",
      "include_colab_link": true
    },
    "kernelspec": {
      "name": "python3",
      "display_name": "Python 3"
    },
    "language_info": {
      "name": "python"
    }
  },
  "cells": [
    {
      "cell_type": "markdown",
      "metadata": {
        "id": "view-in-github",
        "colab_type": "text"
      },
      "source": [
        "<a href=\"https://colab.research.google.com/github/Vakhranev/MDB/blob/main/%D0%9F%D1%80%D0%BE%D0%B2%D0%B5%D1%80%D0%BA%D0%B0_%D1%83%D1%80%D0%BE%D0%B2%D0%BD%D1%8F_%D0%921.ipynb\" target=\"_parent\"><img src=\"https://colab.research.google.com/assets/colab-badge.svg\" alt=\"Open In Colab\"/></a>"
      ]
    },
    {
      "cell_type": "code",
      "execution_count": 1,
      "metadata": {
        "colab": {
          "base_uri": "https://localhost:8080/",
          "height": 481
        },
        "id": "ODAfeodXmSAr",
        "outputId": "b5e483e2-a946-44df-96e8-0bbe091294e6"
      },
      "outputs": [
        {
          "output_type": "stream",
          "name": "stderr",
          "text": [
            "Installing mystem to /root/.local/bin/mystem from http://download.cdn.yandex.net/mystem/mystem-3.1-linux-64bit.tar.gz\n",
            "<ipython-input-1-4005d4608820>:142: MatplotlibDeprecationWarning: The seaborn styles shipped by Matplotlib are deprecated since 3.6, as they no longer correspond to the styles shipped by seaborn. However, they will remain available as 'seaborn-v0_8-<style>'. Alternatively, directly use the seaborn API instead.\n",
            "  plt.style.use('seaborn')\n"
          ]
        },
        {
          "output_type": "display_data",
          "data": {
            "text/plain": [
              "<Figure size 1000x500 with 1 Axes>"
            ],
            "image/png": "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\n"
          },
          "metadata": {}
        }
      ],
      "source": [
        "import glob\n",
        "import os\n",
        "from pymystem3 import Mystem\n",
        "import string\n",
        "import csv\n",
        "import matplotlib.pyplot as plt\n",
        "import numpy as np\n",
        "import pandas as pd\n",
        "\n",
        "mystem = Mystem()\n",
        "\n",
        "#folder path с текстами учеников\n",
        "students_path = r\"/content/Students_texts\"\n",
        "text_contents = {}\n",
        "\n",
        "#тут будет количество уникальных лемм\n",
        "x_data = []\n",
        "\n",
        "for text_path in glob.glob(students_path + \"/*.txt\"):\n",
        "    with open(text_path, \"r\", encoding='utf-8') as file:\n",
        "        file_name = os.path.basename(text_path) # Ключи тут являются названиями файлов текстов\n",
        "        text = file.read()\n",
        "        lemmas = [lemma for lemma in mystem.lemmatize(text) \n",
        "                  if lemma.strip() and not all(c in string.punctuation or c.isspace() for c in lemma) # убираем знаки препинания\n",
        "                  and not any(c.isalpha() and ord(c) < 128 for c in lemma)] # убираем леммы без кириллицы\n",
        "        lemmas = list(set(lemmas)) # Оставляем только уникальные леммы\n",
        "        x_data.append(len(lemmas)) # записываем количество уникальных лемм каждого текста\n",
        "        text_contents[file_name] = lemmas\n",
        "\n",
        "\n",
        "# Загружаем частотный словарь для каждой тысячи слов\n",
        "df = pd.read_csv('ru_m3.csv', sep=';')\n",
        "df.index = np.arange(1, len(df) + 1)\n",
        "df = df[['Lemma','CEFR']]\n",
        "mark1 = \"a1\"\n",
        "mark2 = \"a2\"\n",
        "mark3 = \"b1\"\n",
        "mark4 = \"b2\"\n",
        "mark5 = \"A1\"\n",
        "mark6 = \"A2\"\n",
        "mark7 = \"B1\"\n",
        "mark8 = \"B2\"\n",
        "dc1 = df.query('CEFR == @mark1 | CEFR == @mark5')\n",
        "dc2 = df.query('CEFR == @mark2 | CEFR == @mark6')\n",
        "dc3 = df.query('CEFR == @mark3 | CEFR == @mark7')\n",
        "dc4 = df.query('CEFR == @mark4 | CEFR == @mark8')\n",
        "\n",
        "l = []\n",
        "for word in dc1['Lemma']:\n",
        "  if word not in l:\n",
        "    l.append(word)\n",
        "slovar1 = l\n",
        "\n",
        "l = []\n",
        "for word in dc2['Lemma']:\n",
        "  if word not in l:\n",
        "    l.append(word)\n",
        "slovar2 = l\n",
        "\n",
        "l = []\n",
        "for word in dc3['Lemma']:\n",
        "  if word not in l:\n",
        "    l.append(word)\n",
        "slovar3 = l\n",
        "\n",
        "l = []\n",
        "for word in dc4['Lemma']:\n",
        "  if word not in l:\n",
        "    l.append(word)\n",
        "slovar4 = l\n",
        "\n",
        "# Matching lemmas для каждого уровня\n",
        "y_data_1 = []\n",
        "y_data_2 = []\n",
        "y_data_3 = []\n",
        "y_data_4 = []\n",
        "\n",
        "for file_name, lines in text_contents.items():\n",
        "    lv1 = 0\n",
        "    lv2 = 0\n",
        "    lv3 = 0\n",
        "    lv4 = 0\n",
        "    for i in lines:\n",
        "        if i in slovar1:\n",
        "            lv1 += 1\n",
        "        if i in slovar2:\n",
        "            lv2 += 1\n",
        "        if i in slovar3:\n",
        "            lv3 += 1\n",
        "        if i in slovar4:\n",
        "            lv4 += 1\n",
        "    y_data_1.append(lv1)\n",
        "    y_data_2.append(lv2)\n",
        "    y_data_3.append(lv3)\n",
        "    y_data_4.append(lv4)\n",
        "\n",
        "#Unmatched lemmas\n",
        "y_data_5 = []\n",
        "\n",
        "for i in range(len(y_data_1)):\n",
        "    diff = x_data[i] - y_data_1[i] - y_data_2[i] - y_data_3[i] - y_data_4[i]\n",
        "    y_data_5.append(diff)\n",
        "\n",
        "info = []\n",
        "info = list(text_contents.keys())\n",
        "name_to_number = {}\n",
        "\n",
        "\n",
        "for i, name in enumerate(set(info)):\n",
        "    name_to_number[name] = i\n",
        "\n",
        "info_n = [i for i in range(len(info))] # Заменяем имена на цифры для bar graph\n",
        "\n",
        "\n",
        "\n",
        "percentages_1 = [y / x * 100 for y, x in zip(y_data_1, x_data)]\n",
        "percentages_2 = [y / x * 100 for y, x in zip(y_data_2, x_data)]\n",
        "percentages_3 = [y / x * 100 for y, x in zip(y_data_3, x_data)]\n",
        "percentages_4 = [y / x * 100 for y, x in zip(y_data_4, x_data)]\n",
        "percentages_5 = [y / x * 100 for y, x in zip(y_data_5, x_data)]\n",
        "\n",
        "\n",
        "# Записываем данные словарь и из него делаем dataframe\n",
        "dict = {'Number': info_n, 'File_Name': info, 'Unique_Lemmas': x_data, 'A1 %':percentages_1, 'A2 %':percentages_2, 'B1 %':percentages_3, 'B2 %':percentages_4, 'Unmatched lemmas %':percentages_5}\n",
        "\n",
        "df = pd.DataFrame(dict)\n",
        "\n",
        "# Сохраняем dataframe как csv файл\n",
        "df.to_csv(\"students_data.csv\", encoding='utf-8', index=False)\n",
        "\n",
        "for i in range(len(y_data_1)):\n",
        "    x_data[i] = x_data[i] - y_data_5[i]\n",
        "\n",
        "percentages_1 = [y / x * 100 for y, x in zip(y_data_1, x_data)]\n",
        "percentages_2 = [y / x * 100 for y, x in zip(y_data_2, x_data)]\n",
        "percentages_3 = [y / x * 100 for y, x in zip(y_data_3, x_data)]\n",
        "percentages_4 = [y / x * 100 for y, x in zip(y_data_4, x_data)]\n",
        "\n",
        "colors = ['blue', 'green', 'red', 'orange']\n",
        "\n",
        "plt.figure(figsize=(10, 5))\n",
        "plt.style.use('seaborn')\n",
        "\n",
        "\n",
        "plt.bar(info_n, percentages_1, color=colors[0])\n",
        "plt.bar(info_n, percentages_2, bottom=percentages_1, color=colors[1])\n",
        "plt.bar(info_n, percentages_3, bottom=np.add(percentages_1, percentages_2), color=colors[2])\n",
        "plt.bar(info_n, percentages_4, bottom=np.add(np.add(percentages_1, percentages_2), percentages_3), color=colors[3])\n",
        "\n",
        "labels = ['A1', 'A2', 'B1', 'B2']\n",
        "\n",
        "plt.legend(labels, loc='center left', bbox_to_anchor=(1.0, 0.5))\n",
        "plt.xticks()\n",
        "plt.ylabel('Percentage')\n",
        "plt.show()"
      ]
    },
    {
      "cell_type": "code",
      "source": [
        "np.std(percentages_1+percentages_2+percentages_3)"
      ],
      "metadata": {
        "colab": {
          "base_uri": "https://localhost:8080/"
        },
        "id": "LBZ6nKPWqhrW",
        "outputId": "44698bbe-5695-4256-9f1b-01086a9686c2"
      },
      "execution_count": 2,
      "outputs": [
        {
          "output_type": "execute_result",
          "data": {
            "text/plain": [
              "20.74128359868987"
            ]
          },
          "metadata": {},
          "execution_count": 2
        }
      ]
    },
    {
      "cell_type": "code",
      "source": [
        "df = pd.read_csv('lemmas_levels.csv', sep=',')\n",
        "df.index = np.arange(1, len(df) + 1)\n",
        "mark1 = \"1E\"\n",
        "mark2 = \"2I\"\n",
        "mark3 = \"3AU\"\n",
        "mark4 = \"4S\"\n",
        "ll1 = df.query('level == @mark1')\n",
        "ll2 = df.query('level == @mark2')\n",
        "ll3 = df.query('level == @mark3')\n",
        "ll4 = df.query('level == @mark4')"
      ],
      "metadata": {
        "id": "ntv8qZ-uBHi1"
      },
      "execution_count": 3,
      "outputs": []
    },
    {
      "cell_type": "code",
      "source": [
        "slovar1 = ll1['lemma'].str.strip('\\'').tolist()\n",
        "slovar2 = ll2['lemma'].str.strip('\\'').tolist()\n",
        "slovar3 = ll3['lemma'].str.strip('\\'').tolist()\n",
        "slovar4 = ll4['lemma'].str.strip('\\'').tolist()"
      ],
      "metadata": {
        "id": "eH6lUV_yBP_d"
      },
      "execution_count": 4,
      "outputs": []
    },
    {
      "cell_type": "code",
      "source": [
        "# Matching lemmas для каждого уровня\n",
        "y_data_1 = []\n",
        "y_data_2 = []\n",
        "y_data_3 = []\n",
        "y_data_4 = []\n",
        "\n",
        "for file_name, lines in text_contents.items():\n",
        "    lv1 = 0\n",
        "    lv2 = 0\n",
        "    lv3 = 0\n",
        "    lv4 = 0\n",
        "    for i in lines:\n",
        "        if i in slovar1:\n",
        "            lv1 += 1\n",
        "        if i in slovar2:\n",
        "            lv2 += 1\n",
        "        if i in slovar3:\n",
        "            lv3 += 1\n",
        "        if i in slovar4:\n",
        "            lv4 += 1\n",
        "    y_data_1.append(lv1)\n",
        "    y_data_2.append(lv2)\n",
        "    y_data_3.append(lv3)\n",
        "    y_data_4.append(lv4)\n",
        "\n",
        "#Unmatched lemmas\n",
        "y_data_5 = []\n",
        "\n",
        "for i in range(len(y_data_1)):\n",
        "    diff = x_data[i] - y_data_1[i] - y_data_2[i] - y_data_3[i] - y_data_4[i]\n",
        "    y_data_5.append(diff)\n",
        "\n",
        "info = []\n",
        "info = list(text_contents.keys())\n",
        "name_to_number = {}\n",
        "\n",
        "\n",
        "for i, name in enumerate(set(info)):\n",
        "    name_to_number[name] = i\n",
        "\n",
        "info_n = [i for i in range(len(info))] # Заменяем имена на цифры для bar graph\n",
        "\n",
        "\n",
        "\n",
        "percentages_1 = [y / x * 100 for y, x in zip(y_data_1, x_data)]\n",
        "percentages_2 = [y / x * 100 for y, x in zip(y_data_2, x_data)]\n",
        "percentages_3 = [y / x * 100 for y, x in zip(y_data_3, x_data)]\n",
        "percentages_4 = [y / x * 100 for y, x in zip(y_data_4, x_data)]\n",
        "percentages_5 = [y / x * 100 for y, x in zip(y_data_5, x_data)]\n",
        "\n",
        "\n",
        "# Записываем данные словарь и из него делаем dataframe\n",
        "dict = {'Number': info_n, 'File_Name': info, 'Unique_Lemmas': x_data, 'A1 %':percentages_1, 'A2 %':percentages_2, 'B1 %':percentages_3, 'B2 %':percentages_4, 'Unmatched lemmas %':percentages_5}\n",
        "\n",
        "df = pd.DataFrame(dict)\n",
        "\n",
        "# Сохраняем dataframe как csv файл\n",
        "df.to_csv(\"students_data.csv\", encoding='utf-8', index=False)\n",
        "\n",
        "for i in range(len(y_data_1)):\n",
        "    x_data[i] = x_data[i] - y_data_5[i]\n",
        "\n",
        "percentages_1 = [y / x * 100 for y, x in zip(y_data_1, x_data)]\n",
        "percentages_2 = [y / x * 100 for y, x in zip(y_data_2, x_data)]\n",
        "percentages_3 = [y / x * 100 for y, x in zip(y_data_3, x_data)]\n",
        "percentages_4 = [y / x * 100 for y, x in zip(y_data_4, x_data)]\n",
        "\n",
        "colors = ['blue', 'green', 'red', 'orange']\n",
        "\n",
        "plt.figure(figsize=(10, 5))\n",
        "plt.style.use('seaborn')\n",
        "\n",
        "\n",
        "plt.bar(info_n, percentages_1, color=colors[0])\n",
        "plt.bar(info_n, percentages_2, bottom=percentages_1, color=colors[1])\n",
        "plt.bar(info_n, percentages_3, bottom=np.add(percentages_1, percentages_2), color=colors[2])\n",
        "plt.bar(info_n, percentages_4, bottom=np.add(np.add(percentages_1, percentages_2), percentages_3), color=colors[3])\n",
        "\n",
        "labels = ['A1', 'A2', 'B1', 'B2']\n",
        "\n",
        "plt.legend(labels, loc='center left', bbox_to_anchor=(1.0, 0.5))\n",
        "plt.xticks()\n",
        "plt.ylabel('Percentage')\n",
        "plt.show()"
      ],
      "metadata": {
        "colab": {
          "base_uri": "https://localhost:8080/",
          "height": 463
        },
        "id": "JXu3L010r3Fi",
        "outputId": "549fd7be-9d4d-47ca-adba-a907663f4e29"
      },
      "execution_count": 5,
      "outputs": [
        {
          "output_type": "stream",
          "name": "stderr",
          "text": [
            "<ipython-input-5-821ea53164bf>:71: MatplotlibDeprecationWarning: The seaborn styles shipped by Matplotlib are deprecated since 3.6, as they no longer correspond to the styles shipped by seaborn. However, they will remain available as 'seaborn-v0_8-<style>'. Alternatively, directly use the seaborn API instead.\n",
            "  plt.style.use('seaborn')\n"
          ]
        },
        {
          "output_type": "display_data",
          "data": {
            "text/plain": [
              "<Figure size 1000x500 with 1 Axes>"
            ],
            "image/png": "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\n"
          },
          "metadata": {}
        }
      ]
    },
    {
      "cell_type": "code",
      "source": [
        "np.std(percentages_1+percentages_2+percentages_3)"
      ],
      "metadata": {
        "colab": {
          "base_uri": "https://localhost:8080/"
        },
        "id": "6etUAbtysLkO",
        "outputId": "bd4f2bc2-195a-4da7-c447-b26ac32083b1"
      },
      "execution_count": 6,
      "outputs": [
        {
          "output_type": "execute_result",
          "data": {
            "text/plain": [
              "38.51660794207713"
            ]
          },
          "metadata": {},
          "execution_count": 6
        }
      ]
    },
    {
      "cell_type": "code",
      "source": [
        "df = pd.read_csv('A1.csv', sep=';')\n",
        "df.index = np.arange(1, len(df) + 1)\n",
        "A1 = df[:754]"
      ],
      "metadata": {
        "id": "uqF5QGkVQ8jy"
      },
      "execution_count": 7,
      "outputs": []
    },
    {
      "cell_type": "code",
      "source": [
        "df = pd.read_csv('A2.csv', sep=';')\n",
        "df.index = np.arange(1, len(df) + 1)\n",
        "A2 = df[:1048]"
      ],
      "metadata": {
        "id": "GWKmhxMhTEgu"
      },
      "execution_count": 8,
      "outputs": []
    },
    {
      "cell_type": "code",
      "source": [
        "df = pd.read_csv('B1.csv', sep=';')\n",
        "df.index = np.arange(1, len(df) + 1)\n",
        "B1 = df[:1081]"
      ],
      "metadata": {
        "id": "008zKNiLWHFT"
      },
      "execution_count": 9,
      "outputs": []
    },
    {
      "cell_type": "code",
      "source": [
        "df = pd.read_csv('B2.csv', sep=';')\n",
        "df.index = np.arange(1, len(df) + 1)\n",
        "B2 = df[:3331]"
      ],
      "metadata": {
        "id": "EC76rJT0XJDS"
      },
      "execution_count": 10,
      "outputs": []
    },
    {
      "cell_type": "code",
      "source": [
        "slovar1 = A1['Lemma'].str.lower().tolist()\n",
        "slovar2 = A2['Unnamed: 0'].str.lower().tolist()\n",
        "slovar3 = B1['Lemma'].str.lower().tolist()\n",
        "slovar4 = B2['Lemma'].str.lower().tolist()"
      ],
      "metadata": {
        "id": "kDqXLs5PFNUs"
      },
      "execution_count": 11,
      "outputs": []
    },
    {
      "cell_type": "code",
      "source": [
        "# Matching lemmas для каждого уровня\n",
        "y_data_1 = []\n",
        "y_data_2 = []\n",
        "y_data_3 = []\n",
        "y_data_4 = []\n",
        "\n",
        "for file_name, lines in text_contents.items():\n",
        "    lv1 = 0\n",
        "    lv2 = 0\n",
        "    lv3 = 0\n",
        "    lv4 = 0\n",
        "    for i in lines:\n",
        "        if i in slovar1:\n",
        "            lv1 += 1\n",
        "        if i in slovar2:\n",
        "            lv2 += 1\n",
        "        if i in slovar3:\n",
        "            lv3 += 1\n",
        "        if i in slovar4:\n",
        "            lv4 += 1\n",
        "    y_data_1.append(lv1)\n",
        "    y_data_2.append(lv2)\n",
        "    y_data_3.append(lv3)\n",
        "    y_data_4.append(lv4)\n",
        "\n",
        "#Unmatched lemmas\n",
        "y_data_5 = []\n",
        "\n",
        "for i in range(len(y_data_1)):\n",
        "    diff = x_data[i] - y_data_1[i] - y_data_2[i] - y_data_3[i] - y_data_4[i]\n",
        "    y_data_5.append(diff)\n",
        "\n",
        "info = []\n",
        "info = list(text_contents.keys())\n",
        "name_to_number = {}\n",
        "\n",
        "\n",
        "for i, name in enumerate(set(info)):\n",
        "    name_to_number[name] = i\n",
        "\n",
        "info_n = [i for i in range(len(info))] # Заменяем имена на цифры для bar graph\n",
        "\n",
        "\n",
        "\n",
        "percentages_1 = [y / x * 100 for y, x in zip(y_data_1, x_data)]\n",
        "percentages_2 = [y / x * 100 for y, x in zip(y_data_2, x_data)]\n",
        "percentages_3 = [y / x * 100 for y, x in zip(y_data_3, x_data)]\n",
        "percentages_4 = [y / x * 100 for y, x in zip(y_data_4, x_data)]\n",
        "percentages_5 = [y / x * 100 for y, x in zip(y_data_5, x_data)]\n",
        "\n",
        "\n",
        "# Записываем данные словарь и из него делаем dataframe\n",
        "dict = {'Number': info_n, 'File_Name': info, 'Unique_Lemmas': x_data, 'A1 %':percentages_1, 'A2 %':percentages_2, 'B1 %':percentages_3, 'B2 %':percentages_4, 'Unmatched lemmas %':percentages_5}\n",
        "\n",
        "df = pd.DataFrame(dict)\n",
        "\n",
        "# Сохраняем dataframe как csv файл\n",
        "df.to_csv(\"students_data.csv\", encoding='utf-8', index=False)\n",
        "\n",
        "for i in range(len(y_data_1)):\n",
        "    x_data[i] = x_data[i] - y_data_5[i]\n",
        "\n",
        "percentages_1 = [y / x * 100 for y, x in zip(y_data_1, x_data)]\n",
        "percentages_2 = [y / x * 100 for y, x in zip(y_data_2, x_data)]\n",
        "percentages_3 = [y / x * 100 for y, x in zip(y_data_3, x_data)]\n",
        "percentages_4 = [y / x * 100 for y, x in zip(y_data_4, x_data)]\n",
        "\n",
        "colors = ['blue', 'green', 'red', 'orange']\n",
        "\n",
        "plt.figure(figsize=(10, 5))\n",
        "plt.style.use('seaborn')\n",
        "\n",
        "\n",
        "plt.bar(info_n, percentages_1, color=colors[0])\n",
        "plt.bar(info_n, percentages_2, bottom=percentages_1, color=colors[1])\n",
        "plt.bar(info_n, percentages_3, bottom=np.add(percentages_1, percentages_2), color=colors[2])\n",
        "plt.bar(info_n, percentages_4, bottom=np.add(np.add(percentages_1, percentages_2), percentages_3), color=colors[3])\n",
        "\n",
        "labels = ['A1', 'A2', 'B1', 'B2']\n",
        "\n",
        "plt.legend(labels, loc='center left', bbox_to_anchor=(1.0, 0.5))\n",
        "plt.xticks()\n",
        "plt.ylabel('Percentage')\n",
        "plt.show()"
      ],
      "metadata": {
        "colab": {
          "base_uri": "https://localhost:8080/",
          "height": 463
        },
        "id": "EJhVVlnUstVU",
        "outputId": "4cda00b7-59e2-4849-fb28-c1d3d54efce0"
      },
      "execution_count": 12,
      "outputs": [
        {
          "output_type": "stream",
          "name": "stderr",
          "text": [
            "<ipython-input-12-821ea53164bf>:71: MatplotlibDeprecationWarning: The seaborn styles shipped by Matplotlib are deprecated since 3.6, as they no longer correspond to the styles shipped by seaborn. However, they will remain available as 'seaborn-v0_8-<style>'. Alternatively, directly use the seaborn API instead.\n",
            "  plt.style.use('seaborn')\n"
          ]
        },
        {
          "output_type": "display_data",
          "data": {
            "text/plain": [
              "<Figure size 1000x500 with 1 Axes>"
            ],
            "image/png": "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\n"
          },
          "metadata": {}
        }
      ]
    },
    {
      "cell_type": "code",
      "source": [
        "np.std(percentages_1+percentages_2+percentages_3)"
      ],
      "metadata": {
        "colab": {
          "base_uri": "https://localhost:8080/"
        },
        "id": "1b4Dl8f7sz5K",
        "outputId": "fca1e12a-e475-4c4f-e9d2-9916af9feaea"
      },
      "execution_count": 13,
      "outputs": [
        {
          "output_type": "execute_result",
          "data": {
            "text/plain": [
              "17.104223987289437"
            ]
          },
          "metadata": {},
          "execution_count": 13
        }
      ]
    },
    {
      "cell_type": "code",
      "source": [
        "df = pd.read_csv('new_vocab_a1.csv', sep=';')\n",
        "df.index = np.arange(1, len(df) + 1)\n",
        "i = 1\n",
        "for word in df['а']:\n",
        "  if len(word) < 2:\n",
        "    df.drop(index = i, inplace = True)\n",
        "  else:\n",
        "    i += 1\n",
        "nv1 = df"
      ],
      "metadata": {
        "id": "U4Bxcq4ls9En"
      },
      "execution_count": 14,
      "outputs": []
    },
    {
      "cell_type": "code",
      "source": [
        "df = pd.read_csv('new_vocab_a2.csv', sep=';')\n",
        "df.index = np.arange(1, len(df) + 1)\n",
        "i = 1\n",
        "for word in df['а']:\n",
        "  if len(word) < 2:\n",
        "    df.drop(index = i, inplace = True)\n",
        "  else:\n",
        "    i += 1\n",
        "nv2 = df"
      ],
      "metadata": {
        "id": "Wm8-VV060V2S"
      },
      "execution_count": 15,
      "outputs": []
    },
    {
      "cell_type": "code",
      "source": [
        "df = pd.read_csv('new_vocab_b1.csv', sep=';')\n",
        "df.index = np.arange(1, len(df) + 1)\n",
        "i = 1\n",
        "for word in df['а']:\n",
        "  if len(word) < 2:\n",
        "    df.drop(index = i, inplace = True)\n",
        "  else:\n",
        "    i += 1\n",
        "nv3 = df"
      ],
      "metadata": {
        "id": "3knprXCl0nsD"
      },
      "execution_count": 16,
      "outputs": []
    },
    {
      "cell_type": "code",
      "source": [
        "df = pd.read_csv('new_vocab_b2.csv', sep=';')\n",
        "df.index = np.arange(1, len(df) + 1)\n",
        "i = 1\n",
        "for word in df['а']:\n",
        "  if len(word) < 2:\n",
        "    df.drop(index = i, inplace = True)\n",
        "  else:\n",
        "    i += 1\n",
        "nv4 = df"
      ],
      "metadata": {
        "id": "cB5W9R7b04Gb"
      },
      "execution_count": 17,
      "outputs": []
    },
    {
      "cell_type": "code",
      "source": [
        "slovar1 = nv1['а'].str.lower().tolist()\n",
        "data8 = nv2['а'].str.lower().tolist()\n",
        "slovar2 = list(set(data8) - set(slovar1))\n",
        "data7 = nv3['а'].str.lower().tolist()\n",
        "slovar3 = list(set(data7) - set(data8))\n",
        "data6 = nv4['а'].str.lower().tolist()\n",
        "slovar4 = list(set(data6) - set(data7))"
      ],
      "metadata": {
        "id": "Db2oJb90IHBL"
      },
      "execution_count": 18,
      "outputs": []
    },
    {
      "cell_type": "code",
      "source": [
        "# Matching lemmas для каждого уровня\n",
        "y_data_1 = []\n",
        "y_data_2 = []\n",
        "y_data_3 = []\n",
        "y_data_4 = []\n",
        "\n",
        "for file_name, lines in text_contents.items():\n",
        "    lv1 = 0\n",
        "    lv2 = 0\n",
        "    lv3 = 0\n",
        "    lv4 = 0\n",
        "    for i in lines:\n",
        "        if i in slovar1:\n",
        "            lv1 += 1\n",
        "        if i in slovar2:\n",
        "            lv2 += 1\n",
        "        if i in slovar3:\n",
        "            lv3 += 1\n",
        "        if i in slovar4:\n",
        "            lv4 += 1\n",
        "    y_data_1.append(lv1)\n",
        "    y_data_2.append(lv2)\n",
        "    y_data_3.append(lv3)\n",
        "    y_data_4.append(lv4)\n",
        "\n",
        "#Unmatched lemmas\n",
        "y_data_5 = []\n",
        "\n",
        "for i in range(len(y_data_1)):\n",
        "    diff = x_data[i] - y_data_1[i] - y_data_2[i] - y_data_3[i] - y_data_4[i]\n",
        "    y_data_5.append(diff)\n",
        "\n",
        "info = []\n",
        "info = list(text_contents.keys())\n",
        "name_to_number = {}\n",
        "\n",
        "\n",
        "for i, name in enumerate(set(info)):\n",
        "    name_to_number[name] = i\n",
        "\n",
        "info_n = [i for i in range(len(info))] # Заменяем имена на цифры для bar graph\n",
        "\n",
        "\n",
        "\n",
        "percentages_1 = [y / x * 100 for y, x in zip(y_data_1, x_data)]\n",
        "percentages_2 = [y / x * 100 for y, x in zip(y_data_2, x_data)]\n",
        "percentages_3 = [y / x * 100 for y, x in zip(y_data_3, x_data)]\n",
        "percentages_4 = [y / x * 100 for y, x in zip(y_data_4, x_data)]\n",
        "percentages_5 = [y / x * 100 for y, x in zip(y_data_5, x_data)]\n",
        "\n",
        "\n",
        "# Записываем данные словарь и из него делаем dataframe\n",
        "dict = {'Number': info_n, 'File_Name': info, 'Unique_Lemmas': x_data, 'A1 %':percentages_1, 'A2 %':percentages_2, 'B1 %':percentages_3, 'B2 %':percentages_4, 'Unmatched lemmas %':percentages_5}\n",
        "\n",
        "df = pd.DataFrame(dict)\n",
        "\n",
        "# Сохраняем dataframe как csv файл\n",
        "df.to_csv(\"students_data.csv\", encoding='utf-8', index=False)\n",
        "\n",
        "for i in range(len(y_data_1)):\n",
        "    x_data[i] = x_data[i] - y_data_5[i]\n",
        "\n",
        "percentages_1 = [y / x * 100 for y, x in zip(y_data_1, x_data)]\n",
        "percentages_2 = [y / x * 100 for y, x in zip(y_data_2, x_data)]\n",
        "percentages_3 = [y / x * 100 for y, x in zip(y_data_3, x_data)]\n",
        "percentages_4 = [y / x * 100 for y, x in zip(y_data_4, x_data)]\n",
        "\n",
        "colors = ['blue', 'green', 'red', 'orange']\n",
        "\n",
        "plt.figure(figsize=(10, 5))\n",
        "plt.style.use('seaborn')\n",
        "\n",
        "\n",
        "plt.bar(info_n, percentages_1, color=colors[0])\n",
        "plt.bar(info_n, percentages_2, bottom=percentages_1, color=colors[1])\n",
        "plt.bar(info_n, percentages_3, bottom=np.add(percentages_1, percentages_2), color=colors[2])\n",
        "plt.bar(info_n, percentages_4, bottom=np.add(np.add(percentages_1, percentages_2), percentages_3), color=colors[3])\n",
        "\n",
        "labels = ['A1', 'A2', 'B1', 'B2']\n",
        "\n",
        "plt.legend(labels, loc='center left', bbox_to_anchor=(1.0, 0.5))\n",
        "plt.xticks()\n",
        "plt.ylabel('Percentage')\n",
        "plt.show()"
      ],
      "metadata": {
        "colab": {
          "base_uri": "https://localhost:8080/",
          "height": 463
        },
        "outputId": "507eba85-7fb3-4843-bbfe-7aaf8b751ea2",
        "id": "kB5sYKF4tfxO"
      },
      "execution_count": 19,
      "outputs": [
        {
          "output_type": "stream",
          "name": "stderr",
          "text": [
            "<ipython-input-19-821ea53164bf>:71: MatplotlibDeprecationWarning: The seaborn styles shipped by Matplotlib are deprecated since 3.6, as they no longer correspond to the styles shipped by seaborn. However, they will remain available as 'seaborn-v0_8-<style>'. Alternatively, directly use the seaborn API instead.\n",
            "  plt.style.use('seaborn')\n"
          ]
        },
        {
          "output_type": "display_data",
          "data": {
            "text/plain": [
              "<Figure size 1000x500 with 1 Axes>"
            ],
            "image/png": "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\n"
          },
          "metadata": {}
        }
      ]
    },
    {
      "cell_type": "code",
      "source": [
        "np.std(percentages_1+percentages_2+percentages_3)"
      ],
      "metadata": {
        "colab": {
          "base_uri": "https://localhost:8080/"
        },
        "outputId": "35d2b8d8-30fa-4986-dedf-989fee005775",
        "id": "RQEcrQWltfxP"
      },
      "execution_count": 20,
      "outputs": [
        {
          "output_type": "execute_result",
          "data": {
            "text/plain": [
              "26.80925202393919"
            ]
          },
          "metadata": {},
          "execution_count": 20
        }
      ]
    }
  ]
}
{
  "nbformat": 4,
  "nbformat_minor": 0,
  "metadata": {
    "colab": {
      "provenance": [],
      "authorship_tag": "ABX9TyPW/yLigHaOgNv/6mfmzJ2j",
      "include_colab_link": true
    },
    "kernelspec": {
      "name": "python3",
      "display_name": "Python 3"
    },
    "language_info": {
      "name": "python"
    }
  },
  "cells": [
    {
      "cell_type": "markdown",
      "metadata": {
        "id": "view-in-github",
        "colab_type": "text"
      },
      "source": [
        "<a href=\"https://colab.research.google.com/github/Vakhranev/MDB/blob/main/%D0%9F%D1%80%D0%BE%D0%B2%D0%B5%D1%80%D0%BA%D0%B0_%D1%83%D1%80%D0%BE%D0%B2%D0%BD%D1%8F_%D0%922.ipynb\" target=\"_parent\"><img src=\"https://colab.research.google.com/assets/colab-badge.svg\" alt=\"Open In Colab\"/></a>"
      ]
    },
    {
      "cell_type": "code",
      "execution_count": 1,
      "metadata": {
        "colab": {
          "base_uri": "https://localhost:8080/",
          "height": 481
        },
        "id": "ODAfeodXmSAr",
        "outputId": "d42c7a74-dd1e-4481-c0a1-d6a6c5cc7aec"
      },
      "outputs": [
        {
          "output_type": "stream",
          "name": "stderr",
          "text": [
            "Installing mystem to /root/.local/bin/mystem from http://download.cdn.yandex.net/mystem/mystem-3.1-linux-64bit.tar.gz\n",
            "<ipython-input-1-4005d4608820>:142: MatplotlibDeprecationWarning: The seaborn styles shipped by Matplotlib are deprecated since 3.6, as they no longer correspond to the styles shipped by seaborn. However, they will remain available as 'seaborn-v0_8-<style>'. Alternatively, directly use the seaborn API instead.\n",
            "  plt.style.use('seaborn')\n"
          ]
        },
        {
          "output_type": "display_data",
          "data": {
            "text/plain": [
              "<Figure size 1000x500 with 1 Axes>"
            ],
            "image/png": "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\n"
          },
          "metadata": {}
        }
      ],
      "source": [
        "import glob\n",
        "import os\n",
        "from pymystem3 import Mystem\n",
        "import string\n",
        "import csv\n",
        "import matplotlib.pyplot as plt\n",
        "import numpy as np\n",
        "import pandas as pd\n",
        "\n",
        "mystem = Mystem()\n",
        "\n",
        "#folder path с текстами учеников\n",
        "students_path = r\"/content/Students_texts\"\n",
        "text_contents = {}\n",
        "\n",
        "#тут будет количество уникальных лемм\n",
        "x_data = []\n",
        "\n",
        "for text_path in glob.glob(students_path + \"/*.txt\"):\n",
        "    with open(text_path, \"r\", encoding='utf-8') as file:\n",
        "        file_name = os.path.basename(text_path) # Ключи тут являются названиями файлов текстов\n",
        "        text = file.read()\n",
        "        lemmas = [lemma for lemma in mystem.lemmatize(text) \n",
        "                  if lemma.strip() and not all(c in string.punctuation or c.isspace() for c in lemma) # убираем знаки препинания\n",
        "                  and not any(c.isalpha() and ord(c) < 128 for c in lemma)] # убираем леммы без кириллицы\n",
        "        lemmas = list(set(lemmas)) # Оставляем только уникальные леммы\n",
        "        x_data.append(len(lemmas)) # записываем количество уникальных лемм каждого текста\n",
        "        text_contents[file_name] = lemmas\n",
        "\n",
        "\n",
        "# Загружаем частотный словарь для каждой тысячи слов\n",
        "df = pd.read_csv('ru_m3.csv', sep=';')\n",
        "df.index = np.arange(1, len(df) + 1)\n",
        "df = df[['Lemma','CEFR']]\n",
        "mark1 = \"a1\"\n",
        "mark2 = \"a2\"\n",
        "mark3 = \"b1\"\n",
        "mark4 = \"b2\"\n",
        "mark5 = \"A1\"\n",
        "mark6 = \"A2\"\n",
        "mark7 = \"B1\"\n",
        "mark8 = \"B2\"\n",
        "dc1 = df.query('CEFR == @mark1 | CEFR == @mark5')\n",
        "dc2 = df.query('CEFR == @mark2 | CEFR == @mark6')\n",
        "dc3 = df.query('CEFR == @mark3 | CEFR == @mark7')\n",
        "dc4 = df.query('CEFR == @mark4 | CEFR == @mark8')\n",
        "\n",
        "l = []\n",
        "for word in dc1['Lemma']:\n",
        "  if word not in l:\n",
        "    l.append(word)\n",
        "slovar1 = l\n",
        "\n",
        "l = []\n",
        "for word in dc2['Lemma']:\n",
        "  if word not in l:\n",
        "    l.append(word)\n",
        "slovar2 = l\n",
        "\n",
        "l = []\n",
        "for word in dc3['Lemma']:\n",
        "  if word not in l:\n",
        "    l.append(word)\n",
        "slovar3 = l\n",
        "\n",
        "l = []\n",
        "for word in dc4['Lemma']:\n",
        "  if word not in l:\n",
        "    l.append(word)\n",
        "slovar4 = l\n",
        "\n",
        "# Matching lemmas для каждого уровня\n",
        "y_data_1 = []\n",
        "y_data_2 = []\n",
        "y_data_3 = []\n",
        "y_data_4 = []\n",
        "\n",
        "for file_name, lines in text_contents.items():\n",
        "    lv1 = 0\n",
        "    lv2 = 0\n",
        "    lv3 = 0\n",
        "    lv4 = 0\n",
        "    for i in lines:\n",
        "        if i in slovar1:\n",
        "            lv1 += 1\n",
        "        if i in slovar2:\n",
        "            lv2 += 1\n",
        "        if i in slovar3:\n",
        "            lv3 += 1\n",
        "        if i in slovar4:\n",
        "            lv4 += 1\n",
        "    y_data_1.append(lv1)\n",
        "    y_data_2.append(lv2)\n",
        "    y_data_3.append(lv3)\n",
        "    y_data_4.append(lv4)\n",
        "\n",
        "#Unmatched lemmas\n",
        "y_data_5 = []\n",
        "\n",
        "for i in range(len(y_data_1)):\n",
        "    diff = x_data[i] - y_data_1[i] - y_data_2[i] - y_data_3[i] - y_data_4[i]\n",
        "    y_data_5.append(diff)\n",
        "\n",
        "info = []\n",
        "info = list(text_contents.keys())\n",
        "name_to_number = {}\n",
        "\n",
        "\n",
        "for i, name in enumerate(set(info)):\n",
        "    name_to_number[name] = i\n",
        "\n",
        "info_n = [i for i in range(len(info))] # Заменяем имена на цифры для bar graph\n",
        "\n",
        "\n",
        "\n",
        "percentages_1 = [y / x * 100 for y, x in zip(y_data_1, x_data)]\n",
        "percentages_2 = [y / x * 100 for y, x in zip(y_data_2, x_data)]\n",
        "percentages_3 = [y / x * 100 for y, x in zip(y_data_3, x_data)]\n",
        "percentages_4 = [y / x * 100 for y, x in zip(y_data_4, x_data)]\n",
        "percentages_5 = [y / x * 100 for y, x in zip(y_data_5, x_data)]\n",
        "\n",
        "\n",
        "# Записываем данные словарь и из него делаем dataframe\n",
        "dict = {'Number': info_n, 'File_Name': info, 'Unique_Lemmas': x_data, 'A1 %':percentages_1, 'A2 %':percentages_2, 'B1 %':percentages_3, 'B2 %':percentages_4, 'Unmatched lemmas %':percentages_5}\n",
        "\n",
        "df = pd.DataFrame(dict)\n",
        "\n",
        "# Сохраняем dataframe как csv файл\n",
        "df.to_csv(\"students_data.csv\", encoding='utf-8', index=False)\n",
        "\n",
        "for i in range(len(y_data_1)):\n",
        "    x_data[i] = x_data[i] - y_data_5[i]\n",
        "\n",
        "percentages_1 = [y / x * 100 for y, x in zip(y_data_1, x_data)]\n",
        "percentages_2 = [y / x * 100 for y, x in zip(y_data_2, x_data)]\n",
        "percentages_3 = [y / x * 100 for y, x in zip(y_data_3, x_data)]\n",
        "percentages_4 = [y / x * 100 for y, x in zip(y_data_4, x_data)]\n",
        "\n",
        "colors = ['blue', 'green', 'red', 'orange']\n",
        "\n",
        "plt.figure(figsize=(10, 5))\n",
        "plt.style.use('seaborn')\n",
        "\n",
        "\n",
        "plt.bar(info_n, percentages_1, color=colors[0])\n",
        "plt.bar(info_n, percentages_2, bottom=percentages_1, color=colors[1])\n",
        "plt.bar(info_n, percentages_3, bottom=np.add(percentages_1, percentages_2), color=colors[2])\n",
        "plt.bar(info_n, percentages_4, bottom=np.add(np.add(percentages_1, percentages_2), percentages_3), color=colors[3])\n",
        "\n",
        "labels = ['A1', 'A2', 'B1', 'B2']\n",
        "\n",
        "plt.legend(labels, loc='center left', bbox_to_anchor=(1.0, 0.5))\n",
        "plt.xticks()\n",
        "plt.ylabel('Percentage')\n",
        "plt.show()"
      ]
    },
    {
      "cell_type": "code",
      "source": [
        "df = pd.read_csv('lemmas_levels.csv', sep=',')\n",
        "df.index = np.arange(1, len(df) + 1)\n",
        "mark1 = \"1E\"\n",
        "mark2 = \"2I\"\n",
        "mark3 = \"3AU\"\n",
        "mark4 = \"4S\"\n",
        "ll1 = df.query('level == @mark1')\n",
        "ll2 = df.query('level == @mark2')\n",
        "ll3 = df.query('level == @mark3')\n",
        "ll4 = df.query('level == @mark4')"
      ],
      "metadata": {
        "id": "ntv8qZ-uBHi1"
      },
      "execution_count": 2,
      "outputs": []
    },
    {
      "cell_type": "code",
      "source": [
        "slovar1 = ll1['lemma'].str.strip('\\'').tolist()\n",
        "slovar2 = ll2['lemma'].str.strip('\\'').tolist()\n",
        "slovar3 = ll3['lemma'].str.strip('\\'').tolist()\n",
        "slovar4 = ll4['lemma'].str.strip('\\'').tolist()"
      ],
      "metadata": {
        "id": "eH6lUV_yBP_d"
      },
      "execution_count": 3,
      "outputs": []
    },
    {
      "cell_type": "code",
      "source": [
        "# Matching lemmas для каждого уровня\n",
        "y_data_1 = []\n",
        "y_data_2 = []\n",
        "y_data_3 = []\n",
        "y_data_4 = []\n",
        "\n",
        "for file_name, lines in text_contents.items():\n",
        "    lv1 = 0\n",
        "    lv2 = 0\n",
        "    lv3 = 0\n",
        "    lv4 = 0\n",
        "    for i in lines:\n",
        "        if i in slovar1:\n",
        "            lv1 += 1\n",
        "        if i in slovar2:\n",
        "            lv2 += 1\n",
        "        if i in slovar3:\n",
        "            lv3 += 1\n",
        "        if i in slovar4:\n",
        "            lv4 += 1\n",
        "    y_data_1.append(lv1)\n",
        "    y_data_2.append(lv2)\n",
        "    y_data_3.append(lv3)\n",
        "    y_data_4.append(lv4)\n",
        "\n",
        "#Unmatched lemmas\n",
        "y_data_5 = []\n",
        "\n",
        "for i in range(len(y_data_1)):\n",
        "    diff = x_data[i] - y_data_1[i] - y_data_2[i] - y_data_3[i] - y_data_4[i]\n",
        "    y_data_5.append(diff)\n",
        "\n",
        "info = []\n",
        "info = list(text_contents.keys())\n",
        "name_to_number = {}\n",
        "\n",
        "\n",
        "for i, name in enumerate(set(info)):\n",
        "    name_to_number[name] = i\n",
        "\n",
        "info_n = [i for i in range(len(info))] # Заменяем имена на цифры для bar graph\n",
        "\n",
        "\n",
        "\n",
        "percentages_1 = [y / x * 100 for y, x in zip(y_data_1, x_data)]\n",
        "percentages_2 = [y / x * 100 for y, x in zip(y_data_2, x_data)]\n",
        "percentages_3 = [y / x * 100 for y, x in zip(y_data_3, x_data)]\n",
        "percentages_4 = [y / x * 100 for y, x in zip(y_data_4, x_data)]\n",
        "percentages_5 = [y / x * 100 for y, x in zip(y_data_5, x_data)]\n",
        "\n",
        "\n",
        "# Записываем данные словарь и из него делаем dataframe\n",
        "dict = {'Number': info_n, 'File_Name': info, 'Unique_Lemmas': x_data, 'A1 %':percentages_1, 'A2 %':percentages_2, 'B1 %':percentages_3, 'B2 %':percentages_4, 'Unmatched lemmas %':percentages_5}\n",
        "\n",
        "df = pd.DataFrame(dict)\n",
        "\n",
        "# Сохраняем dataframe как csv файл\n",
        "df.to_csv(\"students_data.csv\", encoding='utf-8', index=False)\n",
        "\n",
        "for i in range(len(y_data_1)):\n",
        "    x_data[i] = x_data[i] - y_data_5[i]\n",
        "\n",
        "percentages_1 = [y / x * 100 for y, x in zip(y_data_1, x_data)]\n",
        "percentages_2 = [y / x * 100 for y, x in zip(y_data_2, x_data)]\n",
        "percentages_3 = [y / x * 100 for y, x in zip(y_data_3, x_data)]\n",
        "percentages_4 = [y / x * 100 for y, x in zip(y_data_4, x_data)]\n",
        "\n",
        "colors = ['blue', 'green', 'red', 'orange']\n",
        "\n",
        "plt.figure(figsize=(10, 5))\n",
        "plt.style.use('seaborn')\n",
        "\n",
        "\n",
        "plt.bar(info_n, percentages_1, color=colors[0])\n",
        "plt.bar(info_n, percentages_2, bottom=percentages_1, color=colors[1])\n",
        "plt.bar(info_n, percentages_3, bottom=np.add(percentages_1, percentages_2), color=colors[2])\n",
        "plt.bar(info_n, percentages_4, bottom=np.add(np.add(percentages_1, percentages_2), percentages_3), color=colors[3])\n",
        "\n",
        "labels = ['A1', 'A2', 'B1', 'B2']\n",
        "\n",
        "plt.legend(labels, loc='center left', bbox_to_anchor=(1.0, 0.5))\n",
        "plt.xticks()\n",
        "plt.ylabel('Percentage')\n",
        "plt.show()"
      ],
      "metadata": {
        "colab": {
          "base_uri": "https://localhost:8080/",
          "height": 463
        },
        "id": "JXu3L010r3Fi",
        "outputId": "43cac421-1092-45a8-95a0-2bff5f0fed48"
      },
      "execution_count": 4,
      "outputs": [
        {
          "output_type": "stream",
          "name": "stderr",
          "text": [
            "<ipython-input-4-821ea53164bf>:71: MatplotlibDeprecationWarning: The seaborn styles shipped by Matplotlib are deprecated since 3.6, as they no longer correspond to the styles shipped by seaborn. However, they will remain available as 'seaborn-v0_8-<style>'. Alternatively, directly use the seaborn API instead.\n",
            "  plt.style.use('seaborn')\n"
          ]
        },
        {
          "output_type": "display_data",
          "data": {
            "text/plain": [
              "<Figure size 1000x500 with 1 Axes>"
            ],
            "image/png": "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\n"
          },
          "metadata": {}
        }
      ]
    },
    {
      "cell_type": "code",
      "source": [
        "df = pd.read_csv('A1.csv', sep=';')\n",
        "df.index = np.arange(1, len(df) + 1)\n",
        "A1 = df[:754]"
      ],
      "metadata": {
        "id": "uqF5QGkVQ8jy"
      },
      "execution_count": 5,
      "outputs": []
    },
    {
      "cell_type": "code",
      "source": [
        "df = pd.read_csv('A2.csv', sep=';')\n",
        "df.index = np.arange(1, len(df) + 1)\n",
        "A2 = df[:1048]"
      ],
      "metadata": {
        "id": "GWKmhxMhTEgu"
      },
      "execution_count": 6,
      "outputs": []
    },
    {
      "cell_type": "code",
      "source": [
        "df = pd.read_csv('B1.csv', sep=';')\n",
        "df.index = np.arange(1, len(df) + 1)\n",
        "B1 = df[:1081]"
      ],
      "metadata": {
        "id": "008zKNiLWHFT"
      },
      "execution_count": 7,
      "outputs": []
    },
    {
      "cell_type": "code",
      "source": [
        "df = pd.read_csv('B2.csv', sep=';')\n",
        "df.index = np.arange(1, len(df) + 1)\n",
        "B2 = df[:3331]"
      ],
      "metadata": {
        "id": "EC76rJT0XJDS"
      },
      "execution_count": 8,
      "outputs": []
    },
    {
      "cell_type": "code",
      "source": [
        "slovar1 = A1['Lemma'].str.lower().tolist()\n",
        "slovar2 = A2['Unnamed: 0'].str.lower().tolist()\n",
        "slovar3 = B1['Lemma'].str.lower().tolist()\n",
        "slovar4 = B2['Lemma'].str.lower().tolist()"
      ],
      "metadata": {
        "id": "kDqXLs5PFNUs"
      },
      "execution_count": 9,
      "outputs": []
    },
    {
      "cell_type": "code",
      "source": [
        "# Matching lemmas для каждого уровня\n",
        "y_data_1 = []\n",
        "y_data_2 = []\n",
        "y_data_3 = []\n",
        "y_data_4 = []\n",
        "\n",
        "for file_name, lines in text_contents.items():\n",
        "    lv1 = 0\n",
        "    lv2 = 0\n",
        "    lv3 = 0\n",
        "    lv4 = 0\n",
        "    for i in lines:\n",
        "        if i in slovar1:\n",
        "            lv1 += 1\n",
        "        if i in slovar2:\n",
        "            lv2 += 1\n",
        "        if i in slovar3:\n",
        "            lv3 += 1\n",
        "        if i in slovar4:\n",
        "            lv4 += 1\n",
        "    y_data_1.append(lv1)\n",
        "    y_data_2.append(lv2)\n",
        "    y_data_3.append(lv3)\n",
        "    y_data_4.append(lv4)\n",
        "\n",
        "#Unmatched lemmas\n",
        "y_data_5 = []\n",
        "\n",
        "for i in range(len(y_data_1)):\n",
        "    diff = x_data[i] - y_data_1[i] - y_data_2[i] - y_data_3[i] - y_data_4[i]\n",
        "    y_data_5.append(diff)\n",
        "\n",
        "info = []\n",
        "info = list(text_contents.keys())\n",
        "name_to_number = {}\n",
        "\n",
        "\n",
        "for i, name in enumerate(set(info)):\n",
        "    name_to_number[name] = i\n",
        "\n",
        "info_n = [i for i in range(len(info))] # Заменяем имена на цифры для bar graph\n",
        "\n",
        "\n",
        "\n",
        "percentages_1 = [y / x * 100 for y, x in zip(y_data_1, x_data)]\n",
        "percentages_2 = [y / x * 100 for y, x in zip(y_data_2, x_data)]\n",
        "percentages_3 = [y / x * 100 for y, x in zip(y_data_3, x_data)]\n",
        "percentages_4 = [y / x * 100 for y, x in zip(y_data_4, x_data)]\n",
        "percentages_5 = [y / x * 100 for y, x in zip(y_data_5, x_data)]\n",
        "\n",
        "\n",
        "# Записываем данные словарь и из него делаем dataframe\n",
        "dict = {'Number': info_n, 'File_Name': info, 'Unique_Lemmas': x_data, 'A1 %':percentages_1, 'A2 %':percentages_2, 'B1 %':percentages_3, 'B2 %':percentages_4, 'Unmatched lemmas %':percentages_5}\n",
        "\n",
        "df = pd.DataFrame(dict)\n",
        "\n",
        "# Сохраняем dataframe как csv файл\n",
        "df.to_csv(\"students_data.csv\", encoding='utf-8', index=False)\n",
        "\n",
        "for i in range(len(y_data_1)):\n",
        "    x_data[i] = x_data[i] - y_data_5[i]\n",
        "\n",
        "percentages_1 = [y / x * 100 for y, x in zip(y_data_1, x_data)]\n",
        "percentages_2 = [y / x * 100 for y, x in zip(y_data_2, x_data)]\n",
        "percentages_3 = [y / x * 100 for y, x in zip(y_data_3, x_data)]\n",
        "percentages_4 = [y / x * 100 for y, x in zip(y_data_4, x_data)]\n",
        "\n",
        "colors = ['blue', 'green', 'red', 'orange']\n",
        "\n",
        "plt.figure(figsize=(10, 5))\n",
        "plt.style.use('seaborn')\n",
        "\n",
        "\n",
        "plt.bar(info_n, percentages_1, color=colors[0])\n",
        "plt.bar(info_n, percentages_2, bottom=percentages_1, color=colors[1])\n",
        "plt.bar(info_n, percentages_3, bottom=np.add(percentages_1, percentages_2), color=colors[2])\n",
        "plt.bar(info_n, percentages_4, bottom=np.add(np.add(percentages_1, percentages_2), percentages_3), color=colors[3])\n",
        "\n",
        "labels = ['A1', 'A2', 'B1', 'B2']\n",
        "\n",
        "plt.legend(labels, loc='center left', bbox_to_anchor=(1.0, 0.5))\n",
        "plt.xticks()\n",
        "plt.ylabel('Percentage')\n",
        "plt.show()"
      ],
      "metadata": {
        "colab": {
          "base_uri": "https://localhost:8080/",
          "height": 458
        },
        "id": "EJhVVlnUstVU",
        "outputId": "1912ab85-6a7c-4bfc-9676-60f6032e2338"
      },
      "execution_count": 10,
      "outputs": [
        {
          "output_type": "stream",
          "name": "stderr",
          "text": [
            "<ipython-input-10-821ea53164bf>:71: MatplotlibDeprecationWarning: The seaborn styles shipped by Matplotlib are deprecated since 3.6, as they no longer correspond to the styles shipped by seaborn. However, they will remain available as 'seaborn-v0_8-<style>'. Alternatively, directly use the seaborn API instead.\n",
            "  plt.style.use('seaborn')\n"
          ]
        },
        {
          "output_type": "display_data",
          "data": {
            "text/plain": [
              "<Figure size 1000x500 with 1 Axes>"
            ],
            "image/png": "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\n"
          },
          "metadata": {}
        }
      ]
    },
    {
      "cell_type": "code",
      "source": [
        "df = pd.read_csv('new_vocab_a1.csv', sep=';')\n",
        "df.index = np.arange(1, len(df) + 1)\n",
        "i = 1\n",
        "for word in df['а']:\n",
        "  if len(word) < 2:\n",
        "    df.drop(index = i, inplace = True)\n",
        "  else:\n",
        "    i += 1\n",
        "nv1 = df"
      ],
      "metadata": {
        "id": "U4Bxcq4ls9En"
      },
      "execution_count": 11,
      "outputs": []
    },
    {
      "cell_type": "code",
      "source": [
        "df = pd.read_csv('new_vocab_a2.csv', sep=';')\n",
        "df.index = np.arange(1, len(df) + 1)\n",
        "i = 1\n",
        "for word in df['а']:\n",
        "  if len(word) < 2:\n",
        "    df.drop(index = i, inplace = True)\n",
        "  else:\n",
        "    i += 1\n",
        "nv2 = df"
      ],
      "metadata": {
        "id": "Wm8-VV060V2S"
      },
      "execution_count": 12,
      "outputs": []
    },
    {
      "cell_type": "code",
      "source": [
        "df = pd.read_csv('new_vocab_b1.csv', sep=';')\n",
        "df.index = np.arange(1, len(df) + 1)\n",
        "i = 1\n",
        "for word in df['а']:\n",
        "  if len(word) < 2:\n",
        "    df.drop(index = i, inplace = True)\n",
        "  else:\n",
        "    i += 1\n",
        "nv3 = df"
      ],
      "metadata": {
        "id": "3knprXCl0nsD"
      },
      "execution_count": 13,
      "outputs": []
    },
    {
      "cell_type": "code",
      "source": [
        "df = pd.read_csv('new_vocab_b2.csv', sep=';')\n",
        "df.index = np.arange(1, len(df) + 1)\n",
        "i = 1\n",
        "for word in df['а']:\n",
        "  if len(word) < 2:\n",
        "    df.drop(index = i, inplace = True)\n",
        "  else:\n",
        "    i += 1\n",
        "nv4 = df"
      ],
      "metadata": {
        "id": "cB5W9R7b04Gb"
      },
      "execution_count": 14,
      "outputs": []
    },
    {
      "cell_type": "code",
      "source": [
        "slovar1 = nv1['а'].str.lower().tolist()\n",
        "data8 = nv2['а'].str.lower().tolist()\n",
        "slovar2 = list(set(data8) - set(slovar1))\n",
        "data7 = nv3['а'].str.lower().tolist()\n",
        "slovar3 = list(set(data7) - set(data8))\n",
        "data6 = nv4['а'].str.lower().tolist()\n",
        "slovar4 = list(set(data6) - set(data7))"
      ],
      "metadata": {
        "id": "Db2oJb90IHBL"
      },
      "execution_count": 15,
      "outputs": []
    },
    {
      "cell_type": "code",
      "source": [
        "# Matching lemmas для каждого уровня\n",
        "y_data_1 = []\n",
        "y_data_2 = []\n",
        "y_data_3 = []\n",
        "y_data_4 = []\n",
        "\n",
        "for file_name, lines in text_contents.items():\n",
        "    lv1 = 0\n",
        "    lv2 = 0\n",
        "    lv3 = 0\n",
        "    lv4 = 0\n",
        "    for i in lines:\n",
        "        if i in slovar1:\n",
        "            lv1 += 1\n",
        "        if i in slovar2:\n",
        "            lv2 += 1\n",
        "        if i in slovar3:\n",
        "            lv3 += 1\n",
        "        if i in slovar4:\n",
        "            lv4 += 1\n",
        "    y_data_1.append(lv1)\n",
        "    y_data_2.append(lv2)\n",
        "    y_data_3.append(lv3)\n",
        "    y_data_4.append(lv4)\n",
        "\n",
        "#Unmatched lemmas\n",
        "y_data_5 = []\n",
        "\n",
        "for i in range(len(y_data_1)):\n",
        "    diff = x_data[i] - y_data_1[i] - y_data_2[i] - y_data_3[i] - y_data_4[i]\n",
        "    y_data_5.append(diff)\n",
        "\n",
        "info = []\n",
        "info = list(text_contents.keys())\n",
        "name_to_number = {}\n",
        "\n",
        "\n",
        "for i, name in enumerate(set(info)):\n",
        "    name_to_number[name] = i\n",
        "\n",
        "info_n = [i for i in range(len(info))] # Заменяем имена на цифры для bar graph\n",
        "\n",
        "\n",
        "\n",
        "percentages_1 = [y / x * 100 for y, x in zip(y_data_1, x_data)]\n",
        "percentages_2 = [y / x * 100 for y, x in zip(y_data_2, x_data)]\n",
        "percentages_3 = [y / x * 100 for y, x in zip(y_data_3, x_data)]\n",
        "percentages_4 = [y / x * 100 for y, x in zip(y_data_4, x_data)]\n",
        "percentages_5 = [y / x * 100 for y, x in zip(y_data_5, x_data)]\n",
        "\n",
        "\n",
        "# Записываем данные словарь и из него делаем dataframe\n",
        "dict = {'Number': info_n, 'File_Name': info, 'Unique_Lemmas': x_data, 'A1 %':percentages_1, 'A2 %':percentages_2, 'B1 %':percentages_3, 'B2 %':percentages_4, 'Unmatched lemmas %':percentages_5}\n",
        "\n",
        "df = pd.DataFrame(dict)\n",
        "\n",
        "# Сохраняем dataframe как csv файл\n",
        "df.to_csv(\"students_data.csv\", encoding='utf-8', index=False)\n",
        "\n",
        "for i in range(len(y_data_1)):\n",
        "    x_data[i] = x_data[i] - y_data_5[i]\n",
        "\n",
        "percentages_1 = [y / x * 100 for y, x in zip(y_data_1, x_data)]\n",
        "percentages_2 = [y / x * 100 for y, x in zip(y_data_2, x_data)]\n",
        "percentages_3 = [y / x * 100 for y, x in zip(y_data_3, x_data)]\n",
        "percentages_4 = [y / x * 100 for y, x in zip(y_data_4, x_data)]\n",
        "\n",
        "colors = ['blue', 'green', 'red', 'orange']\n",
        "\n",
        "plt.figure(figsize=(10, 5))\n",
        "plt.style.use('seaborn')\n",
        "\n",
        "\n",
        "plt.bar(info_n, percentages_1, color=colors[0])\n",
        "plt.bar(info_n, percentages_2, bottom=percentages_1, color=colors[1])\n",
        "plt.bar(info_n, percentages_3, bottom=np.add(percentages_1, percentages_2), color=colors[2])\n",
        "plt.bar(info_n, percentages_4, bottom=np.add(np.add(percentages_1, percentages_2), percentages_3), color=colors[3])\n",
        "\n",
        "labels = ['A1', 'A2', 'B1', 'B2']\n",
        "\n",
        "plt.legend(labels, loc='center left', bbox_to_anchor=(1.0, 0.5))\n",
        "plt.xticks()\n",
        "plt.ylabel('Percentage')\n",
        "plt.show()"
      ],
      "metadata": {
        "colab": {
          "base_uri": "https://localhost:8080/",
          "height": 458
        },
        "outputId": "046e8b62-dcb1-4202-8111-120860de0f94",
        "id": "kB5sYKF4tfxO"
      },
      "execution_count": 16,
      "outputs": [
        {
          "output_type": "stream",
          "name": "stderr",
          "text": [
            "<ipython-input-16-821ea53164bf>:71: MatplotlibDeprecationWarning: The seaborn styles shipped by Matplotlib are deprecated since 3.6, as they no longer correspond to the styles shipped by seaborn. However, they will remain available as 'seaborn-v0_8-<style>'. Alternatively, directly use the seaborn API instead.\n",
            "  plt.style.use('seaborn')\n"
          ]
        },
        {
          "output_type": "display_data",
          "data": {
            "text/plain": [
              "<Figure size 1000x500 with 1 Axes>"
            ],
            "image/png": "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\n"
          },
          "metadata": {}
        }
      ]
    }
  ]
}
