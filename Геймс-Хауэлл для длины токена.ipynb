{
  "nbformat": 4,
  "nbformat_minor": 0,
  "metadata": {
    "colab": {
      "provenance": [],
      "authorship_tag": "ABX9TyMcuyARS4DhAa1GJ3s4FkwN",
      "include_colab_link": true
    },
    "kernelspec": {
      "name": "python3",
      "display_name": "Python 3"
    },
    "language_info": {
      "name": "python"
    }
  },
  "cells": [
    {
      "cell_type": "markdown",
      "metadata": {
        "id": "view-in-github",
        "colab_type": "text"
      },
      "source": [
        "<a href=\"https://colab.research.google.com/github/Vakhranev/MDB/blob/main/%D0%93%D0%B5%D0%B9%D0%BC%D1%81-%D0%A5%D0%B0%D1%83%D1%8D%D0%BB%D0%BB%20%D0%B4%D0%BB%D1%8F%20%D0%B4%D0%BB%D0%B8%D0%BD%D1%8B%20%D1%82%D0%BE%D0%BA%D0%B5%D0%BD%D0%B0.ipynb\" target=\"_parent\"><img src=\"https://colab.research.google.com/assets/colab-badge.svg\" alt=\"Open In Colab\"/></a>"
      ]
    },
    {
      "cell_type": "code",
      "execution_count": 2,
      "metadata": {
        "colab": {
          "base_uri": "https://localhost:8080/"
        },
        "id": "REpbaf3pI37y",
        "outputId": "964a89c4-0da5-4f25-84c6-4c81985f311c"
      },
      "outputs": [
        {
          "output_type": "stream",
          "name": "stdout",
          "text": [
            "F-статистика: 57.30753093011176\n",
            "p-value: 2.0828233774138275e-34\n"
          ]
        }
      ],
      "source": [
        "from scipy.stats import f_oneway\n",
        "import os\n",
        "import glob\n",
        "import numpy as np\n",
        "from scipy.stats import f_oneway\n",
        "\n",
        "cefr_levels = [\"A1\", \"A2\", \"B1\", \"B2\"]\n",
        "# Здесь следует добавить обработку файлов и расчет средних значений токенов\n",
        "# И после этого, вы можете использовать код ANOVA, подобный предыдущему примеру.\n",
        "\n",
        "# Список для хранения длин токенов всех файлов\n",
        "all_token_lengths = []\n",
        "\n",
        "# Словарь для хранения средних значений длин токенов в каждом уровне CEFR\n",
        "avg_lengths_in_level = {}\n",
        "\n",
        "# Обработка каждого уровня CEFR\n",
        "for cefr_level in cefr_levels:\n",
        "    folder_path = f\"/content/Students_texts/{cefr_level}\"\n",
        "    file_list = glob.glob(os.path.join(folder_path, \"*.txt\"))\n",
        "\n",
        "    # Список для хранения средних значений длин токенов в текущем уровне CEFR\n",
        "    lengths_in_level = []\n",
        "\n",
        "    # Обработка каждого файла в текущем уровне CEFR\n",
        "    for file_path in file_list:\n",
        "        with open(file_path, 'r') as file:\n",
        "            text = file.read()\n",
        "            tokens = text.split()\n",
        "            token_lengths = [len(token) for token in tokens]\n",
        "            avg_token_length = np.mean(token_lengths)\n",
        "            lengths_in_level.append(avg_token_length)\n",
        "            all_token_lengths.extend(token_lengths)\n",
        "\n",
        "    # Среднее значение для текущего уровня CEFR\n",
        "    avg_for_cefr = np.mean(lengths_in_level)\n",
        "    avg_lengths_in_level[cefr_level] = lengths_in_level\n",
        "\n",
        "# ANOVA\n",
        "f_statistic, p_value = f_oneway(\n",
        "    avg_lengths_in_level['A1'],\n",
        "    avg_lengths_in_level['A2'],\n",
        "    avg_lengths_in_level['B1'],\n",
        "    avg_lengths_in_level['B2']\n",
        ")\n",
        "\n",
        "print(f\"F-статистика: {f_statistic}\")\n",
        "print(f\"p-value: {p_value}\")"
      ]
    },
    {
      "cell_type": "code",
      "source": [
        "from scipy.stats import bartlett\n",
        "\n",
        "group_obs = {level: len(avg_lengths_in_level[level]) for level in cefr_levels}\n",
        "group_means = {level: np.mean(avg_lengths_in_level[level]) for level in cefr_levels}\n",
        "group_variance = {level: np.var(avg_lengths_in_level[level]) for level in cefr_levels}\n",
        "\n",
        "# Degrees of freedom for each group\n",
        "k = len(cefr_levels)\n",
        "\n",
        "# Calculate pooled variance\n",
        "pooled_variance = sum([(group_obs[level] - 1) * group_variance[level] for level in cefr_levels]) / (sum(group_obs.values()) - k)\n",
        "\n",
        "# Calculate test statistic\n",
        "games_howell_statistic = []\n",
        "for i in range(k - 1):\n",
        "    for j in range(i + 1, k):\n",
        "        t_val = np.abs(group_means[cefr_levels[i]] - group_means[cefr_levels[j]]) / np.sqrt(\n",
        "            pooled_variance * (1 / group_obs[cefr_levels[i]] + 1 / group_obs[cefr_levels[j]])\n",
        "        )\n",
        "        df_num = (pooled_variance ** 2) / (\n",
        "            (group_variance[cefr_levels[i]] ** 2 / (group_obs[cefr_levels[i]] ** 2 * (group_obs[cefr_levels[i]] - 1))) +\n",
        "            (group_variance[cefr_levels[j]] ** 2 / (group_obs[cefr_levels[j]] ** 2 * (group_obs[cefr_levels[j]] - 1)))\n",
        "        )\n",
        "        df_denom = (\n",
        "            (group_variance[cefr_levels[i]] ** 2 / (group_obs[cefr_levels[i]] ** 2 * (group_obs[cefr_levels[i]] - 1))) ** 2 / (group_obs[cefr_levels[i]] - 1) +\n",
        "            (group_variance[cefr_levels[j]] ** 2 / (group_obs[cefr_levels[j]] ** 2 * (group_obs[cefr_levels[j]] - 1))) ** 2 / (group_obs[cefr_levels[j]] - 1)\n",
        "        )\n",
        "        df = df_num / df_denom\n",
        "\n",
        "        games_howell_statistic.append((cefr_levels[i], cefr_levels[j], t_val, df))\n",
        "\n",
        "# Printing results\n",
        "for stat in games_howell_statistic:\n",
        "    print(f\"Comparison: {stat[0]} vs {stat[1]}\")\n",
        "    print(f\"t-value: {stat[2]}\")\n",
        "    print(f\"Degrees of freedom: {stat[3]}\")"
      ],
      "metadata": {
        "colab": {
          "base_uri": "https://localhost:8080/"
        },
        "id": "AbS1jBe9Zf6X",
        "outputId": "d4345693-171b-4044-f960-13204b0f75aa"
      },
      "execution_count": 3,
      "outputs": [
        {
          "output_type": "stream",
          "name": "stdout",
          "text": [
            "Comparison: A1 vs A2\n",
            "t-value: 1.7785874042623104\n",
            "Degrees of freedom: 4289494830447953.0\n",
            "Comparison: A1 vs B1\n",
            "t-value: 2.628812709513902\n",
            "Degrees of freedom: 4288804776973837.5\n",
            "Comparison: A1 vs B2\n",
            "t-value: 6.318112696493338\n",
            "Degrees of freedom: 4210314532547371.0\n",
            "Comparison: A2 vs B1\n",
            "t-value: 8.915254260425465\n",
            "Degrees of freedom: 4.4781735174074354e+27\n",
            "Comparison: A2 vs B2\n",
            "t-value: 12.03860137182147\n",
            "Degrees of freedom: 1.3408701775113266e+21\n",
            "Comparison: B1 vs B2\n",
            "t-value: 6.206896625096317\n",
            "Degrees of freedom: 1.3293849424075075e+21\n"
          ]
        }
      ]
    },
    {
      "cell_type": "code",
      "source": [
        "import pandas as pd\n",
        "\n",
        "result_dict = {\n",
        "    'Comparison': [f\"{stat[0]} vs {stat[1]}\" for stat in games_howell_statistic],\n",
        "    't-value': [stat[2] for stat in games_howell_statistic],\n",
        "    'Degrees of freedom': [stat[3] for stat in games_howell_statistic]\n",
        "}\n",
        "\n",
        "result_df = pd.DataFrame(result_dict)\n",
        "print(result_df)"
      ],
      "metadata": {
        "colab": {
          "base_uri": "https://localhost:8080/"
        },
        "id": "-m874phlaGeB",
        "outputId": "baca9220-bda8-4bef-857a-e45bedea70d4"
      },
      "execution_count": 4,
      "outputs": [
        {
          "output_type": "stream",
          "name": "stdout",
          "text": [
            "  Comparison    t-value  Degrees of freedom\n",
            "0   A1 vs A2   1.778587        4.289495e+15\n",
            "1   A1 vs B1   2.628813        4.288805e+15\n",
            "2   A1 vs B2   6.318113        4.210315e+15\n",
            "3   A2 vs B1   8.915254        4.478174e+27\n",
            "4   A2 vs B2  12.038601        1.340870e+21\n",
            "5   B1 vs B2   6.206897        1.329385e+21\n"
          ]
        }
      ]
    }
  ]
}