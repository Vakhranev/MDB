{
  "nbformat": 4,
  "nbformat_minor": 0,
  "metadata": {
    "colab": {
      "provenance": [],
      "authorship_tag": "ABX9TyMs26eP1IM1O/FQxcwwLbhL",
      "include_colab_link": true
    },
    "kernelspec": {
      "name": "python3",
      "display_name": "Python 3"
    },
    "language_info": {
      "name": "python"
    }
  },
  "cells": [
    {
      "cell_type": "markdown",
      "metadata": {
        "id": "view-in-github",
        "colab_type": "text"
      },
      "source": [
        "<a href=\"https://colab.research.google.com/github/Vakhranev/MDB/blob/main/%D0%93%D0%B5%D0%B9%D0%BC%D1%81-%D0%A5%D0%B0%D1%83%D1%8D%D0%BB%D0%BB%20%D0%B4%D0%BB%D1%8F%20%D0%B4%D0%BB%D0%B8%D0%BD%D1%8B%20%D1%82%D0%BE%D0%BA%D0%B5%D0%BD%D0%B0.ipynb\" target=\"_parent\"><img src=\"https://colab.research.google.com/assets/colab-badge.svg\" alt=\"Open In Colab\"/></a>"
      ]
    },
    {
      "cell_type": "code",
      "execution_count": 1,
      "metadata": {
        "colab": {
          "base_uri": "https://localhost:8080/"
        },
        "id": "REpbaf3pI37y",
        "outputId": "90459015-66f0-41c3-c276-ea70cd84ed91"
      },
      "outputs": [
        {
          "output_type": "stream",
          "name": "stdout",
          "text": [
            "F-статистика: 57.30753093011176\n",
            "p-value: 2.0828233774138275e-34\n"
          ]
        }
      ],
      "source": [
        "from scipy.stats import f_oneway\n",
        "import os\n",
        "import glob\n",
        "import numpy as np\n",
        "from scipy.stats import f_oneway\n",
        "\n",
        "cefr_levels = [\"A1\", \"A2\", \"B1\", \"B2\"]\n",
        "# Здесь следует добавить обработку файлов и расчет средних значений токенов\n",
        "# И после этого, вы можете использовать код ANOVA, подобный предыдущему примеру.\n",
        "\n",
        "# Список для хранения длин токенов всех файлов\n",
        "all_token_lengths = []\n",
        "\n",
        "# Словарь для хранения средних значений длин токенов в каждом уровне CEFR\n",
        "avg_lengths_in_level = {}\n",
        "\n",
        "# Обработка каждого уровня CEFR\n",
        "for cefr_level in cefr_levels:\n",
        "    folder_path = f\"/content/Students_texts/{cefr_level}\"\n",
        "    file_list = glob.glob(os.path.join(folder_path, \"*.txt\"))\n",
        "\n",
        "    # Список для хранения средних значений длин токенов в текущем уровне CEFR\n",
        "    lengths_in_level = []\n",
        "\n",
        "    # Обработка каждого файла в текущем уровне CEFR\n",
        "    for file_path in file_list:\n",
        "        with open(file_path, 'r') as file:\n",
        "            text = file.read()\n",
        "            tokens = text.split()\n",
        "            token_lengths = [len(token) for token in tokens]\n",
        "            avg_token_length = np.mean(token_lengths)\n",
        "            lengths_in_level.append(avg_token_length)\n",
        "            all_token_lengths.extend(token_lengths)\n",
        "\n",
        "    # Среднее значение для текущего уровня CEFR\n",
        "    avg_for_cefr = np.mean(lengths_in_level)\n",
        "    avg_lengths_in_level[cefr_level] = lengths_in_level\n",
        "\n",
        "# ANOVA\n",
        "f_statistic, p_value = f_oneway(\n",
        "    avg_lengths_in_level['A1'],\n",
        "    avg_lengths_in_level['A2'],\n",
        "    avg_lengths_in_level['B1'],\n",
        "    avg_lengths_in_level['B2']\n",
        ")\n",
        "\n",
        "print(f\"F-статистика: {f_statistic}\")\n",
        "print(f\"p-value: {p_value}\")"
      ]
    },
    {
      "cell_type": "code",
      "source": [
        "!pip install pingouin"
      ],
      "metadata": {
        "colab": {
          "base_uri": "https://localhost:8080/"
        },
        "id": "ALox3scD40N0",
        "outputId": "9ed2cb89-aa7e-44a2-a5e5-bc294de736e8"
      },
      "execution_count": 3,
      "outputs": [
        {
          "output_type": "stream",
          "name": "stdout",
          "text": [
            "Collecting pingouin\n",
            "  Downloading pingouin-0.5.3-py3-none-any.whl (198 kB)\n",
            "\u001b[?25l     \u001b[90m━━━━━━━━━━━━━━━━━━━━━━━━━━━━━━━━━━━━━━━━\u001b[0m \u001b[32m0.0/198.6 kB\u001b[0m \u001b[31m?\u001b[0m eta \u001b[36m-:--:--\u001b[0m\r\u001b[2K     \u001b[90m━━━━━━━━━━━━━━━━━━━━━━━━━━━━━━━━━━━━━━━━\u001b[0m \u001b[32m198.6/198.6 kB\u001b[0m \u001b[31m6.9 MB/s\u001b[0m eta \u001b[36m0:00:00\u001b[0m\n",
            "\u001b[?25hRequirement already satisfied: numpy>=1.19 in /usr/local/lib/python3.10/dist-packages (from pingouin) (1.23.5)\n",
            "Requirement already satisfied: scipy>=1.7 in /usr/local/lib/python3.10/dist-packages (from pingouin) (1.11.3)\n",
            "Requirement already satisfied: pandas>=1.0 in /usr/local/lib/python3.10/dist-packages (from pingouin) (1.5.3)\n",
            "Requirement already satisfied: matplotlib>=3.0.2 in /usr/local/lib/python3.10/dist-packages (from pingouin) (3.7.1)\n",
            "Requirement already satisfied: seaborn>=0.11 in /usr/local/lib/python3.10/dist-packages (from pingouin) (0.12.2)\n",
            "Requirement already satisfied: statsmodels>=0.13 in /usr/local/lib/python3.10/dist-packages (from pingouin) (0.14.0)\n",
            "Requirement already satisfied: scikit-learn in /usr/local/lib/python3.10/dist-packages (from pingouin) (1.2.2)\n",
            "Collecting pandas-flavor>=0.2.0 (from pingouin)\n",
            "  Downloading pandas_flavor-0.6.0-py3-none-any.whl (7.2 kB)\n",
            "Collecting outdated (from pingouin)\n",
            "  Downloading outdated-0.2.2-py2.py3-none-any.whl (7.5 kB)\n",
            "Requirement already satisfied: tabulate in /usr/local/lib/python3.10/dist-packages (from pingouin) (0.9.0)\n",
            "Requirement already satisfied: contourpy>=1.0.1 in /usr/local/lib/python3.10/dist-packages (from matplotlib>=3.0.2->pingouin) (1.2.0)\n",
            "Requirement already satisfied: cycler>=0.10 in /usr/local/lib/python3.10/dist-packages (from matplotlib>=3.0.2->pingouin) (0.12.1)\n",
            "Requirement already satisfied: fonttools>=4.22.0 in /usr/local/lib/python3.10/dist-packages (from matplotlib>=3.0.2->pingouin) (4.44.0)\n",
            "Requirement already satisfied: kiwisolver>=1.0.1 in /usr/local/lib/python3.10/dist-packages (from matplotlib>=3.0.2->pingouin) (1.4.5)\n",
            "Requirement already satisfied: packaging>=20.0 in /usr/local/lib/python3.10/dist-packages (from matplotlib>=3.0.2->pingouin) (23.2)\n",
            "Requirement already satisfied: pillow>=6.2.0 in /usr/local/lib/python3.10/dist-packages (from matplotlib>=3.0.2->pingouin) (9.4.0)\n",
            "Requirement already satisfied: pyparsing>=2.3.1 in /usr/local/lib/python3.10/dist-packages (from matplotlib>=3.0.2->pingouin) (3.1.1)\n",
            "Requirement already satisfied: python-dateutil>=2.7 in /usr/local/lib/python3.10/dist-packages (from matplotlib>=3.0.2->pingouin) (2.8.2)\n",
            "Requirement already satisfied: pytz>=2020.1 in /usr/local/lib/python3.10/dist-packages (from pandas>=1.0->pingouin) (2023.3.post1)\n",
            "Requirement already satisfied: xarray in /usr/local/lib/python3.10/dist-packages (from pandas-flavor>=0.2.0->pingouin) (2023.7.0)\n",
            "Requirement already satisfied: patsy>=0.5.2 in /usr/local/lib/python3.10/dist-packages (from statsmodels>=0.13->pingouin) (0.5.3)\n",
            "Requirement already satisfied: setuptools>=44 in /usr/local/lib/python3.10/dist-packages (from outdated->pingouin) (67.7.2)\n",
            "Collecting littleutils (from outdated->pingouin)\n",
            "  Downloading littleutils-0.2.2.tar.gz (6.6 kB)\n",
            "  Preparing metadata (setup.py) ... \u001b[?25l\u001b[?25hdone\n",
            "Requirement already satisfied: requests in /usr/local/lib/python3.10/dist-packages (from outdated->pingouin) (2.31.0)\n",
            "Requirement already satisfied: joblib>=1.1.1 in /usr/local/lib/python3.10/dist-packages (from scikit-learn->pingouin) (1.3.2)\n",
            "Requirement already satisfied: threadpoolctl>=2.0.0 in /usr/local/lib/python3.10/dist-packages (from scikit-learn->pingouin) (3.2.0)\n",
            "Requirement already satisfied: six in /usr/local/lib/python3.10/dist-packages (from patsy>=0.5.2->statsmodels>=0.13->pingouin) (1.16.0)\n",
            "Requirement already satisfied: charset-normalizer<4,>=2 in /usr/local/lib/python3.10/dist-packages (from requests->outdated->pingouin) (3.3.2)\n",
            "Requirement already satisfied: idna<4,>=2.5 in /usr/local/lib/python3.10/dist-packages (from requests->outdated->pingouin) (3.4)\n",
            "Requirement already satisfied: urllib3<3,>=1.21.1 in /usr/local/lib/python3.10/dist-packages (from requests->outdated->pingouin) (2.0.7)\n",
            "Requirement already satisfied: certifi>=2017.4.17 in /usr/local/lib/python3.10/dist-packages (from requests->outdated->pingouin) (2023.7.22)\n",
            "Building wheels for collected packages: littleutils\n",
            "  Building wheel for littleutils (setup.py) ... \u001b[?25l\u001b[?25hdone\n",
            "  Created wheel for littleutils: filename=littleutils-0.2.2-py3-none-any.whl size=7029 sha256=19ab129ccd985eb4611a218b9e68ee16ca390470f728eb60a080ec6d88267e11\n",
            "  Stored in directory: /root/.cache/pip/wheels/3d/fe/b0/27a9892da57472e538c7452a721a9cf463cc03cf7379889266\n",
            "Successfully built littleutils\n",
            "Installing collected packages: littleutils, outdated, pandas-flavor, pingouin\n",
            "Successfully installed littleutils-0.2.2 outdated-0.2.2 pandas-flavor-0.6.0 pingouin-0.5.3\n"
          ]
        }
      ]
    },
    {
      "cell_type": "code",
      "source": [
        "import os\n",
        "import glob\n",
        "import numpy as np\n",
        "import pingouin as pg\n",
        "import pandas as pd\n",
        "\n",
        "cefr_levels = [\"A1\", \"A2\", \"B1\", \"B2\"]\n",
        "\n",
        "# Создаем DataFrame для хранения данных\n",
        "data = pd.DataFrame()\n",
        "\n",
        "# Обработка каждого уровня CEFR\n",
        "for cefr_level in cefr_levels:\n",
        "    folder_path = f\"/content/Students_texts/{cefr_level}\"\n",
        "    file_list = glob.glob(os.path.join(folder_path, \"*.txt\"))\n",
        "\n",
        "    # Список для хранения средних значений длин токенов в текущем уровне CEFR\n",
        "    lengths_in_level = []\n",
        "\n",
        "    # Обработка каждого файла в текущем уровне CEFR\n",
        "    for file_path in file_list:\n",
        "        with open(file_path, 'r') as file:\n",
        "            text = file.read()\n",
        "            tokens = text.split()\n",
        "            token_lengths = [len(token) for token in tokens]\n",
        "            avg_token_length = np.mean(token_lengths)\n",
        "            lengths_in_level.append(avg_token_length)\n",
        "\n",
        "    # Создаем временный DataFrame для текущего уровня CEFR\n",
        "    temp_df = pd.DataFrame({cefr_level: lengths_in_level})\n",
        "\n",
        "    # Объединяем временный DataFrame с общим DataFrame\n",
        "    data = pd.concat([data, temp_df], axis=1)\n",
        "\n",
        "# Преобразуем данные в нужный формат\n",
        "long_data = pd.melt(data, var_name='CEFR Level', value_name='Average Token Length')\n",
        "\n",
        "# Выполняем тест Геймса-Хауэлла\n",
        "result = pg.pairwise_gameshowell(data=long_data, dv='Average Token Length', between='CEFR Level')\n",
        "\n",
        "# Вывод результатов\n",
        "print(result)"
      ],
      "metadata": {
        "colab": {
          "base_uri": "https://localhost:8080/"
        },
        "id": "AbS1jBe9Zf6X",
        "outputId": "8ff16a4b-baf4-4679-af14-dd585911ff5b"
      },
      "execution_count": 6,
      "outputs": [
        {
          "output_type": "stream",
          "name": "stdout",
          "text": [
            "    A   B   mean(A)   mean(B)      diff        se          T          df  \\\n",
            "0  A1  A2  5.113702  4.944422  0.169280  0.178100   0.950479   63.591031   \n",
            "1  A1  B1  5.113702  5.362862 -0.249160  0.180203  -1.382665   66.637635   \n",
            "2  A1  B2  5.113702  5.801422 -0.687720  0.193311  -3.557583   86.671880   \n",
            "3  A2  B1  4.944422  5.362862 -0.418440  0.039406 -10.618640  751.901696   \n",
            "4  A2  B2  4.944422  5.801422 -0.857001  0.080305 -10.671765  143.019977   \n",
            "5  B1  B2  5.362862  5.801422 -0.438560  0.084867  -5.167603  176.886636   \n",
            "\n",
            "           pval    hedges  \n",
            "0  7.777363e-01  0.267765  \n",
            "1  5.145413e-01 -0.295615  \n",
            "2  3.357018e-03 -0.634447  \n",
            "3  2.997602e-15 -0.692781  \n",
            "4  0.000000e+00 -1.542602  \n",
            "5  3.779108e-06 -0.570682  \n"
          ]
        }
      ]
    }
  ]
}