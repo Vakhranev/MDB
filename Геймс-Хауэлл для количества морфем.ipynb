{
  "nbformat": 4,
  "nbformat_minor": 0,
  "metadata": {
    "colab": {
      "provenance": [],
      "authorship_tag": "ABX9TyM3lvLsHMIZv4H9K+v0TVkW",
      "include_colab_link": true
    },
    "kernelspec": {
      "name": "python3",
      "display_name": "Python 3"
    },
    "language_info": {
      "name": "python"
    }
  },
  "cells": [
    {
      "cell_type": "markdown",
      "metadata": {
        "id": "view-in-github",
        "colab_type": "text"
      },
      "source": [
        "<a href=\"https://colab.research.google.com/github/Vakhranev/MDB/blob/main/%D0%93%D0%B5%D0%B9%D0%BC%D1%81-%D0%A5%D0%B0%D1%83%D1%8D%D0%BB%D0%BB%20%D0%B4%D0%BB%D1%8F%20%D0%BA%D0%BE%D0%BB%D0%B8%D1%87%D0%B5%D1%81%D1%82%D0%B2%D0%B0%20%D0%BC%D0%BE%D1%80%D1%84%D0%B5%D0%BC.ipynb\" target=\"_parent\"><img src=\"https://colab.research.google.com/assets/colab-badge.svg\" alt=\"Open In Colab\"/></a>"
      ]
    },
    {
      "cell_type": "code",
      "source": [
        "!pip install pingouin"
      ],
      "metadata": {
        "colab": {
          "base_uri": "https://localhost:8080/"
        },
        "id": "ALox3scD40N0",
        "outputId": "b0c977f2-6735-4d50-a1ee-9cfebd3e6e2a"
      },
      "execution_count": 1,
      "outputs": [
        {
          "output_type": "stream",
          "name": "stdout",
          "text": [
            "Collecting pingouin\n",
            "  Downloading pingouin-0.5.3-py3-none-any.whl (198 kB)\n",
            "\u001b[?25l     \u001b[90m━━━━━━━━━━━━━━━━━━━━━━━━━━━━━━━━━━━━━━━━\u001b[0m \u001b[32m0.0/198.6 kB\u001b[0m \u001b[31m?\u001b[0m eta \u001b[36m-:--:--\u001b[0m\r\u001b[2K     \u001b[91m━━━━━━━━━━━━━━━━━━━━━━━━━━━━━━\u001b[0m\u001b[91m╸\u001b[0m\u001b[90m━━━━━━━━━\u001b[0m \u001b[32m153.6/198.6 kB\u001b[0m \u001b[31m4.6 MB/s\u001b[0m eta \u001b[36m0:00:01\u001b[0m\r\u001b[2K     \u001b[90m━━━━━━━━━━━━━━━━━━━━━━━━━━━━━━━━━━━━━━━━\u001b[0m \u001b[32m198.6/198.6 kB\u001b[0m \u001b[31m4.0 MB/s\u001b[0m eta \u001b[36m0:00:00\u001b[0m\n",
            "\u001b[?25hRequirement already satisfied: numpy>=1.19 in /usr/local/lib/python3.10/dist-packages (from pingouin) (1.23.5)\n",
            "Requirement already satisfied: scipy>=1.7 in /usr/local/lib/python3.10/dist-packages (from pingouin) (1.11.3)\n",
            "Requirement already satisfied: pandas>=1.0 in /usr/local/lib/python3.10/dist-packages (from pingouin) (1.5.3)\n",
            "Requirement already satisfied: matplotlib>=3.0.2 in /usr/local/lib/python3.10/dist-packages (from pingouin) (3.7.1)\n",
            "Requirement already satisfied: seaborn>=0.11 in /usr/local/lib/python3.10/dist-packages (from pingouin) (0.12.2)\n",
            "Requirement already satisfied: statsmodels>=0.13 in /usr/local/lib/python3.10/dist-packages (from pingouin) (0.14.0)\n",
            "Requirement already satisfied: scikit-learn in /usr/local/lib/python3.10/dist-packages (from pingouin) (1.2.2)\n",
            "Collecting pandas-flavor>=0.2.0 (from pingouin)\n",
            "  Downloading pandas_flavor-0.6.0-py3-none-any.whl (7.2 kB)\n",
            "Collecting outdated (from pingouin)\n",
            "  Downloading outdated-0.2.2-py2.py3-none-any.whl (7.5 kB)\n",
            "Requirement already satisfied: tabulate in /usr/local/lib/python3.10/dist-packages (from pingouin) (0.9.0)\n",
            "Requirement already satisfied: contourpy>=1.0.1 in /usr/local/lib/python3.10/dist-packages (from matplotlib>=3.0.2->pingouin) (1.2.0)\n",
            "Requirement already satisfied: cycler>=0.10 in /usr/local/lib/python3.10/dist-packages (from matplotlib>=3.0.2->pingouin) (0.12.1)\n",
            "Requirement already satisfied: fonttools>=4.22.0 in /usr/local/lib/python3.10/dist-packages (from matplotlib>=3.0.2->pingouin) (4.44.3)\n",
            "Requirement already satisfied: kiwisolver>=1.0.1 in /usr/local/lib/python3.10/dist-packages (from matplotlib>=3.0.2->pingouin) (1.4.5)\n",
            "Requirement already satisfied: packaging>=20.0 in /usr/local/lib/python3.10/dist-packages (from matplotlib>=3.0.2->pingouin) (23.2)\n",
            "Requirement already satisfied: pillow>=6.2.0 in /usr/local/lib/python3.10/dist-packages (from matplotlib>=3.0.2->pingouin) (9.4.0)\n",
            "Requirement already satisfied: pyparsing>=2.3.1 in /usr/local/lib/python3.10/dist-packages (from matplotlib>=3.0.2->pingouin) (3.1.1)\n",
            "Requirement already satisfied: python-dateutil>=2.7 in /usr/local/lib/python3.10/dist-packages (from matplotlib>=3.0.2->pingouin) (2.8.2)\n",
            "Requirement already satisfied: pytz>=2020.1 in /usr/local/lib/python3.10/dist-packages (from pandas>=1.0->pingouin) (2023.3.post1)\n",
            "Requirement already satisfied: xarray in /usr/local/lib/python3.10/dist-packages (from pandas-flavor>=0.2.0->pingouin) (2023.7.0)\n",
            "Requirement already satisfied: patsy>=0.5.2 in /usr/local/lib/python3.10/dist-packages (from statsmodels>=0.13->pingouin) (0.5.3)\n",
            "Requirement already satisfied: setuptools>=44 in /usr/local/lib/python3.10/dist-packages (from outdated->pingouin) (67.7.2)\n",
            "Collecting littleutils (from outdated->pingouin)\n",
            "  Downloading littleutils-0.2.2.tar.gz (6.6 kB)\n",
            "  Preparing metadata (setup.py) ... \u001b[?25l\u001b[?25hdone\n",
            "Requirement already satisfied: requests in /usr/local/lib/python3.10/dist-packages (from outdated->pingouin) (2.31.0)\n",
            "Requirement already satisfied: joblib>=1.1.1 in /usr/local/lib/python3.10/dist-packages (from scikit-learn->pingouin) (1.3.2)\n",
            "Requirement already satisfied: threadpoolctl>=2.0.0 in /usr/local/lib/python3.10/dist-packages (from scikit-learn->pingouin) (3.2.0)\n",
            "Requirement already satisfied: six in /usr/local/lib/python3.10/dist-packages (from patsy>=0.5.2->statsmodels>=0.13->pingouin) (1.16.0)\n",
            "Requirement already satisfied: charset-normalizer<4,>=2 in /usr/local/lib/python3.10/dist-packages (from requests->outdated->pingouin) (3.3.2)\n",
            "Requirement already satisfied: idna<4,>=2.5 in /usr/local/lib/python3.10/dist-packages (from requests->outdated->pingouin) (3.4)\n",
            "Requirement already satisfied: urllib3<3,>=1.21.1 in /usr/local/lib/python3.10/dist-packages (from requests->outdated->pingouin) (2.0.7)\n",
            "Requirement already satisfied: certifi>=2017.4.17 in /usr/local/lib/python3.10/dist-packages (from requests->outdated->pingouin) (2023.7.22)\n",
            "Building wheels for collected packages: littleutils\n",
            "  Building wheel for littleutils (setup.py) ... \u001b[?25l\u001b[?25hdone\n",
            "  Created wheel for littleutils: filename=littleutils-0.2.2-py3-none-any.whl size=7029 sha256=8ab6b1444b4a6af6f7aad39f023adcb7bb90155d03577692f5cf5a1db0c99ef1\n",
            "  Stored in directory: /root/.cache/pip/wheels/3d/fe/b0/27a9892da57472e538c7452a721a9cf463cc03cf7379889266\n",
            "Successfully built littleutils\n",
            "Installing collected packages: littleutils, outdated, pandas-flavor, pingouin\n",
            "Successfully installed littleutils-0.2.2 outdated-0.2.2 pandas-flavor-0.6.0 pingouin-0.5.3\n"
          ]
        }
      ]
    },
    {
      "cell_type": "code",
      "source": [
        "import os\n",
        "import glob\n",
        "import re\n",
        "import pandas as pd\n",
        "import numpy as np\n",
        "import pingouin as pg\n",
        "import matplotlib.pyplot as plt\n",
        "\n",
        "# Путь к папке с уровнями CEFR\n",
        "cefr_levels = [\"A1\", \"A2\", \"B1\", \"B2\"]\n",
        "\n",
        "# Считываем словарь морфем\n",
        "dictionary_file = \"tihonov (2).txt\"\n",
        "morpheme_dictionary = {}\n",
        "with open(dictionary_file, 'r', encoding='utf-8') as dict_file:\n",
        "    for line in dict_file:\n",
        "        line = line.strip()\n",
        "        if line:\n",
        "            word, morphemes = line.split('\\t')\n",
        "            morpheme_count = morphemes.count('/')\n",
        "            morpheme_dictionary[word.lower()] = morpheme_count\n",
        "\n",
        "# Список для хранения данных\n",
        "data = []\n",
        "\n",
        "# Обработка каждого уровня CEFR\n",
        "for cefr_level in cefr_levels:\n",
        "    folder_path = f\"/content/Students_texts/{cefr_level}\"\n",
        "    file_list = glob.glob(os.path.join(folder_path, \"*.txt\"))\n",
        "\n",
        "    avg_morpheme_counts = []\n",
        "\n",
        "    # Обработка каждого файла в текущем уровне CEFR\n",
        "    for file_path in file_list:\n",
        "        with open(file_path, 'r', encoding='utf-8') as file:\n",
        "            text = file.read()\n",
        "            tokens = re.findall(r'\\b\\w+\\b', text)\n",
        "\n",
        "            total_morpheme_count = 0\n",
        "            token_count = 0\n",
        "\n",
        "            # Вычисляем количество морфем для каждого токена\n",
        "            for token in tokens:\n",
        "                # Приводим токен к нижнему регистру\n",
        "                token = token.lower()\n",
        "\n",
        "                # Проверяем наличие токена в словаре морфем\n",
        "                if token in morpheme_dictionary:\n",
        "                    morpheme_count = morpheme_dictionary[token]\n",
        "                    total_morpheme_count += morpheme_count\n",
        "                    token_count += 1\n",
        "\n",
        "            # Среднее количество морфем для файла\n",
        "            avg_morpheme_count = total_morpheme_count / token_count if token_count > 0 else 0\n",
        "            avg_morpheme_counts.append(avg_morpheme_count)\n",
        "\n",
        "    # Сохранение данных для анализа\n",
        "    data.extend(list(zip([cefr_level] * len(file_list), avg_morpheme_counts)))\n",
        "\n",
        "# Создаем DataFrame\n",
        "df = pd.DataFrame(data, columns=['CEFR Level', 'Avg Morpheme Count'])\n",
        "\n",
        "# ANOVA\n",
        "anova_result = pg.anova(data=df, dv='Avg Morpheme Count', between='CEFR Level')\n",
        "\n",
        "# Тест Геймса-Хауэлла\n",
        "games_howell_result = pg.pairwise_gameshowell(data=df, dv='Avg Morpheme Count', between='CEFR Level')\n",
        "\n",
        "# Вывод результатов\n",
        "print(f\"F-статистика (ANOVA): {anova_result['F'][0]}\")\n",
        "print(f\"p-value (ANOVA): {anova_result['p-unc'][0]}\")\n",
        "\n",
        "print(\"\\nGames-Howell Test Results:\")\n",
        "print(games_howell_result)"
      ],
      "metadata": {
        "colab": {
          "base_uri": "https://localhost:8080/"
        },
        "id": "gswxgmgOahw0",
        "outputId": "e8fe96e4-084f-4598-bd5a-d2cb7edf404c"
      },
      "execution_count": 4,
      "outputs": [
        {
          "output_type": "stream",
          "name": "stdout",
          "text": [
            "F-статистика (ANOVA): 3.942373074941027\n",
            "p-value (ANOVA): 0.008217994311889135\n",
            "\n",
            "Games-Howell Test Results:\n",
            "    A   B   mean(A)   mean(B)      diff        se         T          df  \\\n",
            "0  A1  A2  1.685370  1.690116 -0.004746  0.034382 -0.138051   72.198573   \n",
            "1  A1  B1  1.685370  1.713256 -0.027886  0.033987 -0.820483   68.976822   \n",
            "2  A1  B2  1.685370  1.748778 -0.063408  0.035150 -1.803947   78.304538   \n",
            "3  A2  B1  1.690116  1.713256 -0.023140  0.012139 -1.906220  864.170051   \n",
            "4  A2  B2  1.690116  1.748778 -0.058661  0.015090 -3.887385  297.708299   \n",
            "5  B1  B2  1.713256  1.748778 -0.035522  0.014169 -2.507078  244.937887   \n",
            "\n",
            "       pval    hedges  \n",
            "0  0.999052 -0.023124  \n",
            "1  0.844588 -0.153293  \n",
            "2  0.279260 -0.338970  \n",
            "3  0.226116 -0.127209  \n",
            "4  0.000718 -0.319471  \n",
            "5  0.061292 -0.219895  \n"
          ]
        }
      ]
    }
  ]
}