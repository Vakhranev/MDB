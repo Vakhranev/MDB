{
  "nbformat": 4,
  "nbformat_minor": 0,
  "metadata": {
    "colab": {
      "provenance": [],
      "authorship_tag": "ABX9TyPMqWOtceVWwEn2BSwl15T3",
      "include_colab_link": true
    },
    "kernelspec": {
      "name": "python3",
      "display_name": "Python 3"
    },
    "language_info": {
      "name": "python"
    }
  },
  "cells": [
    {
      "cell_type": "markdown",
      "metadata": {
        "id": "view-in-github",
        "colab_type": "text"
      },
      "source": [
        "<a href=\"https://colab.research.google.com/github/Vakhranev/MDB/blob/main/%D0%A1%D1%91%D1%80%D0%B5%D0%BD%D1%81%D0%B5%D0%BD_%D0%94%D0%B0%D0%B9%D1%81.ipynb\" target=\"_parent\"><img src=\"https://colab.research.google.com/assets/colab-badge.svg\" alt=\"Open In Colab\"/></a>"
      ]
    },
    {
      "cell_type": "code",
      "source": [
        "!pip install multiset"
      ],
      "metadata": {
        "colab": {
          "base_uri": "https://localhost:8080/"
        },
        "id": "WwflyQcznNt-",
        "outputId": "326dfbc9-ba83-4021-8e44-7a98c9b44420"
      },
      "execution_count": 3,
      "outputs": [
        {
          "output_type": "stream",
          "name": "stdout",
          "text": [
            "Looking in indexes: https://pypi.org/simple, https://us-python.pkg.dev/colab-wheels/public/simple/\n",
            "Requirement already satisfied: multiset in /usr/local/lib/python3.8/dist-packages (3.0.1)\n"
          ]
        }
      ]
    },
    {
      "cell_type": "code",
      "execution_count": 4,
      "metadata": {
        "id": "OBhYJ6_C3Jvg"
      },
      "outputs": [],
      "source": [
        "from multiset import Multiset\n",
        "import pandas as pd\n",
        "import numpy as np"
      ]
    },
    {
      "cell_type": "code",
      "source": [
        "def tokenizetext(txt):\n",
        "    arr = []\n",
        "    for wrd in txt:\n",
        "        arr += [wrd]\n",
        "    return Multiset(arr)\n",
        "\n",
        "\n",
        "def sorenson_dice(text1, text2):\n",
        "    ''' Sorenson-Dice similarity of Multisets '''\n",
        "    bc1, bc2 = tokenizetext(text1), tokenizetext(text2)\n",
        "    return 2 * len(bc1 & bc2) / (len(bc1) + len(bc2))"
      ],
      "metadata": {
        "id": "1OzZw88O8hKq"
      },
      "execution_count": 5,
      "outputs": []
    },
    {
      "cell_type": "code",
      "source": [
        "df = pd.read_csv('lemmas_levels.csv', sep=',')\n",
        "df.index = np.arange(1, len(df) + 1)\n",
        "mark1 = \"1E\"\n",
        "mark2 = \"2I\"\n",
        "mark3 = \"3AU\"\n",
        "mark4 = \"4S\"\n",
        "ll1 = df.query('level == @mark1')\n",
        "ll2 = df.query('level == @mark2')\n",
        "ll3 = df.query('level == @mark3')\n",
        "ll4 = df.query('level == @mark4')"
      ],
      "metadata": {
        "id": "G_JNS2eI42er"
      },
      "execution_count": 6,
      "outputs": []
    },
    {
      "cell_type": "code",
      "source": [
        "df = pd.read_csv('dictionary_csv.csv', sep=',')\n",
        "df.index = np.arange(1, len(df) + 1)\n",
        "dc1 = df[:1000]\n",
        "dc2 = df[1000:2000]\n",
        "dc3 = df[2000:3000]\n",
        "dc4 = df[3000:4000]"
      ],
      "metadata": {
        "id": "DAO4iFg49DVw"
      },
      "execution_count": 29,
      "outputs": []
    },
    {
      "cell_type": "code",
      "source": [
        "data1 = ll1['lemma'].str.strip('\\'')\n",
        "data2 = dc1['lemma'].str.lower()\n",
        "sd = sorenson_dice(data1, data2)\n",
        "print(\"Сёренсен-Дайс:\", sd)"
      ],
      "metadata": {
        "id": "2lgtH83V-ZD4",
        "colab": {
          "base_uri": "https://localhost:8080/"
        },
        "outputId": "3baf4274-2850-41db-8fb3-944089a49370"
      },
      "execution_count": 31,
      "outputs": [
        {
          "output_type": "stream",
          "name": "stdout",
          "text": [
            "Сёренсен-Дайс: 0.43487321986800975\n"
          ]
        }
      ]
    },
    {
      "cell_type": "code",
      "source": [
        "data1 = ll2['lemma'].str.strip('\\'')\n",
        "data2 = dc2['lemma'].str.lower()\n",
        "sd = sorenson_dice(data1, data2)\n",
        "print(\"Сёренсен-Дайс:\", sd)"
      ],
      "metadata": {
        "colab": {
          "base_uri": "https://localhost:8080/"
        },
        "id": "cB_0Ev1dDQP4",
        "outputId": "79d7b2ac-1327-403b-fdf5-2be7b1a1a8e4"
      },
      "execution_count": 32,
      "outputs": [
        {
          "output_type": "stream",
          "name": "stdout",
          "text": [
            "Сёренсен-Дайс: 0.161055750067331\n"
          ]
        }
      ]
    },
    {
      "cell_type": "code",
      "source": [
        "data1 = ll3['lemma'].str.strip('\\'')\n",
        "data2 = dc3['lemma'].str.lower()\n",
        "sd = sorenson_dice(data1, data2)\n",
        "print(\"Сёренсен-Дайс:\", sd)"
      ],
      "metadata": {
        "colab": {
          "base_uri": "https://localhost:8080/"
        },
        "id": "fbFTq2CUDjCQ",
        "outputId": "02e75f58-3730-4f23-e827-9d48dc885d1a"
      },
      "execution_count": 33,
      "outputs": [
        {
          "output_type": "stream",
          "name": "stdout",
          "text": [
            "Сёренсен-Дайс: 0.011102947179361581\n"
          ]
        }
      ]
    },
    {
      "cell_type": "code",
      "source": [
        "data1 = ll4['lemma'].str.strip('\\'')\n",
        "data2 = dc4['lemma'].str.lower()\n",
        "sd = sorenson_dice(data1, data2)\n",
        "print(\"Сёренсен-Дайс:\", sd)"
      ],
      "metadata": {
        "colab": {
          "base_uri": "https://localhost:8080/"
        },
        "id": "XeWwjtI-DtoF",
        "outputId": "39281d17-c610-4364-cc78-72dcec9563c8"
      },
      "execution_count": 34,
      "outputs": [
        {
          "output_type": "stream",
          "name": "stdout",
          "text": [
            "Сёренсен-Дайс: 0.008679023242130037\n"
          ]
        }
      ]
    },
    {
      "cell_type": "code",
      "source": [
        "df = pd.read_csv('A1.csv', sep=';')\n",
        "df.index = np.arange(1, len(df) + 1)\n",
        "A1 = df[:754]"
      ],
      "metadata": {
        "id": "uqF5QGkVQ8jy"
      },
      "execution_count": 38,
      "outputs": []
    },
    {
      "cell_type": "code",
      "source": [
        "data1 = ll1['lemma'].str.strip('\\'')\n",
        "data2 = A1['Lemma'].str.lower()\n",
        "sd = sorenson_dice(data1, data2)\n",
        "print(\"Сёренсен-Дайс:\", sd)"
      ],
      "metadata": {
        "colab": {
          "base_uri": "https://localhost:8080/"
        },
        "id": "jjd94BM_R-7B",
        "outputId": "59ab0971-3c9c-4f0d-ec60-cd12076b8aa1"
      },
      "execution_count": 40,
      "outputs": [
        {
          "output_type": "stream",
          "name": "stdout",
          "text": [
            "Сёренсен-Дайс: 0.4238511203949867\n"
          ]
        }
      ]
    },
    {
      "cell_type": "code",
      "source": [
        "df = pd.read_csv('A2.csv', sep=';')\n",
        "df.index = np.arange(1, len(df) + 1)\n",
        "A2 = df[:1048]"
      ],
      "metadata": {
        "id": "GWKmhxMhTEgu"
      },
      "execution_count": 41,
      "outputs": []
    },
    {
      "cell_type": "code",
      "source": [
        "data1 = ll2['lemma'].str.strip('\\'')\n",
        "data2 = A2['Unnamed: 0'].str.lower()\n",
        "sd = sorenson_dice(data1, data2)\n",
        "print(\"Сёренсен-Дайс:\", sd)"
      ],
      "metadata": {
        "colab": {
          "base_uri": "https://localhost:8080/"
        },
        "id": "H6maz3bNTe2D",
        "outputId": "03e2d650-c287-47a4-82b9-18668d571627"
      },
      "execution_count": 42,
      "outputs": [
        {
          "output_type": "stream",
          "name": "stdout",
          "text": [
            "Сёренсен-Дайс: 0.12390321722946025\n"
          ]
        }
      ]
    },
    {
      "cell_type": "code",
      "source": [
        "df = pd.read_csv('B1.csv', sep=';')\n",
        "df.index = np.arange(1, len(df) + 1)\n",
        "B1 = df[:1081]"
      ],
      "metadata": {
        "id": "008zKNiLWHFT"
      },
      "execution_count": 44,
      "outputs": []
    },
    {
      "cell_type": "code",
      "source": [
        "data1 = ll3['lemma'].str.strip('\\'')\n",
        "data2 = B1['Lemma'].str.lower()\n",
        "sd = sorenson_dice(data1, data2)\n",
        "print(\"Сёренсен-Дайс:\", sd)"
      ],
      "metadata": {
        "colab": {
          "base_uri": "https://localhost:8080/"
        },
        "id": "SzWpsaZqWZgY",
        "outputId": "9554eea5-5035-47ad-93c9-6caf21d9d795"
      },
      "execution_count": 46,
      "outputs": [
        {
          "output_type": "stream",
          "name": "stdout",
          "text": [
            "Сёренсен-Дайс: 0.008110300081103\n"
          ]
        }
      ]
    },
    {
      "cell_type": "code",
      "source": [
        "df = pd.read_csv('B2.csv', sep=';')\n",
        "df.index = np.arange(1, len(df) + 1)\n",
        "B2 = df[:3331]"
      ],
      "metadata": {
        "id": "EC76rJT0XJDS"
      },
      "execution_count": 49,
      "outputs": []
    },
    {
      "cell_type": "code",
      "source": [
        "data1 = ll4['lemma'].str.strip('\\'')\n",
        "data2 = B2['Lemma'].str.lower()\n",
        "sd = sorenson_dice(data1, data2)\n",
        "print(\"Сёренсен-Дайс:\", sd)"
      ],
      "metadata": {
        "colab": {
          "base_uri": "https://localhost:8080/"
        },
        "id": "rWnZiuLVXOP-",
        "outputId": "7a659b86-5d0f-4a9e-8415-4138a8e689b2"
      },
      "execution_count": 50,
      "outputs": [
        {
          "output_type": "stream",
          "name": "stdout",
          "text": [
            "Сёренсен-Дайс: 0.03403026307528097\n"
          ]
        }
      ]
    },
    {
      "cell_type": "code",
      "source": [
        "data1 = dc1['lemma'].str.lower()\n",
        "data2 = A1['Lemma'].str.lower()\n",
        "sd = sorenson_dice(data1, data2)\n",
        "print(\"Сёренсен-Дайс:\", sd)"
      ],
      "metadata": {
        "colab": {
          "base_uri": "https://localhost:8080/"
        },
        "id": "lNTSiovlXcIQ",
        "outputId": "3da35e91-8781-49a8-af64-dc11714b3779"
      },
      "execution_count": 51,
      "outputs": [
        {
          "output_type": "stream",
          "name": "stdout",
          "text": [
            "Сёренсен-Дайс: 0.35347776510832385\n"
          ]
        }
      ]
    },
    {
      "cell_type": "code",
      "source": [
        "data1 = dc2['lemma'].str.lower()\n",
        "data2 = A2['Unnamed: 0'].str.lower()\n",
        "sd = sorenson_dice(data1, data2)\n",
        "print(\"Сёренсен-Дайс:\", sd)"
      ],
      "metadata": {
        "colab": {
          "base_uri": "https://localhost:8080/"
        },
        "id": "J96pIUq2Xp9J",
        "outputId": "5bb54364-46a6-4aff-a919-72f2531c3322"
      },
      "execution_count": 53,
      "outputs": [
        {
          "output_type": "stream",
          "name": "stdout",
          "text": [
            "Сёренсен-Дайс: 0.14453125\n"
          ]
        }
      ]
    },
    {
      "cell_type": "code",
      "source": [
        "data1 = dc3['lemma'].str.lower()\n",
        "data2 = B1['Lemma'].str.lower()\n",
        "sd = sorenson_dice(data1, data2)\n",
        "print(\"Сёренсен-Дайс:\", sd)"
      ],
      "metadata": {
        "colab": {
          "base_uri": "https://localhost:8080/"
        },
        "id": "gWLfe3ifX1Br",
        "outputId": "236972cd-d87f-4542-b25b-249f6b0522a6"
      },
      "execution_count": 54,
      "outputs": [
        {
          "output_type": "stream",
          "name": "stdout",
          "text": [
            "Сёренсен-Дайс: 0.12686208553580008\n"
          ]
        }
      ]
    },
    {
      "cell_type": "code",
      "source": [
        "data1 = dc4['lemma'].str.lower()\n",
        "data2 = B2['Lemma'].str.lower()\n",
        "sd = sorenson_dice(data1, data2)\n",
        "print(\"Сёренсен-Дайс:\", sd)"
      ],
      "metadata": {
        "colab": {
          "base_uri": "https://localhost:8080/"
        },
        "id": "iabXrhyKYQz5",
        "outputId": "0a31146f-b3b7-4594-9321-17a00fcc8a00"
      },
      "execution_count": 55,
      "outputs": [
        {
          "output_type": "stream",
          "name": "stdout",
          "text": [
            "Сёренсен-Дайс: 0.1353036250288617\n"
          ]
        }
      ]
    }
  ]
}