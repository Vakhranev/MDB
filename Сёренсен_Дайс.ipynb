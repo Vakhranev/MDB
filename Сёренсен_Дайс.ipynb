{
  "nbformat": 4,
  "nbformat_minor": 0,
  "metadata": {
    "colab": {
      "provenance": [],
      "authorship_tag": "ABX9TyPgBGuV5b8MdyMb1tLLwmp1",
      "include_colab_link": true
    },
    "kernelspec": {
      "name": "python3",
      "display_name": "Python 3"
    },
    "language_info": {
      "name": "python"
    }
  },
  "cells": [
    {
      "cell_type": "markdown",
      "metadata": {
        "id": "view-in-github",
        "colab_type": "text"
      },
      "source": [
        "<a href=\"https://colab.research.google.com/github/Vakhranev/MDB/blob/main/%D0%A1%D1%91%D1%80%D0%B5%D0%BD%D1%81%D0%B5%D0%BD_%D0%94%D0%B0%D0%B9%D1%81.ipynb\" target=\"_parent\"><img src=\"https://colab.research.google.com/assets/colab-badge.svg\" alt=\"Open In Colab\"/></a>"
      ]
    },
    {
      "cell_type": "markdown",
      "source": [
        "Загружаем все необходимые модули:"
      ],
      "metadata": {
        "id": "BZrqxbmpszy5"
      }
    },
    {
      "cell_type": "code",
      "source": [
        "!pip install multiset"
      ],
      "metadata": {
        "colab": {
          "base_uri": "https://localhost:8080/"
        },
        "id": "WwflyQcznNt-",
        "outputId": "0fa5846c-80c1-4b73-c958-77d3e4dd5960"
      },
      "execution_count": null,
      "outputs": [
        {
          "output_type": "stream",
          "name": "stdout",
          "text": [
            "Looking in indexes: https://pypi.org/simple, https://us-python.pkg.dev/colab-wheels/public/simple/\n",
            "Collecting multiset\n",
            "  Downloading multiset-3.0.1-py2.py3-none-any.whl (9.6 kB)\n",
            "Installing collected packages: multiset\n",
            "Successfully installed multiset-3.0.1\n"
          ]
        }
      ]
    },
    {
      "cell_type": "code",
      "execution_count": null,
      "metadata": {
        "id": "OBhYJ6_C3Jvg"
      },
      "outputs": [],
      "source": [
        "from multiset import Multiset\n",
        "import pandas as pd\n",
        "import numpy as np\n",
        "import seaborn as sns\n",
        "import matplotlib.pyplot as plt"
      ]
    },
    {
      "cell_type": "markdown",
      "source": [
        "Создаём функцию, которая считает коэффициент Сёренсена-Дайса для двух корпусов:"
      ],
      "metadata": {
        "id": "2Aa1JqhJs_UF"
      }
    },
    {
      "cell_type": "code",
      "source": [
        "def tokenizetext(txt):\n",
        "    arr = []\n",
        "    for wrd in txt:\n",
        "        arr += [wrd]\n",
        "    return Multiset(arr)\n",
        "\n",
        "\n",
        "def sorenson_dice(text1, text2):\n",
        "    ''' Sorenson-Dice similarity of Multisets '''\n",
        "    bc1, bc2 = tokenizetext(text1), tokenizetext(text2)\n",
        "    return 2 * len(bc1 & bc2) / (len(bc1) + len(bc2))"
      ],
      "metadata": {
        "id": "1OzZw88O8hKq"
      },
      "execution_count": null,
      "outputs": []
    },
    {
      "cell_type": "markdown",
      "source": [
        "Загружаем гарвардские данные:"
      ],
      "metadata": {
        "id": "8HxoCT44tdHA"
      }
    },
    {
      "cell_type": "code",
      "source": [
        "df = pd.read_csv('lemmas_levels.csv', sep=',')\n",
        "df.index = np.arange(1, len(df) + 1)\n",
        "mark1 = \"1E\"\n",
        "mark2 = \"2I\"\n",
        "mark3 = \"3AU\"\n",
        "mark4 = \"4S\"\n",
        "ll1 = df.query('level == @mark1')\n",
        "ll2 = df.query('level == @mark2')\n",
        "ll3 = df.query('level == @mark3')\n",
        "ll4 = df.query('level == @mark4')"
      ],
      "metadata": {
        "id": "G_JNS2eI42er"
      },
      "execution_count": null,
      "outputs": []
    },
    {
      "cell_type": "markdown",
      "source": [
        "Загружаем данные из словаря частотности Шарова:"
      ],
      "metadata": {
        "id": "npRNQTAwtbAL"
      }
    },
    {
      "cell_type": "code",
      "source": [
        "df = pd.read_csv('dictionary_csv.csv', sep=',')\n",
        "df.index = np.arange(1, len(df) + 1)\n",
        "dc1 = df[:1000]\n",
        "dc2 = df[1000:2000]\n",
        "dc3 = df[2000:3000]\n",
        "dc4 = df[3000:]"
      ],
      "metadata": {
        "id": "DAO4iFg49DVw"
      },
      "execution_count": null,
      "outputs": []
    },
    {
      "cell_type": "markdown",
      "source": [
        "Проверяем работу функции. Сравниваем два одинаковых корпуса:"
      ],
      "metadata": {
        "id": "ng0SkBb7tfvs"
      }
    },
    {
      "cell_type": "code",
      "source": [
        "data1 = dc1['lemma'].str.lower()\n",
        "data2 = dc1['lemma'].str.lower()\n",
        "sd = sorenson_dice(data1, data2)\n",
        "print(\"Сёренсен-Дайс:\", sd)"
      ],
      "metadata": {
        "id": "YG4TBqyRsgVF",
        "outputId": "eea277bc-c797-4b7d-887b-2b22beb892c8",
        "colab": {
          "base_uri": "https://localhost:8080/"
        }
      },
      "execution_count": null,
      "outputs": [
        {
          "output_type": "stream",
          "name": "stdout",
          "text": [
            "Сёренсен-Дайс: 1.0\n"
          ]
        }
      ]
    },
    {
      "cell_type": "markdown",
      "source": [
        "Теперь сравниваем корпус с одинаковым корпусом, который был увеличен в два раза:"
      ],
      "metadata": {
        "id": "ppeY5O2xtmIk"
      }
    },
    {
      "cell_type": "code",
      "source": [
        "data1 = dc1['lemma'].str.lower().append(dc1['lemma'].str.lower())\n",
        "data2 = dc1['lemma'].str.lower()\n",
        "sd = sorenson_dice(data1, data2)\n",
        "print(\"Сёренсен-Дайс:\", sd)"
      ],
      "metadata": {
        "colab": {
          "base_uri": "https://localhost:8080/"
        },
        "id": "BlMusUorxQVi",
        "outputId": "36927576-be94-4476-a953-330e4f496a27"
      },
      "execution_count": null,
      "outputs": [
        {
          "output_type": "stream",
          "name": "stdout",
          "text": [
            "Сёренсен-Дайс: 0.6666666666666666\n"
          ]
        },
        {
          "output_type": "stream",
          "name": "stderr",
          "text": [
            "<ipython-input-6-6ed9d711d78a>:1: FutureWarning: The series.append method is deprecated and will be removed from pandas in a future version. Use pandas.concat instead.\n",
            "  data1 = dc1['lemma'].str.lower().append(dc1['lemma'].str.lower())\n"
          ]
        }
      ]
    },
    {
      "cell_type": "code",
      "source": [
        "len(data1)"
      ],
      "metadata": {
        "colab": {
          "base_uri": "https://localhost:8080/"
        },
        "id": "WM5zQmxaxWy-",
        "outputId": "8afec42e-d3fa-4b05-b476-4586c60ffa10"
      },
      "execution_count": null,
      "outputs": [
        {
          "output_type": "execute_result",
          "data": {
            "text/plain": [
              "2000"
            ]
          },
          "metadata": {},
          "execution_count": 7
        }
      ]
    },
    {
      "cell_type": "markdown",
      "source": [
        "В три раза:"
      ],
      "metadata": {
        "id": "KRDygnwxt3m9"
      }
    },
    {
      "cell_type": "code",
      "source": [
        "data1 = data1.append(dc1['lemma'].str.lower())\n",
        "data2 = dc1['lemma'].str.lower()\n",
        "sd = sorenson_dice(data1, data2)\n",
        "print(\"Сёренсен-Дайс:\", sd)"
      ],
      "metadata": {
        "colab": {
          "base_uri": "https://localhost:8080/"
        },
        "id": "8Izpzxz-ypfM",
        "outputId": "e99ab12a-fdb1-4a92-d31e-12726c0fd3fd"
      },
      "execution_count": null,
      "outputs": [
        {
          "output_type": "stream",
          "name": "stdout",
          "text": [
            "Сёренсен-Дайс: 0.5\n"
          ]
        },
        {
          "output_type": "stream",
          "name": "stderr",
          "text": [
            "<ipython-input-8-030b0ec7314b>:1: FutureWarning: The series.append method is deprecated and will be removed from pandas in a future version. Use pandas.concat instead.\n",
            "  data1 = data1.append(dc1['lemma'].str.lower())\n"
          ]
        }
      ]
    },
    {
      "cell_type": "code",
      "source": [
        "len(data1)"
      ],
      "metadata": {
        "colab": {
          "base_uri": "https://localhost:8080/"
        },
        "id": "Nw0Mn3Rayuyw",
        "outputId": "f1acc896-9e83-4c44-8eb8-38387add9f7f"
      },
      "execution_count": null,
      "outputs": [
        {
          "output_type": "execute_result",
          "data": {
            "text/plain": [
              "3000"
            ]
          },
          "metadata": {},
          "execution_count": 9
        }
      ]
    },
    {
      "cell_type": "markdown",
      "source": [
        "В четыре раза:"
      ],
      "metadata": {
        "id": "5hEeucx8t5UQ"
      }
    },
    {
      "cell_type": "code",
      "source": [
        "data1 = data1.append(dc1['lemma'].str.lower())\n",
        "data2 = dc1['lemma'].str.lower()\n",
        "sd = sorenson_dice(data1, data2)\n",
        "print(\"Сёренсен-Дайс:\", sd)"
      ],
      "metadata": {
        "colab": {
          "base_uri": "https://localhost:8080/"
        },
        "id": "YK-8gGovy1K_",
        "outputId": "6c5e91d1-7a9c-43ae-9b06-4ec1a9a869c9"
      },
      "execution_count": null,
      "outputs": [
        {
          "output_type": "stream",
          "name": "stdout",
          "text": [
            "Сёренсен-Дайс: 0.4\n"
          ]
        },
        {
          "output_type": "stream",
          "name": "stderr",
          "text": [
            "<ipython-input-10-030b0ec7314b>:1: FutureWarning: The series.append method is deprecated and will be removed from pandas in a future version. Use pandas.concat instead.\n",
            "  data1 = data1.append(dc1['lemma'].str.lower())\n"
          ]
        }
      ]
    },
    {
      "cell_type": "markdown",
      "source": [
        "Сравниваем уровень А1 для гарвардских данных и Шарова:"
      ],
      "metadata": {
        "id": "JJY7LUMBuEDu"
      }
    },
    {
      "cell_type": "code",
      "source": [
        "data1 = ll1['lemma'].str.strip('\\'')\n",
        "data2 = dc1['lemma'].str.lower()\n",
        "sd = sorenson_dice(data1, data2)\n",
        "print(\"Сёренсен-Дайс:\", sd)"
      ],
      "metadata": {
        "id": "2lgtH83V-ZD4",
        "colab": {
          "base_uri": "https://localhost:8080/"
        },
        "outputId": "e98ad089-54be-47a0-958f-ce9eed54c97b"
      },
      "execution_count": null,
      "outputs": [
        {
          "output_type": "stream",
          "name": "stdout",
          "text": [
            "Сёренсен-Дайс: 0.43487321986800975\n"
          ]
        }
      ]
    },
    {
      "cell_type": "markdown",
      "source": [
        "Сравниваем уровень А2 для гарвардских данных и Шарова:"
      ],
      "metadata": {
        "id": "tF88E1ptuK5P"
      }
    },
    {
      "cell_type": "code",
      "source": [
        "data1 = ll2['lemma'].str.strip('\\'')\n",
        "data2 = dc2['lemma'].str.lower()\n",
        "sd = sorenson_dice(data1, data2)\n",
        "print(\"Сёренсен-Дайс:\", sd)"
      ],
      "metadata": {
        "colab": {
          "base_uri": "https://localhost:8080/"
        },
        "id": "cB_0Ev1dDQP4",
        "outputId": "5f805b12-02fa-4ab5-dc14-664785a315ae"
      },
      "execution_count": null,
      "outputs": [
        {
          "output_type": "stream",
          "name": "stdout",
          "text": [
            "Сёренсен-Дайс: 0.161055750067331\n"
          ]
        }
      ]
    },
    {
      "cell_type": "markdown",
      "source": [
        "Сравниваем уровень В1 для гарвардских данных и Шарова:"
      ],
      "metadata": {
        "id": "2ERjIPOOuMni"
      }
    },
    {
      "cell_type": "code",
      "source": [
        "data1 = ll3['lemma'].str.strip('\\'')\n",
        "data2 = dc3['lemma'].str.lower()\n",
        "sd = sorenson_dice(data1, data2)\n",
        "print(\"Сёренсен-Дайс:\", sd)"
      ],
      "metadata": {
        "colab": {
          "base_uri": "https://localhost:8080/"
        },
        "id": "fbFTq2CUDjCQ",
        "outputId": "04d49700-43a6-4052-8ae7-ef3a4a6d0e05"
      },
      "execution_count": null,
      "outputs": [
        {
          "output_type": "stream",
          "name": "stdout",
          "text": [
            "Сёренсен-Дайс: 0.011102947179361581\n"
          ]
        }
      ]
    },
    {
      "cell_type": "markdown",
      "source": [
        "Сравниваем уровень В2 для гарвардских данных и Шарова:"
      ],
      "metadata": {
        "id": "IWu7W9ySuO0T"
      }
    },
    {
      "cell_type": "code",
      "source": [
        "data1 = ll4['lemma'].str.strip('\\'')\n",
        "data2 = dc4['lemma'].str.lower()\n",
        "sd = sorenson_dice(data1, data2)\n",
        "print(\"Сёренсен-Дайс:\", sd)"
      ],
      "metadata": {
        "colab": {
          "base_uri": "https://localhost:8080/"
        },
        "id": "XeWwjtI-DtoF",
        "outputId": "05bb2219-95b7-4960-de58-6ded2740cf33"
      },
      "execution_count": null,
      "outputs": [
        {
          "output_type": "stream",
          "name": "stdout",
          "text": [
            "Сёренсен-Дайс: 0.018772266374349138\n"
          ]
        }
      ]
    },
    {
      "cell_type": "markdown",
      "source": [
        "Загружаем данные SMARTool A1:"
      ],
      "metadata": {
        "id": "dvQ_fWOTuSKA"
      }
    },
    {
      "cell_type": "code",
      "source": [
        "df = pd.read_csv('A1.csv', sep=';')\n",
        "df.index = np.arange(1, len(df) + 1)\n",
        "A1 = df[:754]"
      ],
      "metadata": {
        "id": "uqF5QGkVQ8jy"
      },
      "execution_count": null,
      "outputs": []
    },
    {
      "cell_type": "markdown",
      "source": [
        "Сравниваем уровень А1 для гарвардских данных и SMARTool:"
      ],
      "metadata": {
        "id": "n4baRnyludKz"
      }
    },
    {
      "cell_type": "code",
      "source": [
        "data1 = ll1['lemma'].str.strip('\\'')\n",
        "data2 = A1['Lemma'].str.lower()\n",
        "sd = sorenson_dice(data1, data2)\n",
        "print(\"Сёренсен-Дайс:\", sd)"
      ],
      "metadata": {
        "colab": {
          "base_uri": "https://localhost:8080/"
        },
        "id": "jjd94BM_R-7B",
        "outputId": "3785e43e-8578-43eb-9fd1-9f6ee228ba41"
      },
      "execution_count": null,
      "outputs": [
        {
          "output_type": "stream",
          "name": "stdout",
          "text": [
            "Сёренсен-Дайс: 0.4238511203949867\n"
          ]
        }
      ]
    },
    {
      "cell_type": "markdown",
      "source": [
        "Загружаем данные SMARTool А2:"
      ],
      "metadata": {
        "id": "vz6g0poGuhfS"
      }
    },
    {
      "cell_type": "code",
      "source": [
        "df = pd.read_csv('A2.csv', sep=';')\n",
        "df.index = np.arange(1, len(df) + 1)\n",
        "A2 = df[:1048]"
      ],
      "metadata": {
        "id": "GWKmhxMhTEgu"
      },
      "execution_count": null,
      "outputs": []
    },
    {
      "cell_type": "markdown",
      "source": [
        "Сравниваем уровень А2 для гарвардских данных и SMARTool:"
      ],
      "metadata": {
        "id": "fO63sFDKunc-"
      }
    },
    {
      "cell_type": "code",
      "source": [
        "data1 = ll2['lemma'].str.strip('\\'')\n",
        "data2 = A2['Unnamed: 0'].str.lower()\n",
        "sd = sorenson_dice(data1, data2)\n",
        "print(\"Сёренсен-Дайс:\", sd)"
      ],
      "metadata": {
        "colab": {
          "base_uri": "https://localhost:8080/"
        },
        "id": "H6maz3bNTe2D",
        "outputId": "6cabcf21-1fcc-463b-ab6b-662209b2a666"
      },
      "execution_count": null,
      "outputs": [
        {
          "output_type": "stream",
          "name": "stdout",
          "text": [
            "Сёренсен-Дайс: 0.12390321722946025\n"
          ]
        }
      ]
    },
    {
      "cell_type": "markdown",
      "source": [
        "Загружаем данные SMARTool В1:"
      ],
      "metadata": {
        "id": "F-8_0UlZuswL"
      }
    },
    {
      "cell_type": "code",
      "source": [
        "df = pd.read_csv('B1.csv', sep=';')\n",
        "df.index = np.arange(1, len(df) + 1)\n",
        "B1 = df[:1081]"
      ],
      "metadata": {
        "id": "008zKNiLWHFT"
      },
      "execution_count": null,
      "outputs": []
    },
    {
      "cell_type": "markdown",
      "source": [
        "Сравниваем уровень В1 для гарвардских данных и SMARTool:"
      ],
      "metadata": {
        "id": "F3zOAq9yu2BN"
      }
    },
    {
      "cell_type": "code",
      "source": [
        "data1 = ll3['lemma'].str.strip('\\'')\n",
        "data2 = B1['Lemma'].str.lower()\n",
        "sd = sorenson_dice(data1, data2)\n",
        "print(\"Сёренсен-Дайс:\", sd)"
      ],
      "metadata": {
        "colab": {
          "base_uri": "https://localhost:8080/"
        },
        "id": "SzWpsaZqWZgY",
        "outputId": "a6008747-917a-4975-d691-2edaf17da34c"
      },
      "execution_count": null,
      "outputs": [
        {
          "output_type": "stream",
          "name": "stdout",
          "text": [
            "Сёренсен-Дайс: 0.008110300081103\n"
          ]
        }
      ]
    },
    {
      "cell_type": "markdown",
      "source": [
        "Загружаем данные SMARTool В2:"
      ],
      "metadata": {
        "id": "SPTRnRW0u8YW"
      }
    },
    {
      "cell_type": "code",
      "source": [
        "df = pd.read_csv('B2.csv', sep=';')\n",
        "df.index = np.arange(1, len(df) + 1)\n",
        "B2 = df[:3331]"
      ],
      "metadata": {
        "id": "EC76rJT0XJDS"
      },
      "execution_count": null,
      "outputs": []
    },
    {
      "cell_type": "markdown",
      "source": [
        "Сравниваем уровень B2 для гарвардских данных и SMARTool:"
      ],
      "metadata": {
        "id": "85dO2k7vvCgp"
      }
    },
    {
      "cell_type": "code",
      "source": [
        "data1 = ll4['lemma'].str.strip('\\'')\n",
        "data2 = B2['Lemma'].str.lower()\n",
        "sd = sorenson_dice(data1, data2)\n",
        "print(\"Сёренсен-Дайс:\", sd)"
      ],
      "metadata": {
        "colab": {
          "base_uri": "https://localhost:8080/"
        },
        "id": "rWnZiuLVXOP-",
        "outputId": "de318ca5-bf55-484e-8f34-69f0fe85f6cf"
      },
      "execution_count": null,
      "outputs": [
        {
          "output_type": "stream",
          "name": "stdout",
          "text": [
            "Сёренсен-Дайс: 0.03403026307528097\n"
          ]
        }
      ]
    },
    {
      "cell_type": "markdown",
      "source": [
        "Сравниваем уровень A1 для Шарова и SMARTool:"
      ],
      "metadata": {
        "id": "eUS8EenPvLJv"
      }
    },
    {
      "cell_type": "code",
      "source": [
        "data1 = dc1['lemma'].str.lower()\n",
        "data2 = A1['Lemma'].str.lower()\n",
        "sd = sorenson_dice(data1, data2)\n",
        "print(\"Сёренсен-Дайс:\", sd)"
      ],
      "metadata": {
        "colab": {
          "base_uri": "https://localhost:8080/"
        },
        "id": "lNTSiovlXcIQ",
        "outputId": "fea15e7d-cc47-4216-d686-d0c94f1b3bf3"
      },
      "execution_count": null,
      "outputs": [
        {
          "output_type": "stream",
          "name": "stdout",
          "text": [
            "Сёренсен-Дайс: 0.35347776510832385\n"
          ]
        }
      ]
    },
    {
      "cell_type": "markdown",
      "source": [
        "Сравниваем уровень A2 для Шарова и SMARTool:"
      ],
      "metadata": {
        "id": "1oP0I2NgvP62"
      }
    },
    {
      "cell_type": "code",
      "source": [
        "data1 = dc2['lemma'].str.lower()\n",
        "data2 = A2['Unnamed: 0'].str.lower()\n",
        "sd = sorenson_dice(data1, data2)\n",
        "print(\"Сёренсен-Дайс:\", sd)"
      ],
      "metadata": {
        "colab": {
          "base_uri": "https://localhost:8080/"
        },
        "id": "J96pIUq2Xp9J",
        "outputId": "06b88eff-2429-493f-a308-57ca792289f8"
      },
      "execution_count": null,
      "outputs": [
        {
          "output_type": "stream",
          "name": "stdout",
          "text": [
            "Сёренсен-Дайс: 0.14453125\n"
          ]
        }
      ]
    },
    {
      "cell_type": "markdown",
      "source": [
        "Сравниваем уровень В1 для Шарова и SMARTool:"
      ],
      "metadata": {
        "id": "sshqphIpvR7D"
      }
    },
    {
      "cell_type": "code",
      "source": [
        "data1 = dc3['lemma'].str.lower()\n",
        "data2 = B1['Lemma'].str.lower()\n",
        "sd = sorenson_dice(data1, data2)\n",
        "print(\"Сёренсен-Дайс:\", sd)"
      ],
      "metadata": {
        "colab": {
          "base_uri": "https://localhost:8080/"
        },
        "id": "gWLfe3ifX1Br",
        "outputId": "3cb5840f-cdc0-4814-83d0-1688e4f03aeb"
      },
      "execution_count": null,
      "outputs": [
        {
          "output_type": "stream",
          "name": "stdout",
          "text": [
            "Сёренсен-Дайс: 0.12686208553580008\n"
          ]
        }
      ]
    },
    {
      "cell_type": "markdown",
      "source": [
        "Сравниваем уровень В2 для Шарова и SMARTool:"
      ],
      "metadata": {
        "id": "ykJ0RD9LvVV-"
      }
    },
    {
      "cell_type": "code",
      "source": [
        "data1 = dc4['lemma'].str.lower()\n",
        "data2 = B2['Lemma'].str.lower()\n",
        "sd = sorenson_dice(data1, data2)\n",
        "print(\"Сёренсен-Дайс:\", sd)"
      ],
      "metadata": {
        "colab": {
          "base_uri": "https://localhost:8080/"
        },
        "id": "iabXrhyKYQz5",
        "outputId": "d12f8788-3c45-40b7-cf79-df89a72ce3f1"
      },
      "execution_count": null,
      "outputs": [
        {
          "output_type": "stream",
          "name": "stdout",
          "text": [
            "Сёренсен-Дайс: 0.2134683924216845\n"
          ]
        }
      ]
    },
    {
      "cell_type": "markdown",
      "source": [
        "Загружаем данные LM А1:"
      ],
      "metadata": {
        "id": "5H0ZlSTlvcHD"
      }
    },
    {
      "cell_type": "code",
      "source": [
        "df = pd.read_csv('new_vocab_a1.csv', sep=';')\n",
        "df.index = np.arange(1, len(df) + 1)\n",
        "i = 1\n",
        "for word in df['а']:\n",
        "  if len(word) < 2:\n",
        "    df.drop(index = i, inplace = True)\n",
        "  else:\n",
        "    i += 1\n",
        "nv1 = df"
      ],
      "metadata": {
        "id": "U4Bxcq4ls9En"
      },
      "execution_count": null,
      "outputs": []
    },
    {
      "cell_type": "code",
      "source": [
        "len(df)"
      ],
      "metadata": {
        "colab": {
          "base_uri": "https://localhost:8080/"
        },
        "id": "ynE8lPctxdqt",
        "outputId": "dd61c14a-c33a-40ed-9eb0-437ca67990a2"
      },
      "execution_count": null,
      "outputs": [
        {
          "output_type": "execute_result",
          "data": {
            "text/plain": [
              "994"
            ]
          },
          "metadata": {},
          "execution_count": 28
        }
      ]
    },
    {
      "cell_type": "markdown",
      "source": [
        "Сравниваем уровень А1 для гарвардских данных и LM:"
      ],
      "metadata": {
        "id": "O8HVNAS9vrGt"
      }
    },
    {
      "cell_type": "code",
      "source": [
        "data1 = ll1['lemma'].str.strip('\\'')\n",
        "data2 = nv1['а'].str.lower()\n",
        "sd = sorenson_dice(data1, data2)\n",
        "print(\"Сёренсен-Дайс:\", sd)"
      ],
      "metadata": {
        "colab": {
          "base_uri": "https://localhost:8080/"
        },
        "id": "Q-czSmsftJZy",
        "outputId": "d1042a4e-eb74-4e7d-b0dc-fb218fba6e2d"
      },
      "execution_count": null,
      "outputs": [
        {
          "output_type": "stream",
          "name": "stdout",
          "text": [
            "Сёренсен-Дайс: 0.4949530107901149\n"
          ]
        }
      ]
    },
    {
      "cell_type": "markdown",
      "source": [
        "Загружаем данные LM А2:"
      ],
      "metadata": {
        "id": "0lTO_Yq-vi8u"
      }
    },
    {
      "cell_type": "code",
      "source": [
        "df = pd.read_csv('new_vocab_a2.csv', sep=';')\n",
        "df.index = np.arange(1, len(df) + 1)\n",
        "i = 1\n",
        "for word in df['а']:\n",
        "  if len(word) < 2:\n",
        "    df.drop(index = i, inplace = True)\n",
        "  else:\n",
        "    i += 1\n",
        "nv2 = df"
      ],
      "metadata": {
        "id": "Wm8-VV060V2S"
      },
      "execution_count": null,
      "outputs": []
    },
    {
      "cell_type": "markdown",
      "source": [
        "Сравниваем уровень А2 для гарвардских данных и LM:"
      ],
      "metadata": {
        "id": "HRipwd99v2ax"
      }
    },
    {
      "cell_type": "code",
      "source": [
        "data1 = ll2['lemma'].str.strip('\\'')\n",
        "data2 = nv2['а'].str.lower()\n",
        "sd = sorenson_dice(data1, data2)\n",
        "print(\"Сёренсен-Дайс:\", sd)"
      ],
      "metadata": {
        "colab": {
          "base_uri": "https://localhost:8080/"
        },
        "id": "0-ETyzND0g9k",
        "outputId": "68a79557-369b-4727-8b0c-3d4c15c8ecc1"
      },
      "execution_count": null,
      "outputs": [
        {
          "output_type": "stream",
          "name": "stdout",
          "text": [
            "Сёренсен-Дайс: 0.10842525228819526\n"
          ]
        }
      ]
    },
    {
      "cell_type": "markdown",
      "source": [
        "Загружаем данные LM В1:"
      ],
      "metadata": {
        "id": "zVdKCNmivkxi"
      }
    },
    {
      "cell_type": "code",
      "source": [
        "df = pd.read_csv('new_vocab_b1.csv', sep=';')\n",
        "df.index = np.arange(1, len(df) + 1)\n",
        "i = 1\n",
        "for word in df['а']:\n",
        "  if len(word) < 2:\n",
        "    df.drop(index = i, inplace = True)\n",
        "  else:\n",
        "    i += 1\n",
        "nv3 = df"
      ],
      "metadata": {
        "id": "3knprXCl0nsD"
      },
      "execution_count": null,
      "outputs": []
    },
    {
      "cell_type": "markdown",
      "source": [
        "Сравниваем уровень В1 для гарвардских данных и LM:"
      ],
      "metadata": {
        "id": "4EjBQ83gv45L"
      }
    },
    {
      "cell_type": "code",
      "source": [
        "data1 = ll3['lemma'].str.strip('\\'')\n",
        "data2 = nv3['а'].str.lower()\n",
        "sd = sorenson_dice(data1, data2)\n",
        "print(\"Сёренсен-Дайс:\", sd)"
      ],
      "metadata": {
        "colab": {
          "base_uri": "https://localhost:8080/"
        },
        "id": "83N6btVt0tNl",
        "outputId": "842bf7ec-aed9-4cd3-9712-15e90c78ff32"
      },
      "execution_count": null,
      "outputs": [
        {
          "output_type": "stream",
          "name": "stdout",
          "text": [
            "Сёренсен-Дайс: 0.011079524746701654\n"
          ]
        }
      ]
    },
    {
      "cell_type": "markdown",
      "source": [
        "Загружаем данные LM В2:"
      ],
      "metadata": {
        "id": "GgBqSLthvm2j"
      }
    },
    {
      "cell_type": "code",
      "source": [
        "df = pd.read_csv('new_vocab_b2.csv', sep=';')\n",
        "df.index = np.arange(1, len(df) + 1)\n",
        "i = 1\n",
        "for word in df['а']:\n",
        "  if len(word) < 2:\n",
        "    df.drop(index = i, inplace = True)\n",
        "  else:\n",
        "    i += 1\n",
        "nv4 = df"
      ],
      "metadata": {
        "id": "cB5W9R7b04Gb"
      },
      "execution_count": null,
      "outputs": []
    },
    {
      "cell_type": "markdown",
      "source": [
        "Сравниваем уровень В2 для гарвардских данных и LM:"
      ],
      "metadata": {
        "id": "BfgwB31Dv7HF"
      }
    },
    {
      "cell_type": "code",
      "source": [
        "data1 = ll4['lemma'].str.strip('\\'')\n",
        "data2 = nv4['а'].str.lower()\n",
        "sd = sorenson_dice(data1, data2)\n",
        "print(\"Сёренсен-Дайс:\", sd)"
      ],
      "metadata": {
        "colab": {
          "base_uri": "https://localhost:8080/"
        },
        "id": "1o5dBfWU09O8",
        "outputId": "7e539c62-a5e6-43f6-c886-880bc8619246"
      },
      "execution_count": null,
      "outputs": [
        {
          "output_type": "stream",
          "name": "stdout",
          "text": [
            "Сёренсен-Дайс: 0.0333996903339969\n"
          ]
        }
      ]
    },
    {
      "cell_type": "markdown",
      "source": [
        "Сравниваем уровень А1 для Шарова и LM:"
      ],
      "metadata": {
        "id": "htYn1V3QwAuB"
      }
    },
    {
      "cell_type": "code",
      "source": [
        "data1 = dc1['lemma'].str.lower()\n",
        "data2 = nv1['а'].str.lower()\n",
        "sd = sorenson_dice(data1, data2)\n",
        "print(\"Сёренсен-Дайс:\", sd)"
      ],
      "metadata": {
        "colab": {
          "base_uri": "https://localhost:8080/"
        },
        "id": "jgou2Re537Bv",
        "outputId": "6608a6ff-965a-4261-ccd9-d8ba4ee39e79"
      },
      "execution_count": null,
      "outputs": [
        {
          "output_type": "stream",
          "name": "stdout",
          "text": [
            "Сёренсен-Дайс: 0.41624874623871616\n"
          ]
        }
      ]
    },
    {
      "cell_type": "markdown",
      "source": [
        "Сравниваем уровень А1 для SMARTool и LM:"
      ],
      "metadata": {
        "id": "tnHKOI8uwOhN"
      }
    },
    {
      "cell_type": "code",
      "source": [
        "data1 = nv1['а'].str.lower()\n",
        "data2 = A1['Lemma'].str.lower()\n",
        "sd = sorenson_dice(data1, data2)\n",
        "print(\"Сёренсен-Дайс:\", sd)"
      ],
      "metadata": {
        "colab": {
          "base_uri": "https://localhost:8080/"
        },
        "id": "ixeUyjWt38PP",
        "outputId": "e4077277-9bdc-43d7-90ab-9f912d10b219"
      },
      "execution_count": null,
      "outputs": [
        {
          "output_type": "stream",
          "name": "stdout",
          "text": [
            "Сёренсен-Дайс: 0.816933638443936\n"
          ]
        }
      ]
    },
    {
      "cell_type": "markdown",
      "source": [
        "Сравниваем уровень А2 для Шарова и LM:"
      ],
      "metadata": {
        "id": "6Dsgw8PIwF0m"
      }
    },
    {
      "cell_type": "code",
      "source": [
        "data1 = dc2['lemma'].str.lower()\n",
        "data2 = nv2['а'].str.lower()\n",
        "sd = sorenson_dice(data1, data2)\n",
        "print(\"Сёренсен-Дайс:\", sd)"
      ],
      "metadata": {
        "colab": {
          "base_uri": "https://localhost:8080/"
        },
        "id": "L2OMDK-l4aQ6",
        "outputId": "87c52404-7de0-45d2-cfd4-774cb62167a3"
      },
      "execution_count": null,
      "outputs": [
        {
          "output_type": "stream",
          "name": "stdout",
          "text": [
            "Сёренсен-Дайс: 0.21821036106750394\n"
          ]
        }
      ]
    },
    {
      "cell_type": "markdown",
      "source": [
        "Сравниваем уровень А2 для SMARTool и LM:"
      ],
      "metadata": {
        "id": "WN09DPgVwSmf"
      }
    },
    {
      "cell_type": "code",
      "source": [
        "data1 = nv2['а'].str.lower()\n",
        "data2 = A2['Unnamed: 0'].str.lower()\n",
        "sd = sorenson_dice(data1, data2)\n",
        "print(\"Сёренсен-Дайс:\", sd)"
      ],
      "metadata": {
        "colab": {
          "base_uri": "https://localhost:8080/"
        },
        "id": "X9FRUGHV4a07",
        "outputId": "cd946e7d-fd98-4295-fa0a-62ec2d3ef53f"
      },
      "execution_count": null,
      "outputs": [
        {
          "output_type": "stream",
          "name": "stdout",
          "text": [
            "Сёренсен-Дайс: 0.5570107858243452\n"
          ]
        }
      ]
    },
    {
      "cell_type": "markdown",
      "source": [
        "Сравниваем уровень В1 для Шарова и LM:"
      ],
      "metadata": {
        "id": "-RupPJjqwIHv"
      }
    },
    {
      "cell_type": "code",
      "source": [
        "data1 = dc3['lemma'].str.lower()\n",
        "data2 = nv3['а'].str.lower()\n",
        "sd = sorenson_dice(data1, data2)\n",
        "print(\"Сёренсен-Дайс:\", sd)"
      ],
      "metadata": {
        "colab": {
          "base_uri": "https://localhost:8080/"
        },
        "id": "fuilRgW74uOW",
        "outputId": "e7c5fb17-22f5-4a5c-a055-d06871d3e4cb"
      },
      "execution_count": null,
      "outputs": [
        {
          "output_type": "stream",
          "name": "stdout",
          "text": [
            "Сёренсен-Дайс: 0.16253602305475504\n"
          ]
        }
      ]
    },
    {
      "cell_type": "markdown",
      "source": [
        "Сравниваем уровень B1 для SMARTool и LM:"
      ],
      "metadata": {
        "id": "PCwwXAdewV9g"
      }
    },
    {
      "cell_type": "code",
      "source": [
        "data1 = nv3['а'].str.lower()\n",
        "data2 = B1['Lemma'].str.lower()\n",
        "sd = sorenson_dice(data1, data2)\n",
        "print(\"Сёренсен-Дайс:\", sd)"
      ],
      "metadata": {
        "colab": {
          "base_uri": "https://localhost:8080/"
        },
        "id": "zoUvf16d4zi_",
        "outputId": "055eb8b1-d990-45cb-e1dd-36dab806fa19"
      },
      "execution_count": null,
      "outputs": [
        {
          "output_type": "stream",
          "name": "stdout",
          "text": [
            "Сёренсен-Дайс: 0.5226696705153477\n"
          ]
        }
      ]
    },
    {
      "cell_type": "markdown",
      "source": [
        "Сравниваем уровень В2 для Шарова и LM:"
      ],
      "metadata": {
        "id": "PkSie4ySwK8s"
      }
    },
    {
      "cell_type": "code",
      "source": [
        "data1 = dc4['lemma'].str.lower()\n",
        "data2 = nv4['а'].str.lower()\n",
        "sd = sorenson_dice(data1, data2)\n",
        "print(\"Сёренсен-Дайс:\", sd)"
      ],
      "metadata": {
        "colab": {
          "base_uri": "https://localhost:8080/"
        },
        "id": "Io-MU7f75JeB",
        "outputId": "386607c3-a1be-466f-8b93-bfbb277f607f"
      },
      "execution_count": null,
      "outputs": [
        {
          "output_type": "stream",
          "name": "stdout",
          "text": [
            "Сёренсен-Дайс: 0.26335470085470086\n"
          ]
        }
      ]
    },
    {
      "cell_type": "markdown",
      "source": [
        "Сравниваем уровень B2 для SMARTool и LM:"
      ],
      "metadata": {
        "id": "oNqwZjzAwb-1"
      }
    },
    {
      "cell_type": "code",
      "source": [
        "data1 = nv4['а'].str.lower()\n",
        "data2 = B2['Lemma'].str.lower()\n",
        "sd = sorenson_dice(data1, data2)\n",
        "print(\"Сёренсен-Дайс:\", sd)"
      ],
      "metadata": {
        "colab": {
          "base_uri": "https://localhost:8080/"
        },
        "id": "pm0NQw7Y5SOr",
        "outputId": "ff49587f-6b6e-4d68-e9d4-5bd7f47d49f6"
      },
      "execution_count": null,
      "outputs": [
        {
          "output_type": "stream",
          "name": "stdout",
          "text": [
            "Сёренсен-Дайс: 0.7189023698832067\n"
          ]
        }
      ]
    },
    {
      "cell_type": "markdown",
      "source": [
        "Создаём тепловую матрицу для уровня А1:"
      ],
      "metadata": {
        "id": "c0gtU2DswgAW"
      }
    },
    {
      "cell_type": "code",
      "source": [
        "columns=['VRT (0)', 'Sharoff (1)', 'SMARTool (2)', 'LM (3)']\n",
        "\n",
        "data = [\n",
        "[1, 0.44, 0.42, 0.5],\n",
        "[0.44, 1, 0.15, 0.22],\n",
        "[0.42, 0.15, 1, 0.82],\n",
        "[0.5, 0.22, 0.82, 1]\n",
        "]\n",
        "\n",
        "df = pd.DataFrame(data, columns=columns)"
      ],
      "metadata": {
        "id": "NvUs4sAJ0MM6"
      },
      "execution_count": null,
      "outputs": []
    },
    {
      "cell_type": "code",
      "source": [
        "sns.heatmap(df, annot=True, vmin=0, vmax=1, cmap ='RdYlGn')"
      ],
      "metadata": {
        "colab": {
          "base_uri": "https://localhost:8080/",
          "height": 453
        },
        "id": "Y03G5HoOzNcW",
        "outputId": "36d59457-3555-41f9-e3b9-6201767fffbb"
      },
      "execution_count": null,
      "outputs": [
        {
          "output_type": "execute_result",
          "data": {
            "text/plain": [
              "<Axes: >"
            ]
          },
          "metadata": {},
          "execution_count": 4
        },
        {
          "output_type": "display_data",
          "data": {
            "text/plain": [
              "<Figure size 640x480 with 2 Axes>"
            ],
            "image/png": "[encoded data removed]"
          },
          "metadata": {}
        }
      ]
    },
    {
      "cell_type": "markdown",
      "source": [
        "Создаём тепловую матрицу для уровня А2:"
      ],
      "metadata": {
        "id": "3xI2n5Jcwl79"
      }
    },
    {
      "cell_type": "code",
      "source": [
        "columns=['VRT (0)', 'Sharoff (1)', 'SMARTool (2)', 'LM (3)']\n",
        "\n",
        "data = [\n",
        "[1, 0.16, 0.12, 0.11],\n",
        "[0.16, 1, 0.35, 0.42],\n",
        "[0.12, 0.35, 1, 0.56],\n",
        "[0.11, 0.42, 0.56, 1]\n",
        "]\n",
        "\n",
        "df = pd.DataFrame(data, columns=columns)"
      ],
      "metadata": {
        "id": "kqPfbjh8Cp4J"
      },
      "execution_count": null,
      "outputs": []
    },
    {
      "cell_type": "code",
      "source": [
        "sns.heatmap(df, annot=True, vmin=0, vmax=1, cmap ='RdYlGn')"
      ],
      "metadata": {
        "id": "wGuB1EsZECew",
        "outputId": "60ede967-173e-4d2f-9e5d-f0b75663e9d1",
        "colab": {
          "base_uri": "https://localhost:8080/",
          "height": 453
        }
      },
      "execution_count": null,
      "outputs": [
        {
          "output_type": "execute_result",
          "data": {
            "text/plain": [
              "<Axes: >"
            ]
          },
          "metadata": {},
          "execution_count": 6
        },
        {
          "output_type": "display_data",
          "data": {
            "text/plain": [
              "<Figure size 640x480 with 2 Axes>"
            ],
            "image/png": "[encoded data removed]"
          },
          "metadata": {}
        }
      ]
    },
    {
      "cell_type": "markdown",
      "source": [
        "Создаём тепловую матрицу для уровня В1:"
      ],
      "metadata": {
        "id": "UHDCItLwwn4Z"
      }
    },
    {
      "cell_type": "code",
      "source": [
        "columns=['VRT (0)', 'Sharoff (1)', 'SMARTool (2)', 'LM (3)']\n",
        "\n",
        "data = [\n",
        "[1, 0.01, 0.01, 0.01],\n",
        "[0.01, 1, 0.13, 0.16],\n",
        "[0.01, 0.13, 1, 0.52],\n",
        "[0.01, 0.16, 0.52, 1]\n",
        "]\n",
        "\n",
        "df = pd.DataFrame(data, columns=columns)"
      ],
      "metadata": {
        "id": "ETl7wwEkEgnQ"
      },
      "execution_count": null,
      "outputs": []
    },
    {
      "cell_type": "code",
      "source": [
        "sns.heatmap(df, annot=True, vmin=0, vmax=1, cmap ='RdYlGn')"
      ],
      "metadata": {
        "id": "BioZhkU_FqFZ",
        "outputId": "b9d92c39-200f-47ef-cebc-7040df698429",
        "colab": {
          "base_uri": "https://localhost:8080/",
          "height": 453
        }
      },
      "execution_count": null,
      "outputs": [
        {
          "output_type": "execute_result",
          "data": {
            "text/plain": [
              "<Axes: >"
            ]
          },
          "metadata": {},
          "execution_count": 8
        },
        {
          "output_type": "display_data",
          "data": {
            "text/plain": [
              "<Figure size 640x480 with 2 Axes>"
            ],
            "image/png": "[encoded data removed]"
          },
          "metadata": {}
        }
      ]
    },
    {
      "cell_type": "markdown",
      "source": [
        "Создаём тепловую матрицу для уровня В2:"
      ],
      "metadata": {
        "id": "bYi909etwq47"
      }
    },
    {
      "cell_type": "code",
      "source": [
        "columns=['VRT (0)', 'Sharoff (1)', 'SMARTool (2)', 'LM (3)']\n",
        "\n",
        "data = [\n",
        "[1, 0.02, 0.03, 0.03],\n",
        "[0.02, 1, 0.21, 0.26],\n",
        "[0.03, 0.21, 1, 0.72],\n",
        "[0.03, 0.26, 0.72, 1]\n",
        "]\n",
        "\n",
        "df = pd.DataFrame(data, columns=columns)"
      ],
      "metadata": {
        "id": "6OPMNvxKF2kA"
      },
      "execution_count": null,
      "outputs": []
    },
    {
      "cell_type": "code",
      "source": [
        "sns.heatmap(df, annot=True, vmin=0, vmax=1, cmap ='RdYlGn')"
      ],
      "metadata": {
        "id": "TaGMadToGkqK",
        "outputId": "51c59c11-142d-477f-ef95-64b50217f764",
        "colab": {
          "base_uri": "https://localhost:8080/",
          "height": 453
        }
      },
      "execution_count": null,
      "outputs": [
        {
          "output_type": "execute_result",
          "data": {
            "text/plain": [
              "<Axes: >"
            ]
          },
          "metadata": {},
          "execution_count": 11
        },
        {
          "output_type": "display_data",
          "data": {
            "text/plain": [
              "<Figure size 640x480 with 2 Axes>"
            ],
            "image/png": "[encoded data removed]"
          },
          "metadata": {}
        }
      ]
    }
  ]
}