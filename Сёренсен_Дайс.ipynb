{
  "nbformat": 4,
  "nbformat_minor": 0,
  "metadata": {
    "colab": {
      "provenance": [],
      "authorship_tag": "ABX9TyNpTn8N8CU+q8yxZV3DDgJP",
      "include_colab_link": true
    },
    "kernelspec": {
      "name": "python3",
      "display_name": "Python 3"
    },
    "language_info": {
      "name": "python"
    }
  },
  "cells": [
    {
      "cell_type": "markdown",
      "metadata": {
        "id": "view-in-github",
        "colab_type": "text"
      },
      "source": [
        "<a href=\"https://colab.research.google.com/github/Vakhranev/MDB/blob/main/%D0%A1%D1%91%D1%80%D0%B5%D0%BD%D1%81%D0%B5%D0%BD_%D0%94%D0%B0%D0%B9%D1%81.ipynb\" target=\"_parent\"><img src=\"https://colab.research.google.com/assets/colab-badge.svg\" alt=\"Open In Colab\"/></a>"
      ]
    },
    {
      "cell_type": "markdown",
      "source": [
        "Загружаем все необходимые модули:"
      ],
      "metadata": {
        "id": "BZrqxbmpszy5"
      }
    },
    {
      "cell_type": "code",
      "source": [
        "!pip install multiset"
      ],
      "metadata": {
        "colab": {
          "base_uri": "https://localhost:8080/"
        },
        "id": "WwflyQcznNt-",
        "outputId": "700c05ff-c2d2-4ef9-c5c0-d327d36e81e3"
      },
      "execution_count": 1,
      "outputs": [
        {
          "output_type": "stream",
          "name": "stdout",
          "text": [
            "Looking in indexes: https://pypi.org/simple, https://us-python.pkg.dev/colab-wheels/public/simple/\n",
            "Collecting multiset\n",
            "  Downloading multiset-3.0.1-py2.py3-none-any.whl (9.6 kB)\n",
            "Installing collected packages: multiset\n",
            "Successfully installed multiset-3.0.1\n"
          ]
        }
      ]
    },
    {
      "cell_type": "code",
      "execution_count": 2,
      "metadata": {
        "id": "OBhYJ6_C3Jvg"
      },
      "outputs": [],
      "source": [
        "from multiset import Multiset\n",
        "import pandas as pd\n",
        "import numpy as np\n",
        "import seaborn as sns\n",
        "import matplotlib.pyplot as plt"
      ]
    },
    {
      "cell_type": "markdown",
      "source": [
        "Создаём функцию, которая считает коэффициент Сёренсена-Дайса для двух корпусов:"
      ],
      "metadata": {
        "id": "2Aa1JqhJs_UF"
      }
    },
    {
      "cell_type": "code",
      "source": [
        "def tokenizetext(txt):\n",
        "    arr = []\n",
        "    for wrd in txt:\n",
        "        arr += [wrd]\n",
        "    return Multiset(arr)\n",
        "\n",
        "\n",
        "def sorenson_dice(text1, text2):\n",
        "    ''' Sorenson-Dice similarity of Multisets '''\n",
        "    bc1, bc2 = tokenizetext(text1), tokenizetext(text2)\n",
        "    return 2 * len(bc1 & bc2) / (len(bc1) + len(bc2))"
      ],
      "metadata": {
        "id": "1OzZw88O8hKq"
      },
      "execution_count": 3,
      "outputs": []
    },
    {
      "cell_type": "markdown",
      "source": [
        "Загружаем гарвардские данные:"
      ],
      "metadata": {
        "id": "8HxoCT44tdHA"
      }
    },
    {
      "cell_type": "code",
      "source": [
        "df = pd.read_csv('lemmas_levels.csv', sep=',')\n",
        "df.index = np.arange(1, len(df) + 1)\n",
        "mark1 = \"1E\"\n",
        "mark2 = \"2I\"\n",
        "mark3 = \"3AU\"\n",
        "mark4 = \"4S\"\n",
        "ll1 = df.query('level == @mark1')\n",
        "ll2 = df.query('level == @mark2')\n",
        "ll3 = df.query('level == @mark3')\n",
        "ll4 = df.query('level == @mark4')"
      ],
      "metadata": {
        "id": "G_JNS2eI42er"
      },
      "execution_count": 4,
      "outputs": []
    },
    {
      "cell_type": "markdown",
      "source": [
        "Загружаем данные из словаря частотности Шарова:"
      ],
      "metadata": {
        "id": "npRNQTAwtbAL"
      }
    },
    {
      "cell_type": "code",
      "source": [
        "df = pd.read_csv('dictionary_csv.csv', sep=',')\n",
        "df.index = np.arange(1, len(df) + 1)\n",
        "dc1 = df[:1000]\n",
        "dc2 = df[1000:2000]\n",
        "dc3 = df[2000:3000]\n",
        "dc4 = df[3000:]"
      ],
      "metadata": {
        "id": "DAO4iFg49DVw"
      },
      "execution_count": 5,
      "outputs": []
    },
    {
      "cell_type": "markdown",
      "source": [
        "Проверяем работу функции. Сравниваем два одинаковых корпуса:"
      ],
      "metadata": {
        "id": "ng0SkBb7tfvs"
      }
    },
    {
      "cell_type": "code",
      "source": [
        "data1 = dc1['lemma'].str.lower()\n",
        "data2 = dc1['lemma'].str.lower()\n",
        "sd = sorenson_dice(data1, data2)\n",
        "print(\"Сёренсен-Дайс:\", sd)"
      ],
      "metadata": {
        "id": "YG4TBqyRsgVF",
        "outputId": "eea277bc-c797-4b7d-887b-2b22beb892c8",
        "colab": {
          "base_uri": "https://localhost:8080/"
        }
      },
      "execution_count": null,
      "outputs": [
        {
          "output_type": "stream",
          "name": "stdout",
          "text": [
            "Сёренсен-Дайс: 1.0\n"
          ]
        }
      ]
    },
    {
      "cell_type": "markdown",
      "source": [
        "Теперь сравниваем корпус с одинаковым корпусом, который был увеличен в два раза:"
      ],
      "metadata": {
        "id": "ppeY5O2xtmIk"
      }
    },
    {
      "cell_type": "code",
      "source": [
        "data1 = dc1['lemma'].str.lower().append(dc1['lemma'].str.lower())\n",
        "data2 = dc1['lemma'].str.lower()\n",
        "sd = sorenson_dice(data1, data2)\n",
        "print(\"Сёренсен-Дайс:\", sd)"
      ],
      "metadata": {
        "colab": {
          "base_uri": "https://localhost:8080/"
        },
        "id": "BlMusUorxQVi",
        "outputId": "36927576-be94-4476-a953-330e4f496a27"
      },
      "execution_count": null,
      "outputs": [
        {
          "output_type": "stream",
          "name": "stdout",
          "text": [
            "Сёренсен-Дайс: 0.6666666666666666\n"
          ]
        },
        {
          "output_type": "stream",
          "name": "stderr",
          "text": [
            "<ipython-input-6-6ed9d711d78a>:1: FutureWarning: The series.append method is deprecated and will be removed from pandas in a future version. Use pandas.concat instead.\n",
            "  data1 = dc1['lemma'].str.lower().append(dc1['lemma'].str.lower())\n"
          ]
        }
      ]
    },
    {
      "cell_type": "code",
      "source": [
        "len(data1)"
      ],
      "metadata": {
        "colab": {
          "base_uri": "https://localhost:8080/"
        },
        "id": "WM5zQmxaxWy-",
        "outputId": "8afec42e-d3fa-4b05-b476-4586c60ffa10"
      },
      "execution_count": null,
      "outputs": [
        {
          "output_type": "execute_result",
          "data": {
            "text/plain": [
              "2000"
            ]
          },
          "metadata": {},
          "execution_count": 7
        }
      ]
    },
    {
      "cell_type": "markdown",
      "source": [
        "В три раза:"
      ],
      "metadata": {
        "id": "KRDygnwxt3m9"
      }
    },
    {
      "cell_type": "code",
      "source": [
        "data1 = data1.append(dc1['lemma'].str.lower())\n",
        "data2 = dc1['lemma'].str.lower()\n",
        "sd = sorenson_dice(data1, data2)\n",
        "print(\"Сёренсен-Дайс:\", sd)"
      ],
      "metadata": {
        "colab": {
          "base_uri": "https://localhost:8080/"
        },
        "id": "8Izpzxz-ypfM",
        "outputId": "e99ab12a-fdb1-4a92-d31e-12726c0fd3fd"
      },
      "execution_count": null,
      "outputs": [
        {
          "output_type": "stream",
          "name": "stdout",
          "text": [
            "Сёренсен-Дайс: 0.5\n"
          ]
        },
        {
          "output_type": "stream",
          "name": "stderr",
          "text": [
            "<ipython-input-8-030b0ec7314b>:1: FutureWarning: The series.append method is deprecated and will be removed from pandas in a future version. Use pandas.concat instead.\n",
            "  data1 = data1.append(dc1['lemma'].str.lower())\n"
          ]
        }
      ]
    },
    {
      "cell_type": "code",
      "source": [
        "len(data1)"
      ],
      "metadata": {
        "colab": {
          "base_uri": "https://localhost:8080/"
        },
        "id": "Nw0Mn3Rayuyw",
        "outputId": "f1acc896-9e83-4c44-8eb8-38387add9f7f"
      },
      "execution_count": null,
      "outputs": [
        {
          "output_type": "execute_result",
          "data": {
            "text/plain": [
              "3000"
            ]
          },
          "metadata": {},
          "execution_count": 9
        }
      ]
    },
    {
      "cell_type": "markdown",
      "source": [
        "В четыре раза:"
      ],
      "metadata": {
        "id": "5hEeucx8t5UQ"
      }
    },
    {
      "cell_type": "code",
      "source": [
        "data1 = data1.append(dc1['lemma'].str.lower())\n",
        "data2 = dc1['lemma'].str.lower()\n",
        "sd = sorenson_dice(data1, data2)\n",
        "print(\"Сёренсен-Дайс:\", sd)"
      ],
      "metadata": {
        "colab": {
          "base_uri": "https://localhost:8080/"
        },
        "id": "YK-8gGovy1K_",
        "outputId": "6c5e91d1-7a9c-43ae-9b06-4ec1a9a869c9"
      },
      "execution_count": null,
      "outputs": [
        {
          "output_type": "stream",
          "name": "stdout",
          "text": [
            "Сёренсен-Дайс: 0.4\n"
          ]
        },
        {
          "output_type": "stream",
          "name": "stderr",
          "text": [
            "<ipython-input-10-030b0ec7314b>:1: FutureWarning: The series.append method is deprecated and will be removed from pandas in a future version. Use pandas.concat instead.\n",
            "  data1 = data1.append(dc1['lemma'].str.lower())\n"
          ]
        }
      ]
    },
    {
      "cell_type": "markdown",
      "source": [
        "Сравниваем уровень А1 для гарвардских данных и Шарова:"
      ],
      "metadata": {
        "id": "JJY7LUMBuEDu"
      }
    },
    {
      "cell_type": "code",
      "source": [
        "data1 = ll1['lemma'].str.strip('\\'')\n",
        "data2 = dc1['lemma'].str.lower()\n",
        "sd = sorenson_dice(data1, data2)\n",
        "print(\"Сёренсен-Дайс:\", sd)"
      ],
      "metadata": {
        "id": "2lgtH83V-ZD4",
        "colab": {
          "base_uri": "https://localhost:8080/"
        },
        "outputId": "e98ad089-54be-47a0-958f-ce9eed54c97b"
      },
      "execution_count": null,
      "outputs": [
        {
          "output_type": "stream",
          "name": "stdout",
          "text": [
            "Сёренсен-Дайс: 0.43487321986800975\n"
          ]
        }
      ]
    },
    {
      "cell_type": "markdown",
      "source": [
        "Сравниваем уровень А2 для гарвардских данных и Шарова:"
      ],
      "metadata": {
        "id": "tF88E1ptuK5P"
      }
    },
    {
      "cell_type": "code",
      "source": [
        "data1 = ll2['lemma'].str.strip('\\'')\n",
        "data2 = dc2['lemma'].str.lower()\n",
        "sd = sorenson_dice(data1, data2)\n",
        "print(\"Сёренсен-Дайс:\", sd)"
      ],
      "metadata": {
        "colab": {
          "base_uri": "https://localhost:8080/"
        },
        "id": "cB_0Ev1dDQP4",
        "outputId": "5f805b12-02fa-4ab5-dc14-664785a315ae"
      },
      "execution_count": null,
      "outputs": [
        {
          "output_type": "stream",
          "name": "stdout",
          "text": [
            "Сёренсен-Дайс: 0.161055750067331\n"
          ]
        }
      ]
    },
    {
      "cell_type": "markdown",
      "source": [
        "Сравниваем уровень В1 для гарвардских данных и Шарова:"
      ],
      "metadata": {
        "id": "2ERjIPOOuMni"
      }
    },
    {
      "cell_type": "code",
      "source": [
        "data1 = ll3['lemma'].str.strip('\\'')\n",
        "data2 = dc3['lemma'].str.lower()\n",
        "sd = sorenson_dice(data1, data2)\n",
        "print(\"Сёренсен-Дайс:\", sd)"
      ],
      "metadata": {
        "colab": {
          "base_uri": "https://localhost:8080/"
        },
        "id": "fbFTq2CUDjCQ",
        "outputId": "04d49700-43a6-4052-8ae7-ef3a4a6d0e05"
      },
      "execution_count": null,
      "outputs": [
        {
          "output_type": "stream",
          "name": "stdout",
          "text": [
            "Сёренсен-Дайс: 0.011102947179361581\n"
          ]
        }
      ]
    },
    {
      "cell_type": "markdown",
      "source": [
        "Сравниваем уровень В2 для гарвардских данных и Шарова:"
      ],
      "metadata": {
        "id": "IWu7W9ySuO0T"
      }
    },
    {
      "cell_type": "code",
      "source": [
        "data1 = ll4['lemma'].str.strip('\\'')\n",
        "data2 = dc4['lemma'].str.lower()\n",
        "sd = sorenson_dice(data1, data2)\n",
        "print(\"Сёренсен-Дайс:\", sd)"
      ],
      "metadata": {
        "colab": {
          "base_uri": "https://localhost:8080/"
        },
        "id": "XeWwjtI-DtoF",
        "outputId": "05bb2219-95b7-4960-de58-6ded2740cf33"
      },
      "execution_count": null,
      "outputs": [
        {
          "output_type": "stream",
          "name": "stdout",
          "text": [
            "Сёренсен-Дайс: 0.018772266374349138\n"
          ]
        }
      ]
    },
    {
      "cell_type": "markdown",
      "source": [
        "Загружаем данные SMARTool A1:"
      ],
      "metadata": {
        "id": "dvQ_fWOTuSKA"
      }
    },
    {
      "cell_type": "code",
      "source": [
        "df = pd.read_csv('A1.csv', sep=';')\n",
        "df.index = np.arange(1, len(df) + 1)\n",
        "A1 = df[:754]"
      ],
      "metadata": {
        "id": "uqF5QGkVQ8jy"
      },
      "execution_count": 89,
      "outputs": []
    },
    {
      "cell_type": "markdown",
      "source": [
        "Сравниваем уровень А1 для гарвардских данных и SMARTool:"
      ],
      "metadata": {
        "id": "n4baRnyludKz"
      }
    },
    {
      "cell_type": "code",
      "source": [
        "data1 = ll1['lemma'].str.strip('\\'')\n",
        "data2 = A1['Lemma'].str.lower()\n",
        "sd = sorenson_dice(data1, data2)\n",
        "print(\"Сёренсен-Дайс:\", sd)"
      ],
      "metadata": {
        "colab": {
          "base_uri": "https://localhost:8080/"
        },
        "id": "jjd94BM_R-7B",
        "outputId": "3785e43e-8578-43eb-9fd1-9f6ee228ba41"
      },
      "execution_count": null,
      "outputs": [
        {
          "output_type": "stream",
          "name": "stdout",
          "text": [
            "Сёренсен-Дайс: 0.4238511203949867\n"
          ]
        }
      ]
    },
    {
      "cell_type": "markdown",
      "source": [
        "Загружаем данные SMARTool А2:"
      ],
      "metadata": {
        "id": "vz6g0poGuhfS"
      }
    },
    {
      "cell_type": "code",
      "source": [
        "df = pd.read_csv('A2.csv', sep=';')\n",
        "df.index = np.arange(1, len(df) + 1)\n",
        "A2 = df[:1048]"
      ],
      "metadata": {
        "id": "GWKmhxMhTEgu"
      },
      "execution_count": 90,
      "outputs": []
    },
    {
      "cell_type": "markdown",
      "source": [
        "Сравниваем уровень А2 для гарвардских данных и SMARTool:"
      ],
      "metadata": {
        "id": "fO63sFDKunc-"
      }
    },
    {
      "cell_type": "code",
      "source": [
        "data1 = ll2['lemma'].str.strip('\\'')\n",
        "data2 = A2['Unnamed: 0'].str.lower()\n",
        "sd = sorenson_dice(data1, data2)\n",
        "print(\"Сёренсен-Дайс:\", sd)"
      ],
      "metadata": {
        "colab": {
          "base_uri": "https://localhost:8080/"
        },
        "id": "H6maz3bNTe2D",
        "outputId": "6cabcf21-1fcc-463b-ab6b-662209b2a666"
      },
      "execution_count": null,
      "outputs": [
        {
          "output_type": "stream",
          "name": "stdout",
          "text": [
            "Сёренсен-Дайс: 0.12390321722946025\n"
          ]
        }
      ]
    },
    {
      "cell_type": "markdown",
      "source": [
        "Загружаем данные SMARTool В1:"
      ],
      "metadata": {
        "id": "F-8_0UlZuswL"
      }
    },
    {
      "cell_type": "code",
      "source": [
        "df = pd.read_csv('B1.csv', sep=';')\n",
        "df.index = np.arange(1, len(df) + 1)\n",
        "B1 = df[:1081]"
      ],
      "metadata": {
        "id": "008zKNiLWHFT"
      },
      "execution_count": 91,
      "outputs": []
    },
    {
      "cell_type": "markdown",
      "source": [
        "Сравниваем уровень В1 для гарвардских данных и SMARTool:"
      ],
      "metadata": {
        "id": "F3zOAq9yu2BN"
      }
    },
    {
      "cell_type": "code",
      "source": [
        "data1 = ll3['lemma'].str.strip('\\'')\n",
        "data2 = B1['Lemma'].str.lower()\n",
        "sd = sorenson_dice(data1, data2)\n",
        "print(\"Сёренсен-Дайс:\", sd)"
      ],
      "metadata": {
        "colab": {
          "base_uri": "https://localhost:8080/"
        },
        "id": "SzWpsaZqWZgY",
        "outputId": "a6008747-917a-4975-d691-2edaf17da34c"
      },
      "execution_count": null,
      "outputs": [
        {
          "output_type": "stream",
          "name": "stdout",
          "text": [
            "Сёренсен-Дайс: 0.008110300081103\n"
          ]
        }
      ]
    },
    {
      "cell_type": "markdown",
      "source": [
        "Загружаем данные SMARTool В2:"
      ],
      "metadata": {
        "id": "SPTRnRW0u8YW"
      }
    },
    {
      "cell_type": "code",
      "source": [
        "df = pd.read_csv('B2.csv', sep=';')\n",
        "df.index = np.arange(1, len(df) + 1)\n",
        "B2 = df[:3331]"
      ],
      "metadata": {
        "id": "EC76rJT0XJDS"
      },
      "execution_count": 92,
      "outputs": []
    },
    {
      "cell_type": "markdown",
      "source": [
        "Сравниваем уровень B2 для гарвардских данных и SMARTool:"
      ],
      "metadata": {
        "id": "85dO2k7vvCgp"
      }
    },
    {
      "cell_type": "code",
      "source": [
        "data1 = ll4['lemma'].str.strip('\\'')\n",
        "data2 = B2['Lemma'].str.lower()\n",
        "sd = sorenson_dice(data1, data2)\n",
        "print(\"Сёренсен-Дайс:\", sd)"
      ],
      "metadata": {
        "colab": {
          "base_uri": "https://localhost:8080/"
        },
        "id": "rWnZiuLVXOP-",
        "outputId": "de318ca5-bf55-484e-8f34-69f0fe85f6cf"
      },
      "execution_count": null,
      "outputs": [
        {
          "output_type": "stream",
          "name": "stdout",
          "text": [
            "Сёренсен-Дайс: 0.03403026307528097\n"
          ]
        }
      ]
    },
    {
      "cell_type": "markdown",
      "source": [
        "Сравниваем уровень A1 для Шарова и SMARTool:"
      ],
      "metadata": {
        "id": "eUS8EenPvLJv"
      }
    },
    {
      "cell_type": "code",
      "source": [
        "data1 = dc1['lemma'].str.lower()\n",
        "data2 = A1['Lemma'].str.lower()\n",
        "sd = sorenson_dice(data1, data2)\n",
        "print(\"Сёренсен-Дайс:\", sd)"
      ],
      "metadata": {
        "colab": {
          "base_uri": "https://localhost:8080/"
        },
        "id": "lNTSiovlXcIQ",
        "outputId": "fea15e7d-cc47-4216-d686-d0c94f1b3bf3"
      },
      "execution_count": null,
      "outputs": [
        {
          "output_type": "stream",
          "name": "stdout",
          "text": [
            "Сёренсен-Дайс: 0.35347776510832385\n"
          ]
        }
      ]
    },
    {
      "cell_type": "markdown",
      "source": [
        "Сравниваем уровень A2 для Шарова и SMARTool:"
      ],
      "metadata": {
        "id": "1oP0I2NgvP62"
      }
    },
    {
      "cell_type": "code",
      "source": [
        "data1 = dc2['lemma'].str.lower()\n",
        "data2 = A2['Unnamed: 0'].str.lower()\n",
        "sd = sorenson_dice(data1, data2)\n",
        "print(\"Сёренсен-Дайс:\", sd)"
      ],
      "metadata": {
        "colab": {
          "base_uri": "https://localhost:8080/"
        },
        "id": "J96pIUq2Xp9J",
        "outputId": "06b88eff-2429-493f-a308-57ca792289f8"
      },
      "execution_count": null,
      "outputs": [
        {
          "output_type": "stream",
          "name": "stdout",
          "text": [
            "Сёренсен-Дайс: 0.14453125\n"
          ]
        }
      ]
    },
    {
      "cell_type": "markdown",
      "source": [
        "Сравниваем уровень В1 для Шарова и SMARTool:"
      ],
      "metadata": {
        "id": "sshqphIpvR7D"
      }
    },
    {
      "cell_type": "code",
      "source": [
        "data1 = dc3['lemma'].str.lower()\n",
        "data2 = B1['Lemma'].str.lower()\n",
        "sd = sorenson_dice(data1, data2)\n",
        "print(\"Сёренсен-Дайс:\", sd)"
      ],
      "metadata": {
        "colab": {
          "base_uri": "https://localhost:8080/"
        },
        "id": "gWLfe3ifX1Br",
        "outputId": "3cb5840f-cdc0-4814-83d0-1688e4f03aeb"
      },
      "execution_count": null,
      "outputs": [
        {
          "output_type": "stream",
          "name": "stdout",
          "text": [
            "Сёренсен-Дайс: 0.12686208553580008\n"
          ]
        }
      ]
    },
    {
      "cell_type": "markdown",
      "source": [
        "Сравниваем уровень В2 для Шарова и SMARTool:"
      ],
      "metadata": {
        "id": "ykJ0RD9LvVV-"
      }
    },
    {
      "cell_type": "code",
      "source": [
        "data1 = dc4['lemma'].str.lower()\n",
        "data2 = B2['Lemma'].str.lower()\n",
        "sd = sorenson_dice(data1, data2)\n",
        "print(\"Сёренсен-Дайс:\", sd)"
      ],
      "metadata": {
        "colab": {
          "base_uri": "https://localhost:8080/"
        },
        "id": "iabXrhyKYQz5",
        "outputId": "d12f8788-3c45-40b7-cf79-df89a72ce3f1"
      },
      "execution_count": null,
      "outputs": [
        {
          "output_type": "stream",
          "name": "stdout",
          "text": [
            "Сёренсен-Дайс: 0.2134683924216845\n"
          ]
        }
      ]
    },
    {
      "cell_type": "markdown",
      "source": [
        "Загружаем данные LM А1:"
      ],
      "metadata": {
        "id": "5H0ZlSTlvcHD"
      }
    },
    {
      "cell_type": "code",
      "source": [
        "df = pd.read_csv('new_vocab_a1.csv', sep=';')\n",
        "df.index = np.arange(1, len(df) + 1)\n",
        "i = 1\n",
        "for word in df['а']:\n",
        "  if len(word) < 2:\n",
        "    df.drop(index = i, inplace = True)\n",
        "  else:\n",
        "    i += 1\n",
        "nv1 = df"
      ],
      "metadata": {
        "id": "U4Bxcq4ls9En"
      },
      "execution_count": 71,
      "outputs": []
    },
    {
      "cell_type": "code",
      "source": [
        "len(df)"
      ],
      "metadata": {
        "colab": {
          "base_uri": "https://localhost:8080/"
        },
        "id": "ynE8lPctxdqt",
        "outputId": "08fd7373-7cb7-4025-9b27-9fd1a67d1ad4"
      },
      "execution_count": 72,
      "outputs": [
        {
          "output_type": "execute_result",
          "data": {
            "text/plain": [
              "994"
            ]
          },
          "metadata": {},
          "execution_count": 72
        }
      ]
    },
    {
      "cell_type": "markdown",
      "source": [
        "Сравниваем уровень А1 для гарвардских данных и LM:"
      ],
      "metadata": {
        "id": "O8HVNAS9vrGt"
      }
    },
    {
      "cell_type": "code",
      "source": [
        "data1 = ll1['lemma'].str.strip('\\'')\n",
        "data2 = nv1['а'].str.lower().tolist()\n",
        "sd = sorenson_dice(data1, data2)\n",
        "print(\"Сёренсен-Дайс:\", sd)"
      ],
      "metadata": {
        "colab": {
          "base_uri": "https://localhost:8080/"
        },
        "id": "Q-czSmsftJZy",
        "outputId": "3aff804e-7344-4683-e18e-2a3a3727a620"
      },
      "execution_count": 73,
      "outputs": [
        {
          "output_type": "stream",
          "name": "stdout",
          "text": [
            "Сёренсен-Дайс: 0.4949530107901149\n"
          ]
        }
      ]
    },
    {
      "cell_type": "markdown",
      "source": [
        "Загружаем данные LM А2:"
      ],
      "metadata": {
        "id": "0lTO_Yq-vi8u"
      }
    },
    {
      "cell_type": "code",
      "source": [
        "df = pd.read_csv('new_vocab_a2.csv', sep=';')\n",
        "df.index = np.arange(1, len(df) + 1)\n",
        "i = 1\n",
        "for word in df['а']:\n",
        "  if len(word) < 2:\n",
        "    df.drop(index = i, inplace = True)\n",
        "  else:\n",
        "    i += 1\n",
        "nv2 = df"
      ],
      "metadata": {
        "id": "Wm8-VV060V2S"
      },
      "execution_count": 74,
      "outputs": []
    },
    {
      "cell_type": "code",
      "source": [
        "data8 = nv2['а'].str.lower().tolist()\n",
        "result=list(set(data8) - set(data2))\n",
        "len(result)"
      ],
      "metadata": {
        "id": "0Dzl7BxVNVbk",
        "outputId": "fd5e9b11-cfcc-478a-d4c3-40c225755b0f",
        "colab": {
          "base_uri": "https://localhost:8080/"
        }
      },
      "execution_count": 75,
      "outputs": [
        {
          "output_type": "execute_result",
          "data": {
            "text/plain": [
              "581"
            ]
          },
          "metadata": {},
          "execution_count": 75
        }
      ]
    },
    {
      "cell_type": "code",
      "source": [
        "len(data8)"
      ],
      "metadata": {
        "id": "xj-VnB4TULau",
        "outputId": "be6fc52c-a4fe-4f14-de98-e1bd303be16a",
        "colab": {
          "base_uri": "https://localhost:8080/"
        }
      },
      "execution_count": 76,
      "outputs": [
        {
          "output_type": "execute_result",
          "data": {
            "text/plain": [
              "1548"
            ]
          },
          "metadata": {},
          "execution_count": 76
        }
      ]
    },
    {
      "cell_type": "code",
      "source": [
        "print(result[:20])\n",
        "print(data2[:20])"
      ],
      "metadata": {
        "id": "Ehr7UDXcT24B",
        "outputId": "c620cab5-f8df-4d25-b8b7-5cf9dd05da09",
        "colab": {
          "base_uri": "https://localhost:8080/"
        }
      },
      "execution_count": 77,
      "outputs": [
        {
          "output_type": "stream",
          "name": "stdout",
          "text": [
            "['грустный', 'воздух', 'удобный', 'лес', 'полагать', 'уезжать', 'корабль', 'казаться', 'иванович', 'чтение', 'доказывать', 'лыжа', 'слышать', 'разговор', 'случаться', 'читатель', 'физический', 'школьник', 'варить', 'продолжаться']\n",
            "['абстрактный', 'август', 'австралия', 'автобус', 'автор', 'адрес', 'азия', 'активный', 'александр', 'александра', 'алексей', 'алеша', 'алла', 'америка', 'английски', 'английский', 'англичанин', 'англичанка', 'англия', 'англо-русский']\n"
          ]
        }
      ]
    },
    {
      "cell_type": "markdown",
      "source": [
        "Сравниваем уровень А2 для гарвардских данных и LM:"
      ],
      "metadata": {
        "id": "HRipwd99v2ax"
      }
    },
    {
      "cell_type": "code",
      "source": [
        "data1 = ll2['lemma'].str.strip('\\'')\n",
        "data2 = result\n",
        "sd = sorenson_dice(data1, data2)\n",
        "print(\"Сёренсен-Дайс:\", sd)"
      ],
      "metadata": {
        "colab": {
          "base_uri": "https://localhost:8080/"
        },
        "id": "0-ETyzND0g9k",
        "outputId": "574c3766-d30c-4db3-eaa5-01b44f13fe8f"
      },
      "execution_count": 78,
      "outputs": [
        {
          "output_type": "stream",
          "name": "stdout",
          "text": [
            "Сёренсен-Дайс: 0.08743169398907104\n"
          ]
        }
      ]
    },
    {
      "cell_type": "markdown",
      "source": [
        "Загружаем данные LM В1:"
      ],
      "metadata": {
        "id": "zVdKCNmivkxi"
      }
    },
    {
      "cell_type": "code",
      "source": [
        "df = pd.read_csv('new_vocab_b1.csv', sep=';')\n",
        "df.index = np.arange(1, len(df) + 1)\n",
        "i = 1\n",
        "for word in df['а']:\n",
        "  if len(word) < 2:\n",
        "    df.drop(index = i, inplace = True)\n",
        "  else:\n",
        "    i += 1\n",
        "nv3 = df"
      ],
      "metadata": {
        "id": "3knprXCl0nsD"
      },
      "execution_count": 79,
      "outputs": []
    },
    {
      "cell_type": "code",
      "source": [
        "data7 = nv3['а'].str.lower().tolist()\n",
        "result2=list(set(data7) - set(data8))\n",
        "len(result)"
      ],
      "metadata": {
        "id": "4IjcKHX5XfEY",
        "outputId": "82004bd7-1b4e-42c6-86d4-278901f3e34f",
        "colab": {
          "base_uri": "https://localhost:8080/"
        }
      },
      "execution_count": 80,
      "outputs": [
        {
          "output_type": "execute_result",
          "data": {
            "text/plain": [
              "581"
            ]
          },
          "metadata": {},
          "execution_count": 80
        }
      ]
    },
    {
      "cell_type": "code",
      "source": [
        "len(data7)"
      ],
      "metadata": {
        "id": "VmqqaI-FYKDt",
        "outputId": "f14a95d4-dd27-4049-b8c0-abb160839105",
        "colab": {
          "base_uri": "https://localhost:8080/"
        }
      },
      "execution_count": 81,
      "outputs": [
        {
          "output_type": "execute_result",
          "data": {
            "text/plain": [
              "2470"
            ]
          },
          "metadata": {},
          "execution_count": 81
        }
      ]
    },
    {
      "cell_type": "markdown",
      "source": [
        "Сравниваем уровень В1 для гарвардских данных и LM:"
      ],
      "metadata": {
        "id": "4EjBQ83gv45L"
      }
    },
    {
      "cell_type": "code",
      "source": [
        "data1 = ll3['lemma'].str.strip('\\'')\n",
        "data2 = result2\n",
        "sd = sorenson_dice(data1, data2)\n",
        "print(\"Сёренсен-Дайс:\", sd)"
      ],
      "metadata": {
        "colab": {
          "base_uri": "https://localhost:8080/"
        },
        "id": "83N6btVt0tNl",
        "outputId": "1d5f0a23-f296-40d2-b142-f9194ae03c2d"
      },
      "execution_count": 82,
      "outputs": [
        {
          "output_type": "stream",
          "name": "stdout",
          "text": [
            "Сёренсен-Дайс: 0.006890894175553733\n"
          ]
        }
      ]
    },
    {
      "cell_type": "markdown",
      "source": [
        "Загружаем данные LM В2:"
      ],
      "metadata": {
        "id": "GgBqSLthvm2j"
      }
    },
    {
      "cell_type": "code",
      "source": [
        "df = pd.read_csv('new_vocab_b2.csv', sep=';')\n",
        "df.index = np.arange(1, len(df) + 1)\n",
        "i = 1\n",
        "for word in df['а']:\n",
        "  if len(word) < 2:\n",
        "    df.drop(index = i, inplace = True)\n",
        "  else:\n",
        "    i += 1\n",
        "nv4 = df"
      ],
      "metadata": {
        "id": "cB5W9R7b04Gb"
      },
      "execution_count": 83,
      "outputs": []
    },
    {
      "cell_type": "code",
      "source": [
        "data6 = nv4['а'].str.lower().tolist()\n",
        "result3=list(set(data6) - set(data7))\n",
        "len(result3)"
      ],
      "metadata": {
        "id": "7Wnm62X_Ywba",
        "outputId": "48ea5715-9188-4981-e90e-cb49b7312176",
        "colab": {
          "base_uri": "https://localhost:8080/"
        }
      },
      "execution_count": 84,
      "outputs": [
        {
          "output_type": "execute_result",
          "data": {
            "text/plain": [
              "3218"
            ]
          },
          "metadata": {},
          "execution_count": 84
        }
      ]
    },
    {
      "cell_type": "code",
      "source": [
        "len(data6)"
      ],
      "metadata": {
        "id": "7z6WfH-HZCnh",
        "outputId": "f1534ea1-6d5e-4500-fe78-e6fd3a993bb4",
        "colab": {
          "base_uri": "https://localhost:8080/"
        }
      },
      "execution_count": 85,
      "outputs": [
        {
          "output_type": "execute_result",
          "data": {
            "text/plain": [
              "5488"
            ]
          },
          "metadata": {},
          "execution_count": 85
        }
      ]
    },
    {
      "cell_type": "markdown",
      "source": [
        "Сравниваем уровень В2 для гарвардских данных и LM:"
      ],
      "metadata": {
        "id": "BfgwB31Dv7HF"
      }
    },
    {
      "cell_type": "code",
      "source": [
        "data1 = ll4['lemma'].str.strip('\\'')\n",
        "data2 = result3\n",
        "sd = sorenson_dice(data1, data2)\n",
        "print(\"Сёренсен-Дайс:\", sd)"
      ],
      "metadata": {
        "colab": {
          "base_uri": "https://localhost:8080/"
        },
        "id": "1o5dBfWU09O8",
        "outputId": "f4b61c48-bae4-49ce-e4e8-95b917556b70"
      },
      "execution_count": 86,
      "outputs": [
        {
          "output_type": "stream",
          "name": "stdout",
          "text": [
            "Сёренсен-Дайс: 0.034779309472619195\n"
          ]
        }
      ]
    },
    {
      "cell_type": "markdown",
      "source": [
        "Сравниваем уровень А1 для Шарова и LM:"
      ],
      "metadata": {
        "id": "htYn1V3QwAuB"
      }
    },
    {
      "cell_type": "code",
      "source": [
        "data1 = dc1['lemma'].str.lower()\n",
        "data2 = nv1['а'].str.lower()\n",
        "sd = sorenson_dice(data1, data2)\n",
        "print(\"Сёренсен-Дайс:\", sd)"
      ],
      "metadata": {
        "colab": {
          "base_uri": "https://localhost:8080/"
        },
        "id": "jgou2Re537Bv",
        "outputId": "f8537f02-2cf5-4d1a-b96a-476c264b87d5"
      },
      "execution_count": 87,
      "outputs": [
        {
          "output_type": "stream",
          "name": "stdout",
          "text": [
            "Сёренсен-Дайс: 0.41624874623871616\n"
          ]
        }
      ]
    },
    {
      "cell_type": "markdown",
      "source": [
        "Сравниваем уровень А1 для SMARTool и LM:"
      ],
      "metadata": {
        "id": "tnHKOI8uwOhN"
      }
    },
    {
      "cell_type": "code",
      "source": [
        "data1 = nv1['а'].str.lower()\n",
        "data2 = A1['Lemma'].str.lower()\n",
        "sd = sorenson_dice(data1, data2)\n",
        "print(\"Сёренсен-Дайс:\", sd)"
      ],
      "metadata": {
        "colab": {
          "base_uri": "https://localhost:8080/"
        },
        "id": "ixeUyjWt38PP",
        "outputId": "69fb32a9-2e22-4f58-cd34-9c20a791a52b"
      },
      "execution_count": 93,
      "outputs": [
        {
          "output_type": "stream",
          "name": "stdout",
          "text": [
            "Сёренсен-Дайс: 0.816933638443936\n"
          ]
        }
      ]
    },
    {
      "cell_type": "markdown",
      "source": [
        "Сравниваем уровень А2 для Шарова и LM:"
      ],
      "metadata": {
        "id": "6Dsgw8PIwF0m"
      }
    },
    {
      "cell_type": "code",
      "source": [
        "data1 = dc2['lemma'].str.lower()\n",
        "data2 = result\n",
        "sd = sorenson_dice(data1, data2)\n",
        "print(\"Сёренсен-Дайс:\", sd)"
      ],
      "metadata": {
        "colab": {
          "base_uri": "https://localhost:8080/"
        },
        "id": "L2OMDK-l4aQ6",
        "outputId": "85469dd9-e528-4e1e-e841-2c68d09b8d05"
      },
      "execution_count": 94,
      "outputs": [
        {
          "output_type": "stream",
          "name": "stdout",
          "text": [
            "Сёренсен-Дайс: 0.14294750158127767\n"
          ]
        }
      ]
    },
    {
      "cell_type": "markdown",
      "source": [
        "Сравниваем уровень А2 для SMARTool и LM:"
      ],
      "metadata": {
        "id": "WN09DPgVwSmf"
      }
    },
    {
      "cell_type": "code",
      "source": [
        "data1 = result\n",
        "data2 = A2['Unnamed: 0'].str.lower()\n",
        "sd = sorenson_dice(data1, data2)\n",
        "print(\"Сёренсен-Дайс:\", sd)"
      ],
      "metadata": {
        "colab": {
          "base_uri": "https://localhost:8080/"
        },
        "id": "X9FRUGHV4a07",
        "outputId": "a4051491-0de8-4063-96c6-b2fea636a67f"
      },
      "execution_count": 95,
      "outputs": [
        {
          "output_type": "stream",
          "name": "stdout",
          "text": [
            "Сёренсен-Дайс: 0.6114180478821363\n"
          ]
        }
      ]
    },
    {
      "cell_type": "markdown",
      "source": [
        "Сравниваем уровень В1 для Шарова и LM:"
      ],
      "metadata": {
        "id": "-RupPJjqwIHv"
      }
    },
    {
      "cell_type": "code",
      "source": [
        "data1 = dc3['lemma'].str.lower()\n",
        "data2 = result2\n",
        "sd = sorenson_dice(data1, data2)\n",
        "print(\"Сёренсен-Дайс:\", sd)"
      ],
      "metadata": {
        "colab": {
          "base_uri": "https://localhost:8080/"
        },
        "id": "fuilRgW74uOW",
        "outputId": "233fdd27-9658-4591-c01c-d8b2bd7f5e55"
      },
      "execution_count": 96,
      "outputs": [
        {
          "output_type": "stream",
          "name": "stdout",
          "text": [
            "Сёренсен-Дайс: 0.13807315816589386\n"
          ]
        }
      ]
    },
    {
      "cell_type": "markdown",
      "source": [
        "Сравниваем уровень B1 для SMARTool и LM:"
      ],
      "metadata": {
        "id": "PCwwXAdewV9g"
      }
    },
    {
      "cell_type": "code",
      "source": [
        "data1 = result2\n",
        "data2 = B1['Lemma'].str.lower()\n",
        "sd = sorenson_dice(data1, data2)\n",
        "print(\"Сёренсен-Дайс:\", sd)"
      ],
      "metadata": {
        "colab": {
          "base_uri": "https://localhost:8080/"
        },
        "id": "zoUvf16d4zi_",
        "outputId": "67525f14-3836-4436-e9f5-d3106d09e373"
      },
      "execution_count": 97,
      "outputs": [
        {
          "output_type": "stream",
          "name": "stdout",
          "text": [
            "Сёренсен-Дайс: 0.9149357072205737\n"
          ]
        }
      ]
    },
    {
      "cell_type": "markdown",
      "source": [
        "Сравниваем уровень В2 для Шарова и LM:"
      ],
      "metadata": {
        "id": "PkSie4ySwK8s"
      }
    },
    {
      "cell_type": "code",
      "source": [
        "data1 = dc4['lemma'].str.lower()\n",
        "data2 = result3\n",
        "sd = sorenson_dice(data1, data2)\n",
        "print(\"Сёренсен-Дайс:\", sd)"
      ],
      "metadata": {
        "colab": {
          "base_uri": "https://localhost:8080/"
        },
        "id": "Io-MU7f75JeB",
        "outputId": "c930b31d-8661-4462-978e-bd8cb33945f4"
      },
      "execution_count": 98,
      "outputs": [
        {
          "output_type": "stream",
          "name": "stdout",
          "text": [
            "Сёренсен-Дайс: 0.22077424300498275\n"
          ]
        }
      ]
    },
    {
      "cell_type": "markdown",
      "source": [
        "Сравниваем уровень B2 для SMARTool и LM:"
      ],
      "metadata": {
        "id": "oNqwZjzAwb-1"
      }
    },
    {
      "cell_type": "code",
      "source": [
        "data1 = result3\n",
        "data2 = B2['Lemma'].str.lower()\n",
        "sd = sorenson_dice(data1, data2)\n",
        "print(\"Сёренсен-Дайс:\", sd)"
      ],
      "metadata": {
        "colab": {
          "base_uri": "https://localhost:8080/"
        },
        "id": "pm0NQw7Y5SOr",
        "outputId": "5e1204e0-1ffe-4d06-de71-b5b5ac602834"
      },
      "execution_count": 99,
      "outputs": [
        {
          "output_type": "stream",
          "name": "stdout",
          "text": [
            "Сёренсен-Дайс: 0.9680867307985952\n"
          ]
        }
      ]
    },
    {
      "cell_type": "markdown",
      "source": [
        "Создаём тепловую матрицу для уровня А1:"
      ],
      "metadata": {
        "id": "c0gtU2DswgAW"
      }
    },
    {
      "cell_type": "code",
      "source": [
        "columns=['VRT (0)', 'Sharoff (1)', 'SMARTool (2)', 'LM (3)']\n",
        "\n",
        "data = [\n",
        "[1, 0.44, 0.42, 0.5],\n",
        "[0.44, 1, 0.35, 0.22],\n",
        "[0.42, 0.35, 1, 0.82],\n",
        "[0.5, 0.22, 0.82, 1]\n",
        "]\n",
        "\n",
        "df = pd.DataFrame(data, columns=columns)"
      ],
      "metadata": {
        "id": "NvUs4sAJ0MM6"
      },
      "execution_count": 102,
      "outputs": []
    },
    {
      "cell_type": "code",
      "source": [
        "sns.heatmap(df, annot=True, vmin=0, vmax=1, cmap ='RdYlGn')"
      ],
      "metadata": {
        "colab": {
          "base_uri": "https://localhost:8080/",
          "height": 453
        },
        "id": "Y03G5HoOzNcW",
        "outputId": "e01a2621-e79a-4abb-b776-7b147d777263"
      },
      "execution_count": 103,
      "outputs": [
        {
          "output_type": "execute_result",
          "data": {
            "text/plain": [
              "<Axes: >"
            ]
          },
          "metadata": {},
          "execution_count": 103
        },
        {
          "output_type": "display_data",
          "data": {
            "text/plain": [
              "<Figure size 640x480 with 2 Axes>"
            ],
            "image/png": "[encoded data removed]"
          },
          "metadata": {}
        }
      ]
    },
    {
      "cell_type": "markdown",
      "source": [
        "Создаём тепловую матрицу для уровня А2:"
      ],
      "metadata": {
        "id": "3xI2n5Jcwl79"
      }
    },
    {
      "cell_type": "code",
      "source": [
        "columns=['VRT (0)', 'Sharoff (1)', 'SMARTool (2)', 'LM (3)']\n",
        "\n",
        "data = [\n",
        "[1, 0.16, 0.12, 0.09],\n",
        "[0.16, 1, 0.15, 0.14],\n",
        "[0.12, 0.15, 1, 0.61],\n",
        "[0.09, 0.14, 0.61, 1]\n",
        "]\n",
        "\n",
        "df = pd.DataFrame(data, columns=columns)"
      ],
      "metadata": {
        "id": "kqPfbjh8Cp4J"
      },
      "execution_count": 104,
      "outputs": []
    },
    {
      "cell_type": "code",
      "source": [
        "sns.heatmap(df, annot=True, vmin=0, vmax=1, cmap ='RdYlGn')"
      ],
      "metadata": {
        "id": "wGuB1EsZECew",
        "outputId": "f064da8c-7d10-4418-eaee-9ddb9e58d4a6",
        "colab": {
          "base_uri": "https://localhost:8080/",
          "height": 453
        }
      },
      "execution_count": 105,
      "outputs": [
        {
          "output_type": "execute_result",
          "data": {
            "text/plain": [
              "<Axes: >"
            ]
          },
          "metadata": {},
          "execution_count": 105
        },
        {
          "output_type": "display_data",
          "data": {
            "text/plain": [
              "<Figure size 640x480 with 2 Axes>"
            ],
            "image/png": "[encoded data removed]"
          },
          "metadata": {}
        }
      ]
    },
    {
      "cell_type": "markdown",
      "source": [
        "Создаём тепловую матрицу для уровня В1:"
      ],
      "metadata": {
        "id": "UHDCItLwwn4Z"
      }
    },
    {
      "cell_type": "code",
      "source": [
        "columns=['VRT (0)', 'Sharoff (1)', 'SMARTool (2)', 'LM (3)']\n",
        "\n",
        "data = [\n",
        "[1, 0.01, 0.01, 0.01],\n",
        "[0.01, 1, 0.13, 0.14],\n",
        "[0.01, 0.13, 1, 0.92],\n",
        "[0.01, 0.14, 0.92, 1]\n",
        "]\n",
        "\n",
        "df = pd.DataFrame(data, columns=columns)"
      ],
      "metadata": {
        "id": "ETl7wwEkEgnQ"
      },
      "execution_count": 106,
      "outputs": []
    },
    {
      "cell_type": "code",
      "source": [
        "sns.heatmap(df, annot=True, vmin=0, vmax=1, cmap ='RdYlGn')"
      ],
      "metadata": {
        "id": "BioZhkU_FqFZ",
        "outputId": "54ec2910-369c-414e-85b7-801aa2b8c7fb",
        "colab": {
          "base_uri": "https://localhost:8080/",
          "height": 453
        }
      },
      "execution_count": 107,
      "outputs": [
        {
          "output_type": "execute_result",
          "data": {
            "text/plain": [
              "<Axes: >"
            ]
          },
          "metadata": {},
          "execution_count": 107
        },
        {
          "output_type": "display_data",
          "data": {
            "text/plain": [
              "<Figure size 640x480 with 2 Axes>"
            ],
            "image/png": "[encoded data removed]"
          },
          "metadata": {}
        }
      ]
    },
    {
      "cell_type": "markdown",
      "source": [
        "Создаём тепловую матрицу для уровня В2:"
      ],
      "metadata": {
        "id": "bYi909etwq47"
      }
    },
    {
      "cell_type": "code",
      "source": [
        "columns=['VRT (0)', 'Sharoff (1)', 'SMARTool (2)', 'LM (3)']\n",
        "\n",
        "data = [\n",
        "[1, 0.02, 0.03, 0.03],\n",
        "[0.02, 1, 0.21, 0.22],\n",
        "[0.03, 0.21, 1, 0.97],\n",
        "[0.03, 0.22, 0.97, 1]\n",
        "]\n",
        "\n",
        "df = pd.DataFrame(data, columns=columns)"
      ],
      "metadata": {
        "id": "6OPMNvxKF2kA"
      },
      "execution_count": 108,
      "outputs": []
    },
    {
      "cell_type": "code",
      "source": [
        "sns.heatmap(df, annot=True, vmin=0, vmax=1, cmap ='RdYlGn')"
      ],
      "metadata": {
        "id": "TaGMadToGkqK",
        "outputId": "ef6d78af-62d8-4a9e-b5b7-7bb8a3bbc875",
        "colab": {
          "base_uri": "https://localhost:8080/",
          "height": 453
        }
      },
      "execution_count": 109,
      "outputs": [
        {
          "output_type": "execute_result",
          "data": {
            "text/plain": [
              "<Axes: >"
            ]
          },
          "metadata": {},
          "execution_count": 109
        },
        {
          "output_type": "display_data",
          "data": {
            "text/plain": [
              "<Figure size 640x480 with 2 Axes>"
            ],
            "image/png": "[encoded data removed]"
          },
          "metadata": {}
        }
      ]
    }
  ]
}