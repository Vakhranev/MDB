{
  "nbformat": 4,
  "nbformat_minor": 0,
  "metadata": {
    "colab": {
      "provenance": [],
      "authorship_tag": "ABX9TyNYaDq6UHMZQLFXUUGrsY81",
      "include_colab_link": true
    },
    "kernelspec": {
      "name": "python3",
      "display_name": "Python 3"
    },
    "language_info": {
      "name": "python"
    }
  },
  "cells": [
    {
      "cell_type": "markdown",
      "metadata": {
        "id": "view-in-github",
        "colab_type": "text"
      },
      "source": [
        "<a href=\"https://colab.research.google.com/github/Vakhranev/MDB/blob/main/%D0%A1%D1%91%D1%80%D0%B5%D0%BD%D1%81%D0%B5%D0%BD_%D0%94%D0%B0%D0%B9%D1%81.ipynb\" target=\"_parent\"><img src=\"https://colab.research.google.com/assets/colab-badge.svg\" alt=\"Open In Colab\"/></a>"
      ]
    },
    {
      "cell_type": "markdown",
      "source": [
        "Загружаем все необходимые модули:"
      ],
      "metadata": {
        "id": "BZrqxbmpszy5"
      }
    },
    {
      "cell_type": "code",
      "source": [
        "!pip install multiset"
      ],
      "metadata": {
        "colab": {
          "base_uri": "https://localhost:8080/"
        },
        "id": "WwflyQcznNt-",
        "outputId": "adefe42e-6ab2-45c9-9ff8-fc879d3b768f"
      },
      "execution_count": 1,
      "outputs": [
        {
          "output_type": "stream",
          "name": "stdout",
          "text": [
            "Looking in indexes: https://pypi.org/simple, https://us-python.pkg.dev/colab-wheels/public/simple/\n",
            "Requirement already satisfied: multiset in /usr/local/lib/python3.9/dist-packages (3.0.1)\n"
          ]
        }
      ]
    },
    {
      "cell_type": "code",
      "execution_count": 2,
      "metadata": {
        "id": "OBhYJ6_C3Jvg"
      },
      "outputs": [],
      "source": [
        "from multiset import Multiset\n",
        "import pandas as pd\n",
        "import numpy as np\n",
        "import seaborn as sns\n",
        "import matplotlib.pyplot as plt"
      ]
    },
    {
      "cell_type": "markdown",
      "source": [
        "Создаём функцию, которая считает коэффициент Сёренсена-Дайса для двух корпусов:"
      ],
      "metadata": {
        "id": "2Aa1JqhJs_UF"
      }
    },
    {
      "cell_type": "code",
      "source": [
        "def tokenizetext(txt):\n",
        "    arr = []\n",
        "    for wrd in txt:\n",
        "        arr += [wrd]\n",
        "    return Multiset(arr)\n",
        "\n",
        "\n",
        "def sorenson_dice(text1, text2):\n",
        "    ''' Sorenson-Dice similarity of Multisets '''\n",
        "    bc1, bc2 = tokenizetext(text1), tokenizetext(text2)\n",
        "    return 2 * len(bc1 & bc2) / (len(bc1) + len(bc2))"
      ],
      "metadata": {
        "id": "1OzZw88O8hKq"
      },
      "execution_count": 3,
      "outputs": []
    },
    {
      "cell_type": "markdown",
      "source": [
        "Загружаем гарвардские данные:"
      ],
      "metadata": {
        "id": "8HxoCT44tdHA"
      }
    },
    {
      "cell_type": "code",
      "source": [
        "df = pd.read_csv('lemmas_levels.csv', sep=',')\n",
        "df.index = np.arange(1, len(df) + 1)\n",
        "mark1 = \"1E\"\n",
        "mark2 = \"2I\"\n",
        "mark3 = \"3AU\"\n",
        "mark4 = \"4S\"\n",
        "ll1 = df.query('level == @mark1')\n",
        "ll2 = df.query('level == @mark2')\n",
        "ll3 = df.query('level == @mark3')\n",
        "ll4 = df.query('level == @mark4')"
      ],
      "metadata": {
        "id": "G_JNS2eI42er"
      },
      "execution_count": 4,
      "outputs": []
    },
    {
      "cell_type": "markdown",
      "source": [
        "Загружаем данные из списка Kelly:"
      ],
      "metadata": {
        "id": "npRNQTAwtbAL"
      }
    },
    {
      "cell_type": "code",
      "source": [
        "df = pd.read_csv('ru_m3.csv', sep=';')\n",
        "df.index = np.arange(1, len(df) + 1)\n",
        "df = df[['Lemma','CEFR']]\n",
        "mark1 = \"a1\"\n",
        "mark2 = \"a2\"\n",
        "mark3 = \"b1\"\n",
        "mark4 = \"b2\"\n",
        "mark5 = \"A1\"\n",
        "mark6 = \"A2\"\n",
        "mark7 = \"B1\"\n",
        "mark8 = \"B2\"\n",
        "dc1 = df.query('CEFR == @mark1 | CEFR == @mark5')\n",
        "dc2 = df.query('CEFR == @mark2 | CEFR == @mark6')\n",
        "dc3 = df.query('CEFR == @mark3 | CEFR == @mark7')\n",
        "dc4 = df.query('CEFR == @mark4 | CEFR == @mark8')"
      ],
      "metadata": {
        "id": "DAO4iFg49DVw"
      },
      "execution_count": 26,
      "outputs": []
    },
    {
      "cell_type": "code",
      "source": [
        "l = []\n",
        "for word in dc1['Lemma']:\n",
        "  if word not in l:\n",
        "    l.append(word)\n",
        "dc1 = l"
      ],
      "metadata": {
        "id": "z8ID-rvO7qx2"
      },
      "execution_count": 30,
      "outputs": []
    },
    {
      "cell_type": "code",
      "source": [
        "l = []\n",
        "for word in dc2['Lemma']:\n",
        "  if word not in l:\n",
        "    l.append(word)\n",
        "dc2 = l"
      ],
      "metadata": {
        "id": "ViYWCbFg_UbY"
      },
      "execution_count": 31,
      "outputs": []
    },
    {
      "cell_type": "code",
      "source": [
        "l = []\n",
        "for word in dc3['Lemma']:\n",
        "  if word not in l:\n",
        "    l.append(word)\n",
        "dc3 = l"
      ],
      "metadata": {
        "id": "2aHwgZUp_YAA"
      },
      "execution_count": 32,
      "outputs": []
    },
    {
      "cell_type": "code",
      "source": [
        "l = []\n",
        "for word in dc4['Lemma']:\n",
        "  if word not in l:\n",
        "    l.append(word)\n",
        "dc4 = l"
      ],
      "metadata": {
        "id": "_a4z6UWN_bbu"
      },
      "execution_count": 33,
      "outputs": []
    },
    {
      "cell_type": "markdown",
      "source": [
        "Проверяем работу функции. Сравниваем два одинаковых корпуса:"
      ],
      "metadata": {
        "id": "ng0SkBb7tfvs"
      }
    },
    {
      "cell_type": "code",
      "source": [
        "data1 = dc1\n",
        "data2 = dc1\n",
        "sd = sorenson_dice(data1, data2)\n",
        "print(\"Сёренсен-Дайс:\", sd)"
      ],
      "metadata": {
        "id": "YG4TBqyRsgVF",
        "outputId": "4cafdc1c-a8dc-4884-cd61-1b290197c1b4",
        "colab": {
          "base_uri": "https://localhost:8080/"
        }
      },
      "execution_count": 38,
      "outputs": [
        {
          "output_type": "stream",
          "name": "stdout",
          "text": [
            "Сёренсен-Дайс: 1.0\n"
          ]
        }
      ]
    },
    {
      "cell_type": "markdown",
      "source": [
        "Теперь сравниваем корпус с одинаковым корпусом, который был увеличен в два раза:"
      ],
      "metadata": {
        "id": "ppeY5O2xtmIk"
      }
    },
    {
      "cell_type": "code",
      "source": [
        "data1 = dc1*2\n",
        "data2 = dc1\n",
        "sd = sorenson_dice(data1, data2)\n",
        "print(\"Сёренсен-Дайс:\", sd)"
      ],
      "metadata": {
        "colab": {
          "base_uri": "https://localhost:8080/"
        },
        "id": "BlMusUorxQVi",
        "outputId": "680834d3-5ad7-4367-a1f8-633a62120e1a"
      },
      "execution_count": 39,
      "outputs": [
        {
          "output_type": "stream",
          "name": "stdout",
          "text": [
            "Сёренсен-Дайс: 0.6666666666666666\n"
          ]
        }
      ]
    },
    {
      "cell_type": "code",
      "source": [
        "len(data1)"
      ],
      "metadata": {
        "colab": {
          "base_uri": "https://localhost:8080/"
        },
        "id": "WM5zQmxaxWy-",
        "outputId": "55ff3a88-8a56-446a-e8ed-10bea2f7d3c4"
      },
      "execution_count": 40,
      "outputs": [
        {
          "output_type": "execute_result",
          "data": {
            "text/plain": [
              "1864"
            ]
          },
          "metadata": {},
          "execution_count": 40
        }
      ]
    },
    {
      "cell_type": "markdown",
      "source": [
        "В три раза:"
      ],
      "metadata": {
        "id": "KRDygnwxt3m9"
      }
    },
    {
      "cell_type": "code",
      "source": [
        "data1 = data1+dc1\n",
        "data2 = dc1\n",
        "sd = sorenson_dice(data1, data2)\n",
        "print(\"Сёренсен-Дайс:\", sd)"
      ],
      "metadata": {
        "colab": {
          "base_uri": "https://localhost:8080/"
        },
        "id": "8Izpzxz-ypfM",
        "outputId": "249de852-c491-4b6c-d3eb-b8c6e189e810"
      },
      "execution_count": 41,
      "outputs": [
        {
          "output_type": "stream",
          "name": "stdout",
          "text": [
            "Сёренсен-Дайс: 0.5\n"
          ]
        }
      ]
    },
    {
      "cell_type": "code",
      "source": [
        "len(data1)"
      ],
      "metadata": {
        "colab": {
          "base_uri": "https://localhost:8080/"
        },
        "id": "Nw0Mn3Rayuyw",
        "outputId": "345cfef9-44ab-4266-f4a2-41947982895c"
      },
      "execution_count": 42,
      "outputs": [
        {
          "output_type": "execute_result",
          "data": {
            "text/plain": [
              "2796"
            ]
          },
          "metadata": {},
          "execution_count": 42
        }
      ]
    },
    {
      "cell_type": "markdown",
      "source": [
        "В четыре раза:"
      ],
      "metadata": {
        "id": "5hEeucx8t5UQ"
      }
    },
    {
      "cell_type": "code",
      "source": [
        "data1 = data1+dc1\n",
        "data2 = dc1\n",
        "sd = sorenson_dice(data1, data2)\n",
        "print(\"Сёренсен-Дайс:\", sd)"
      ],
      "metadata": {
        "colab": {
          "base_uri": "https://localhost:8080/"
        },
        "id": "YK-8gGovy1K_",
        "outputId": "15c6ae27-896d-4d28-ba74-2a6823991614"
      },
      "execution_count": 43,
      "outputs": [
        {
          "output_type": "stream",
          "name": "stdout",
          "text": [
            "Сёренсен-Дайс: 0.4\n"
          ]
        }
      ]
    },
    {
      "cell_type": "markdown",
      "source": [
        "Сравниваем уровень А1 для гарвардских данных и списка Kelly:"
      ],
      "metadata": {
        "id": "JJY7LUMBuEDu"
      }
    },
    {
      "cell_type": "code",
      "source": [
        "data1 = ll1['lemma'].str.strip('\\'')\n",
        "data2 = dc1\n",
        "sd = sorenson_dice(data1, data2)\n",
        "print(\"Сёренсен-Дайс:\", sd)"
      ],
      "metadata": {
        "id": "2lgtH83V-ZD4",
        "colab": {
          "base_uri": "https://localhost:8080/"
        },
        "outputId": "a78820f1-7e06-45af-99a3-c5785d0365ff"
      },
      "execution_count": 44,
      "outputs": [
        {
          "output_type": "stream",
          "name": "stdout",
          "text": [
            "Сёренсен-Дайс: 0.46389185343294204\n"
          ]
        }
      ]
    },
    {
      "cell_type": "markdown",
      "source": [
        "Сравниваем уровень А2 для гарвардских данных и списка Kelly:"
      ],
      "metadata": {
        "id": "tF88E1ptuK5P"
      }
    },
    {
      "cell_type": "code",
      "source": [
        "data1 = ll2['lemma'].str.strip('\\'')\n",
        "data2 = dc2\n",
        "sd = sorenson_dice(data1, data2)\n",
        "print(\"Сёренсен-Дайс:\", sd)"
      ],
      "metadata": {
        "colab": {
          "base_uri": "https://localhost:8080/"
        },
        "id": "cB_0Ev1dDQP4",
        "outputId": "97ae03b4-dcb6-4884-db70-d61289ebc0f5"
      },
      "execution_count": 45,
      "outputs": [
        {
          "output_type": "stream",
          "name": "stdout",
          "text": [
            "Сёренсен-Дайс: 0.17192889360573096\n"
          ]
        }
      ]
    },
    {
      "cell_type": "markdown",
      "source": [
        "Сравниваем уровень В1 для гарвардских данных и списка Kelly:"
      ],
      "metadata": {
        "id": "2ERjIPOOuMni"
      }
    },
    {
      "cell_type": "code",
      "source": [
        "data1 = ll3['lemma'].str.strip('\\'')\n",
        "data2 = dc3\n",
        "sd = sorenson_dice(data1, data2)\n",
        "print(\"Сёренсен-Дайс:\", sd)"
      ],
      "metadata": {
        "colab": {
          "base_uri": "https://localhost:8080/"
        },
        "id": "fbFTq2CUDjCQ",
        "outputId": "898e0900-853b-4cf5-9d25-13ffd0063ccd"
      },
      "execution_count": 46,
      "outputs": [
        {
          "output_type": "stream",
          "name": "stdout",
          "text": [
            "Сёренсен-Дайс: 0.027320271641558036\n"
          ]
        }
      ]
    },
    {
      "cell_type": "markdown",
      "source": [
        "Сравниваем уровень В2 для гарвардских данных и списка Kelly:"
      ],
      "metadata": {
        "id": "IWu7W9ySuO0T"
      }
    },
    {
      "cell_type": "code",
      "source": [
        "data1 = ll4['lemma'].str.strip('\\'')\n",
        "data2 = dc4\n",
        "sd = sorenson_dice(data1, data2)\n",
        "print(\"Сёренсен-Дайс:\", sd)"
      ],
      "metadata": {
        "colab": {
          "base_uri": "https://localhost:8080/"
        },
        "id": "XeWwjtI-DtoF",
        "outputId": "f3b4533e-8a1a-4871-cc0d-cef9959340ee"
      },
      "execution_count": 47,
      "outputs": [
        {
          "output_type": "stream",
          "name": "stdout",
          "text": [
            "Сёренсен-Дайс: 0.04719690348358097\n"
          ]
        }
      ]
    },
    {
      "cell_type": "markdown",
      "source": [
        "Загружаем данные SMARTool A1:"
      ],
      "metadata": {
        "id": "dvQ_fWOTuSKA"
      }
    },
    {
      "cell_type": "code",
      "source": [
        "df = pd.read_csv('A1.csv', sep=';')\n",
        "df.index = np.arange(1, len(df) + 1)\n",
        "A1 = df[:754]"
      ],
      "metadata": {
        "id": "uqF5QGkVQ8jy"
      },
      "execution_count": 48,
      "outputs": []
    },
    {
      "cell_type": "markdown",
      "source": [
        "Сравниваем уровень А1 для гарвардских данных и SMARTool:"
      ],
      "metadata": {
        "id": "n4baRnyludKz"
      }
    },
    {
      "cell_type": "code",
      "source": [
        "data1 = ll1['lemma'].str.strip('\\'')\n",
        "data2 = A1['Lemma'].str.lower()\n",
        "sd = sorenson_dice(data1, data2)\n",
        "print(\"Сёренсен-Дайс:\", sd)"
      ],
      "metadata": {
        "colab": {
          "base_uri": "https://localhost:8080/"
        },
        "id": "jjd94BM_R-7B",
        "outputId": "54975055-8ee3-41e9-9a55-31cc3c7229ff"
      },
      "execution_count": 49,
      "outputs": [
        {
          "output_type": "stream",
          "name": "stdout",
          "text": [
            "Сёренсен-Дайс: 0.4238511203949867\n"
          ]
        }
      ]
    },
    {
      "cell_type": "markdown",
      "source": [
        "Загружаем данные SMARTool А2:"
      ],
      "metadata": {
        "id": "vz6g0poGuhfS"
      }
    },
    {
      "cell_type": "code",
      "source": [
        "df = pd.read_csv('A2.csv', sep=';')\n",
        "df.index = np.arange(1, len(df) + 1)\n",
        "A2 = df[:1048]"
      ],
      "metadata": {
        "id": "GWKmhxMhTEgu"
      },
      "execution_count": 50,
      "outputs": []
    },
    {
      "cell_type": "markdown",
      "source": [
        "Сравниваем уровень А2 для гарвардских данных и SMARTool:"
      ],
      "metadata": {
        "id": "fO63sFDKunc-"
      }
    },
    {
      "cell_type": "code",
      "source": [
        "data1 = ll2['lemma'].str.strip('\\'')\n",
        "data2 = A2['Unnamed: 0'].str.lower()\n",
        "sd = sorenson_dice(data1, data2)\n",
        "print(\"Сёренсен-Дайс:\", sd)"
      ],
      "metadata": {
        "colab": {
          "base_uri": "https://localhost:8080/"
        },
        "id": "H6maz3bNTe2D",
        "outputId": "4573aa5d-4229-4bfb-b6e4-ec770be158cb"
      },
      "execution_count": 51,
      "outputs": [
        {
          "output_type": "stream",
          "name": "stdout",
          "text": [
            "Сёренсен-Дайс: 0.12390321722946025\n"
          ]
        }
      ]
    },
    {
      "cell_type": "markdown",
      "source": [
        "Загружаем данные SMARTool В1:"
      ],
      "metadata": {
        "id": "F-8_0UlZuswL"
      }
    },
    {
      "cell_type": "code",
      "source": [
        "df = pd.read_csv('B1.csv', sep=';')\n",
        "df.index = np.arange(1, len(df) + 1)\n",
        "B1 = df[:1081]"
      ],
      "metadata": {
        "id": "008zKNiLWHFT"
      },
      "execution_count": 52,
      "outputs": []
    },
    {
      "cell_type": "markdown",
      "source": [
        "Сравниваем уровень В1 для гарвардских данных и SMARTool:"
      ],
      "metadata": {
        "id": "F3zOAq9yu2BN"
      }
    },
    {
      "cell_type": "code",
      "source": [
        "data1 = ll3['lemma'].str.strip('\\'')\n",
        "data2 = B1['Lemma'].str.lower()\n",
        "sd = sorenson_dice(data1, data2)\n",
        "print(\"Сёренсен-Дайс:\", sd)"
      ],
      "metadata": {
        "colab": {
          "base_uri": "https://localhost:8080/"
        },
        "id": "SzWpsaZqWZgY",
        "outputId": "04c8af23-ac57-4fb6-e2d8-976689e2f50b"
      },
      "execution_count": 53,
      "outputs": [
        {
          "output_type": "stream",
          "name": "stdout",
          "text": [
            "Сёренсен-Дайс: 0.008110300081103\n"
          ]
        }
      ]
    },
    {
      "cell_type": "markdown",
      "source": [
        "Загружаем данные SMARTool В2:"
      ],
      "metadata": {
        "id": "SPTRnRW0u8YW"
      }
    },
    {
      "cell_type": "code",
      "source": [
        "df = pd.read_csv('B2.csv', sep=';')\n",
        "df.index = np.arange(1, len(df) + 1)\n",
        "B2 = df[:3331]"
      ],
      "metadata": {
        "id": "EC76rJT0XJDS"
      },
      "execution_count": 54,
      "outputs": []
    },
    {
      "cell_type": "markdown",
      "source": [
        "Сравниваем уровень B2 для гарвардских данных и SMARTool:"
      ],
      "metadata": {
        "id": "85dO2k7vvCgp"
      }
    },
    {
      "cell_type": "code",
      "source": [
        "data1 = ll4['lemma'].str.strip('\\'')\n",
        "data2 = B2['Lemma'].str.lower()\n",
        "sd = sorenson_dice(data1, data2)\n",
        "print(\"Сёренсен-Дайс:\", sd)"
      ],
      "metadata": {
        "colab": {
          "base_uri": "https://localhost:8080/"
        },
        "id": "rWnZiuLVXOP-",
        "outputId": "37b101fa-5c89-4c2d-e806-9f07e5fb4d85"
      },
      "execution_count": 55,
      "outputs": [
        {
          "output_type": "stream",
          "name": "stdout",
          "text": [
            "Сёренсен-Дайс: 0.03403026307528097\n"
          ]
        }
      ]
    },
    {
      "cell_type": "markdown",
      "source": [
        "Сравниваем уровень A1 для списка Kelly и SMARTool:"
      ],
      "metadata": {
        "id": "eUS8EenPvLJv"
      }
    },
    {
      "cell_type": "code",
      "source": [
        "data1 = dc1\n",
        "data2 = A1['Lemma'].str.lower()\n",
        "sd = sorenson_dice(data1, data2)\n",
        "print(\"Сёренсен-Дайс:\", sd)"
      ],
      "metadata": {
        "colab": {
          "base_uri": "https://localhost:8080/"
        },
        "id": "lNTSiovlXcIQ",
        "outputId": "51191571-c164-42b8-d92b-55403a6a2557"
      },
      "execution_count": 56,
      "outputs": [
        {
          "output_type": "stream",
          "name": "stdout",
          "text": [
            "Сёренсен-Дайс: 0.4638196915776987\n"
          ]
        }
      ]
    },
    {
      "cell_type": "markdown",
      "source": [
        "Сравниваем уровень A2 для списка Kelly и SMARTool:"
      ],
      "metadata": {
        "id": "1oP0I2NgvP62"
      }
    },
    {
      "cell_type": "code",
      "source": [
        "data1 = dc2\n",
        "data2 = A2['Unnamed: 0'].str.lower()\n",
        "sd = sorenson_dice(data1, data2)\n",
        "print(\"Сёренсен-Дайс:\", sd)"
      ],
      "metadata": {
        "colab": {
          "base_uri": "https://localhost:8080/"
        },
        "id": "J96pIUq2Xp9J",
        "outputId": "5646c9a3-3df9-49a1-aa68-bc27161734ba"
      },
      "execution_count": 57,
      "outputs": [
        {
          "output_type": "stream",
          "name": "stdout",
          "text": [
            "Сёренсен-Дайс: 0.21102661596958175\n"
          ]
        }
      ]
    },
    {
      "cell_type": "markdown",
      "source": [
        "Сравниваем уровень В1 для списка Kelly и SMARTool:"
      ],
      "metadata": {
        "id": "sshqphIpvR7D"
      }
    },
    {
      "cell_type": "code",
      "source": [
        "data1 = dc3\n",
        "data2 = B1['Lemma'].str.lower()\n",
        "sd = sorenson_dice(data1, data2)\n",
        "print(\"Сёренсен-Дайс:\", sd)"
      ],
      "metadata": {
        "colab": {
          "base_uri": "https://localhost:8080/"
        },
        "id": "gWLfe3ifX1Br",
        "outputId": "4fb6e958-cb1e-4895-d070-c394c0915aac"
      },
      "execution_count": 58,
      "outputs": [
        {
          "output_type": "stream",
          "name": "stdout",
          "text": [
            "Сёренсен-Дайс: 0.20506999621642075\n"
          ]
        }
      ]
    },
    {
      "cell_type": "markdown",
      "source": [
        "Сравниваем уровень В2 для списка Kelly и SMARTool:"
      ],
      "metadata": {
        "id": "ykJ0RD9LvVV-"
      }
    },
    {
      "cell_type": "code",
      "source": [
        "data1 = dc4\n",
        "data2 = B2['Lemma'].str.lower()\n",
        "sd = sorenson_dice(data1, data2)\n",
        "print(\"Сёренсен-Дайс:\", sd)"
      ],
      "metadata": {
        "colab": {
          "base_uri": "https://localhost:8080/"
        },
        "id": "iabXrhyKYQz5",
        "outputId": "67b6d72b-cf00-47f0-fc9d-301dc4447ac2"
      },
      "execution_count": 59,
      "outputs": [
        {
          "output_type": "stream",
          "name": "stdout",
          "text": [
            "Сёренсен-Дайс: 0.2621057307863172\n"
          ]
        }
      ]
    },
    {
      "cell_type": "markdown",
      "source": [
        "Загружаем данные LM А1:"
      ],
      "metadata": {
        "id": "5H0ZlSTlvcHD"
      }
    },
    {
      "cell_type": "code",
      "source": [
        "df = pd.read_csv('new_vocab_a1.csv', sep=';')\n",
        "df.index = np.arange(1, len(df) + 1)\n",
        "i = 1\n",
        "for word in df['а']:\n",
        "  if len(word) < 2:\n",
        "    df.drop(index = i, inplace = True)\n",
        "  else:\n",
        "    i += 1\n",
        "nv1 = df"
      ],
      "metadata": {
        "id": "U4Bxcq4ls9En"
      },
      "execution_count": 60,
      "outputs": []
    },
    {
      "cell_type": "code",
      "source": [
        "len(df)"
      ],
      "metadata": {
        "colab": {
          "base_uri": "https://localhost:8080/"
        },
        "id": "ynE8lPctxdqt",
        "outputId": "e6b99d2d-70c6-41ad-99d6-44730f5c6f72"
      },
      "execution_count": 61,
      "outputs": [
        {
          "output_type": "execute_result",
          "data": {
            "text/plain": [
              "994"
            ]
          },
          "metadata": {},
          "execution_count": 61
        }
      ]
    },
    {
      "cell_type": "markdown",
      "source": [
        "Сравниваем уровень А1 для гарвардских данных и LM:"
      ],
      "metadata": {
        "id": "O8HVNAS9vrGt"
      }
    },
    {
      "cell_type": "code",
      "source": [
        "data1 = ll1['lemma'].str.strip('\\'')\n",
        "data2 = nv1['а'].str.lower().tolist()\n",
        "sd = sorenson_dice(data1, data2)\n",
        "print(\"Сёренсен-Дайс:\", sd)"
      ],
      "metadata": {
        "colab": {
          "base_uri": "https://localhost:8080/"
        },
        "id": "Q-czSmsftJZy",
        "outputId": "5c2cb836-70b4-4ae2-b482-4a7ed17b8189"
      },
      "execution_count": 62,
      "outputs": [
        {
          "output_type": "stream",
          "name": "stdout",
          "text": [
            "Сёренсен-Дайс: 0.4949530107901149\n"
          ]
        }
      ]
    },
    {
      "cell_type": "markdown",
      "source": [
        "Загружаем данные LM А2:"
      ],
      "metadata": {
        "id": "0lTO_Yq-vi8u"
      }
    },
    {
      "cell_type": "code",
      "source": [
        "df = pd.read_csv('new_vocab_a2.csv', sep=';')\n",
        "df.index = np.arange(1, len(df) + 1)\n",
        "i = 1\n",
        "for word in df['а']:\n",
        "  if len(word) < 2:\n",
        "    df.drop(index = i, inplace = True)\n",
        "  else:\n",
        "    i += 1\n",
        "nv2 = df"
      ],
      "metadata": {
        "id": "Wm8-VV060V2S"
      },
      "execution_count": 63,
      "outputs": []
    },
    {
      "cell_type": "code",
      "source": [
        "data8 = nv2['а'].str.lower().tolist()\n",
        "result=list(set(data8) - set(data2))\n",
        "len(result)"
      ],
      "metadata": {
        "id": "0Dzl7BxVNVbk",
        "outputId": "565cb8aa-5256-4f33-e2e0-93d3eaedbcf0",
        "colab": {
          "base_uri": "https://localhost:8080/"
        }
      },
      "execution_count": 64,
      "outputs": [
        {
          "output_type": "execute_result",
          "data": {
            "text/plain": [
              "581"
            ]
          },
          "metadata": {},
          "execution_count": 64
        }
      ]
    },
    {
      "cell_type": "code",
      "source": [
        "len(data8)"
      ],
      "metadata": {
        "id": "xj-VnB4TULau",
        "outputId": "a1844642-f192-456b-8c1a-3126b7ae857e",
        "colab": {
          "base_uri": "https://localhost:8080/"
        }
      },
      "execution_count": 65,
      "outputs": [
        {
          "output_type": "execute_result",
          "data": {
            "text/plain": [
              "1548"
            ]
          },
          "metadata": {},
          "execution_count": 65
        }
      ]
    },
    {
      "cell_type": "code",
      "source": [
        "print(result[:20])\n",
        "print(data2[:20])"
      ],
      "metadata": {
        "id": "Ehr7UDXcT24B",
        "outputId": "7f98a8e7-9601-4aa1-9e18-840fa80a72a0",
        "colab": {
          "base_uri": "https://localhost:8080/"
        }
      },
      "execution_count": 66,
      "outputs": [
        {
          "output_type": "stream",
          "name": "stdout",
          "text": [
            "['поза', 'доктор', 'деепричастие', 'волос', 'кровать', 'высоко', 'туфля', 'золото', 'семейный', 'случаться', 'север', 'президент', 'воздух', 'мягкий', 'пенсия', 'проходить', 'продавать', 'вернуть', 'строитель', 'шутка']\n",
            "['абстрактный', 'август', 'австралия', 'автобус', 'автор', 'адрес', 'азия', 'активный', 'александр', 'александра', 'алексей', 'алеша', 'алла', 'америка', 'английски', 'английский', 'англичанин', 'англичанка', 'англия', 'англо-русский']\n"
          ]
        }
      ]
    },
    {
      "cell_type": "markdown",
      "source": [
        "Сравниваем уровень А2 для гарвардских данных и LM:"
      ],
      "metadata": {
        "id": "HRipwd99v2ax"
      }
    },
    {
      "cell_type": "code",
      "source": [
        "data1 = ll2['lemma'].str.strip('\\'')\n",
        "data2 = result\n",
        "sd = sorenson_dice(data1, data2)\n",
        "print(\"Сёренсен-Дайс:\", sd)"
      ],
      "metadata": {
        "colab": {
          "base_uri": "https://localhost:8080/"
        },
        "id": "0-ETyzND0g9k",
        "outputId": "b1413b05-8702-46ad-c82b-77f664263f0e"
      },
      "execution_count": 67,
      "outputs": [
        {
          "output_type": "stream",
          "name": "stdout",
          "text": [
            "Сёренсен-Дайс: 0.08743169398907104\n"
          ]
        }
      ]
    },
    {
      "cell_type": "markdown",
      "source": [
        "Загружаем данные LM В1:"
      ],
      "metadata": {
        "id": "zVdKCNmivkxi"
      }
    },
    {
      "cell_type": "code",
      "source": [
        "df = pd.read_csv('new_vocab_b1.csv', sep=';')\n",
        "df.index = np.arange(1, len(df) + 1)\n",
        "i = 1\n",
        "for word in df['а']:\n",
        "  if len(word) < 2:\n",
        "    df.drop(index = i, inplace = True)\n",
        "  else:\n",
        "    i += 1\n",
        "nv3 = df"
      ],
      "metadata": {
        "id": "3knprXCl0nsD"
      },
      "execution_count": 68,
      "outputs": []
    },
    {
      "cell_type": "code",
      "source": [
        "data7 = nv3['а'].str.lower().tolist()\n",
        "result2=list(set(data7) - set(data8))\n",
        "len(result2)"
      ],
      "metadata": {
        "id": "4IjcKHX5XfEY",
        "outputId": "f261415c-fbee-41fe-97f0-d31b22fa8bbd",
        "colab": {
          "base_uri": "https://localhost:8080/"
        }
      },
      "execution_count": 69,
      "outputs": [
        {
          "output_type": "execute_result",
          "data": {
            "text/plain": [
              "941"
            ]
          },
          "metadata": {},
          "execution_count": 69
        }
      ]
    },
    {
      "cell_type": "code",
      "source": [
        "len(data7)"
      ],
      "metadata": {
        "id": "VmqqaI-FYKDt",
        "outputId": "549d0476-abd9-4ec5-a752-569cb8c7c590",
        "colab": {
          "base_uri": "https://localhost:8080/"
        }
      },
      "execution_count": 70,
      "outputs": [
        {
          "output_type": "execute_result",
          "data": {
            "text/plain": [
              "2470"
            ]
          },
          "metadata": {},
          "execution_count": 70
        }
      ]
    },
    {
      "cell_type": "markdown",
      "source": [
        "Сравниваем уровень В1 для гарвардских данных и LM:"
      ],
      "metadata": {
        "id": "4EjBQ83gv45L"
      }
    },
    {
      "cell_type": "code",
      "source": [
        "data1 = ll3['lemma'].str.strip('\\'')\n",
        "data2 = result2\n",
        "sd = sorenson_dice(data1, data2)\n",
        "print(\"Сёренсен-Дайс:\", sd)"
      ],
      "metadata": {
        "colab": {
          "base_uri": "https://localhost:8080/"
        },
        "id": "83N6btVt0tNl",
        "outputId": "8a4bae63-af3c-4cd1-831f-80f5b9a71e42"
      },
      "execution_count": 71,
      "outputs": [
        {
          "output_type": "stream",
          "name": "stdout",
          "text": [
            "Сёренсен-Дайс: 0.006890894175553733\n"
          ]
        }
      ]
    },
    {
      "cell_type": "markdown",
      "source": [
        "Загружаем данные LM В2:"
      ],
      "metadata": {
        "id": "GgBqSLthvm2j"
      }
    },
    {
      "cell_type": "code",
      "source": [
        "df = pd.read_csv('new_vocab_b2.csv', sep=';')\n",
        "df.index = np.arange(1, len(df) + 1)\n",
        "i = 1\n",
        "for word in df['а']:\n",
        "  if len(word) < 2:\n",
        "    df.drop(index = i, inplace = True)\n",
        "  else:\n",
        "    i += 1\n",
        "nv4 = df"
      ],
      "metadata": {
        "id": "cB5W9R7b04Gb"
      },
      "execution_count": 72,
      "outputs": []
    },
    {
      "cell_type": "code",
      "source": [
        "data6 = nv4['а'].str.lower().tolist()\n",
        "result3=list(set(data6) - set(data7))\n",
        "len(result3)"
      ],
      "metadata": {
        "id": "7Wnm62X_Ywba",
        "outputId": "0506754d-552a-4866-b036-8fedee25ec62",
        "colab": {
          "base_uri": "https://localhost:8080/"
        }
      },
      "execution_count": 73,
      "outputs": [
        {
          "output_type": "execute_result",
          "data": {
            "text/plain": [
              "3218"
            ]
          },
          "metadata": {},
          "execution_count": 73
        }
      ]
    },
    {
      "cell_type": "code",
      "source": [
        "len(data6)"
      ],
      "metadata": {
        "id": "7z6WfH-HZCnh",
        "outputId": "d293351f-37ed-490b-ba20-b75294a137a2",
        "colab": {
          "base_uri": "https://localhost:8080/"
        }
      },
      "execution_count": 74,
      "outputs": [
        {
          "output_type": "execute_result",
          "data": {
            "text/plain": [
              "5488"
            ]
          },
          "metadata": {},
          "execution_count": 74
        }
      ]
    },
    {
      "cell_type": "markdown",
      "source": [
        "Сравниваем уровень В2 для гарвардских данных и LM:"
      ],
      "metadata": {
        "id": "BfgwB31Dv7HF"
      }
    },
    {
      "cell_type": "code",
      "source": [
        "data1 = ll4['lemma'].str.strip('\\'')\n",
        "data2 = result3\n",
        "sd = sorenson_dice(data1, data2)\n",
        "print(\"Сёренсен-Дайс:\", sd)"
      ],
      "metadata": {
        "colab": {
          "base_uri": "https://localhost:8080/"
        },
        "id": "1o5dBfWU09O8",
        "outputId": "96c7621c-0006-4077-8fc6-e7288166b86c"
      },
      "execution_count": 75,
      "outputs": [
        {
          "output_type": "stream",
          "name": "stdout",
          "text": [
            "Сёренсен-Дайс: 0.034779309472619195\n"
          ]
        }
      ]
    },
    {
      "cell_type": "markdown",
      "source": [
        "Сравниваем уровень А1 для списка Kelly и LM:"
      ],
      "metadata": {
        "id": "htYn1V3QwAuB"
      }
    },
    {
      "cell_type": "code",
      "source": [
        "data1 = dc1\n",
        "data2 = nv1['а'].str.lower()\n",
        "sd = sorenson_dice(data1, data2)\n",
        "print(\"Сёренсен-Дайс:\", sd)"
      ],
      "metadata": {
        "colab": {
          "base_uri": "https://localhost:8080/"
        },
        "id": "jgou2Re537Bv",
        "outputId": "6d47a73f-f103-4bca-d805-dc5b1a10a818"
      },
      "execution_count": 76,
      "outputs": [
        {
          "output_type": "stream",
          "name": "stdout",
          "text": [
            "Сёренсен-Дайс: 0.5202492211838006\n"
          ]
        }
      ]
    },
    {
      "cell_type": "markdown",
      "source": [
        "Сравниваем уровень А1 для SMARTool и LM:"
      ],
      "metadata": {
        "id": "tnHKOI8uwOhN"
      }
    },
    {
      "cell_type": "code",
      "source": [
        "data1 = nv1['а'].str.lower()\n",
        "data2 = A1['Lemma'].str.lower()\n",
        "sd = sorenson_dice(data1, data2)\n",
        "print(\"Сёренсен-Дайс:\", sd)"
      ],
      "metadata": {
        "colab": {
          "base_uri": "https://localhost:8080/"
        },
        "id": "ixeUyjWt38PP",
        "outputId": "6a876055-6eb7-4009-fc78-92823e964ed8"
      },
      "execution_count": 77,
      "outputs": [
        {
          "output_type": "stream",
          "name": "stdout",
          "text": [
            "Сёренсен-Дайс: 0.816933638443936\n"
          ]
        }
      ]
    },
    {
      "cell_type": "markdown",
      "source": [
        "Сравниваем уровень А2 для списка Kelly и LM:"
      ],
      "metadata": {
        "id": "6Dsgw8PIwF0m"
      }
    },
    {
      "cell_type": "code",
      "source": [
        "data1 = dc2\n",
        "data2 = result\n",
        "sd = sorenson_dice(data1, data2)\n",
        "print(\"Сёренсен-Дайс:\", sd)"
      ],
      "metadata": {
        "colab": {
          "base_uri": "https://localhost:8080/"
        },
        "id": "L2OMDK-l4aQ6",
        "outputId": "32b6a2d5-56e2-40f6-90a2-c34cba8013e2"
      },
      "execution_count": 78,
      "outputs": [
        {
          "output_type": "stream",
          "name": "stdout",
          "text": [
            "Сёренсен-Дайс: 0.2296884544899206\n"
          ]
        }
      ]
    },
    {
      "cell_type": "markdown",
      "source": [
        "Сравниваем уровень А2 для SMARTool и LM:"
      ],
      "metadata": {
        "id": "WN09DPgVwSmf"
      }
    },
    {
      "cell_type": "code",
      "source": [
        "data1 = result\n",
        "data2 = A2['Unnamed: 0'].str.lower()\n",
        "sd = sorenson_dice(data1, data2)\n",
        "print(\"Сёренсен-Дайс:\", sd)"
      ],
      "metadata": {
        "colab": {
          "base_uri": "https://localhost:8080/"
        },
        "id": "X9FRUGHV4a07",
        "outputId": "64a701a1-dc2a-471e-f232-ff700a36e33c"
      },
      "execution_count": 79,
      "outputs": [
        {
          "output_type": "stream",
          "name": "stdout",
          "text": [
            "Сёренсен-Дайс: 0.6114180478821363\n"
          ]
        }
      ]
    },
    {
      "cell_type": "markdown",
      "source": [
        "Сравниваем уровень В1 для списка Kelly и LM:"
      ],
      "metadata": {
        "id": "-RupPJjqwIHv"
      }
    },
    {
      "cell_type": "code",
      "source": [
        "data1 = dc3\n",
        "data2 = result2\n",
        "sd = sorenson_dice(data1, data2)\n",
        "print(\"Сёренсен-Дайс:\", sd)"
      ],
      "metadata": {
        "colab": {
          "base_uri": "https://localhost:8080/"
        },
        "id": "fuilRgW74uOW",
        "outputId": "f39064bd-c315-44bd-ba6e-9842d937d1ee"
      },
      "execution_count": 80,
      "outputs": [
        {
          "output_type": "stream",
          "name": "stdout",
          "text": [
            "Сёренсен-Дайс: 0.2149420695165801\n"
          ]
        }
      ]
    },
    {
      "cell_type": "markdown",
      "source": [
        "Сравниваем уровень B1 для SMARTool и LM:"
      ],
      "metadata": {
        "id": "PCwwXAdewV9g"
      }
    },
    {
      "cell_type": "code",
      "source": [
        "data1 = result2\n",
        "data2 = B1['Lemma'].str.lower()\n",
        "sd = sorenson_dice(data1, data2)\n",
        "print(\"Сёренсен-Дайс:\", sd)"
      ],
      "metadata": {
        "colab": {
          "base_uri": "https://localhost:8080/"
        },
        "id": "zoUvf16d4zi_",
        "outputId": "0f19d39e-18e0-4ac0-dd87-270009081b27"
      },
      "execution_count": 81,
      "outputs": [
        {
          "output_type": "stream",
          "name": "stdout",
          "text": [
            "Сёренсен-Дайс: 0.9149357072205737\n"
          ]
        }
      ]
    },
    {
      "cell_type": "markdown",
      "source": [
        "Сравниваем уровень В2 для списка Kelly и LM:"
      ],
      "metadata": {
        "id": "PkSie4ySwK8s"
      }
    },
    {
      "cell_type": "code",
      "source": [
        "data1 = dc4\n",
        "data2 = result3\n",
        "sd = sorenson_dice(data1, data2)\n",
        "print(\"Сёренсен-Дайс:\", sd)"
      ],
      "metadata": {
        "colab": {
          "base_uri": "https://localhost:8080/"
        },
        "id": "Io-MU7f75JeB",
        "outputId": "0e4693a5-e69c-4616-bce7-99370e52747f"
      },
      "execution_count": 82,
      "outputs": [
        {
          "output_type": "stream",
          "name": "stdout",
          "text": [
            "Сёренсен-Дайс: 0.2704819277108434\n"
          ]
        }
      ]
    },
    {
      "cell_type": "markdown",
      "source": [
        "Сравниваем уровень B2 для SMARTool и LM:"
      ],
      "metadata": {
        "id": "oNqwZjzAwb-1"
      }
    },
    {
      "cell_type": "code",
      "source": [
        "data1 = result3\n",
        "data2 = B2['Lemma'].str.lower()\n",
        "sd = sorenson_dice(data1, data2)\n",
        "print(\"Сёренсен-Дайс:\", sd)"
      ],
      "metadata": {
        "colab": {
          "base_uri": "https://localhost:8080/"
        },
        "id": "pm0NQw7Y5SOr",
        "outputId": "c86fd4e1-bde9-448f-89e0-40ecf5733aac"
      },
      "execution_count": 83,
      "outputs": [
        {
          "output_type": "stream",
          "name": "stdout",
          "text": [
            "Сёренсен-Дайс: 0.9680867307985952\n"
          ]
        }
      ]
    },
    {
      "cell_type": "markdown",
      "source": [
        "Создаём тепловую матрицу для уровня А1:"
      ],
      "metadata": {
        "id": "c0gtU2DswgAW"
      }
    },
    {
      "cell_type": "code",
      "source": [
        "columns=['VRT (0)', 'Kelly (1)', 'SMARTool (2)', 'LM (3)']\n",
        "\n",
        "data = [\n",
        "[1, 0.46, 0.42, 0.5],\n",
        "[0.46, 1, 0.46, 0.52],\n",
        "[0.42, 0.46, 1, 0.82],\n",
        "[0.5, 0.52, 0.82, 1]\n",
        "]\n",
        "\n",
        "df = pd.DataFrame(data, columns=columns)"
      ],
      "metadata": {
        "id": "NvUs4sAJ0MM6"
      },
      "execution_count": 84,
      "outputs": []
    },
    {
      "cell_type": "code",
      "source": [
        "sns.heatmap(df, annot=True, vmin=0, vmax=1, cmap ='RdYlGn')"
      ],
      "metadata": {
        "colab": {
          "base_uri": "https://localhost:8080/",
          "height": 453
        },
        "id": "Y03G5HoOzNcW",
        "outputId": "9c34abf1-7aa1-421a-c7e0-61044403ea16"
      },
      "execution_count": 85,
      "outputs": [
        {
          "output_type": "execute_result",
          "data": {
            "text/plain": [
              "<Axes: >"
            ]
          },
          "metadata": {},
          "execution_count": 85
        },
        {
          "output_type": "display_data",
          "data": {
            "text/plain": [
              "<Figure size 640x480 with 2 Axes>"
            ],
            "image/png": "[encoded data removed]"
          },
          "metadata": {}
        }
      ]
    },
    {
      "cell_type": "markdown",
      "source": [
        "Создаём тепловую матрицу для уровня А2:"
      ],
      "metadata": {
        "id": "3xI2n5Jcwl79"
      }
    },
    {
      "cell_type": "code",
      "source": [
        "columns=['VRT (0)', 'Kelly (1)', 'SMARTool (2)', 'LM (3)']\n",
        "\n",
        "data = [\n",
        "[1, 0.17, 0.12, 0.09],\n",
        "[0.17, 1, 0.21, 0.23],\n",
        "[0.12, 0.21, 1, 0.61],\n",
        "[0.09, 0.23, 0.61, 1]\n",
        "]\n",
        "\n",
        "df = pd.DataFrame(data, columns=columns)"
      ],
      "metadata": {
        "id": "kqPfbjh8Cp4J"
      },
      "execution_count": 88,
      "outputs": []
    },
    {
      "cell_type": "code",
      "source": [
        "sns.heatmap(df, annot=True, vmin=0, vmax=1, cmap ='RdYlGn')"
      ],
      "metadata": {
        "id": "wGuB1EsZECew",
        "outputId": "89e0495a-5ef8-4fcd-88b6-92fca79c7be6",
        "colab": {
          "base_uri": "https://localhost:8080/",
          "height": 453
        }
      },
      "execution_count": 89,
      "outputs": [
        {
          "output_type": "execute_result",
          "data": {
            "text/plain": [
              "<Axes: >"
            ]
          },
          "metadata": {},
          "execution_count": 89
        },
        {
          "output_type": "display_data",
          "data": {
            "text/plain": [
              "<Figure size 640x480 with 2 Axes>"
            ],
            "image/png": "[encoded data removed]"
          },
          "metadata": {}
        }
      ]
    },
    {
      "cell_type": "markdown",
      "source": [
        "Создаём тепловую матрицу для уровня В1:"
      ],
      "metadata": {
        "id": "UHDCItLwwn4Z"
      }
    },
    {
      "cell_type": "code",
      "source": [
        "columns=['VRT (0)', 'Kelly (1)', 'SMARTool (2)', 'LM (3)']\n",
        "\n",
        "data = [\n",
        "[1, 0.03, 0.01, 0.01],\n",
        "[0.03, 1, 0.21, 0.27],\n",
        "[0.01, 0.21, 1, 0.92],\n",
        "[0.01, 0.27, 0.92, 1]\n",
        "]\n",
        "\n",
        "df = pd.DataFrame(data, columns=columns)"
      ],
      "metadata": {
        "id": "ETl7wwEkEgnQ"
      },
      "execution_count": 90,
      "outputs": []
    },
    {
      "cell_type": "code",
      "source": [
        "sns.heatmap(df, annot=True, vmin=0, vmax=1, cmap ='RdYlGn')"
      ],
      "metadata": {
        "id": "BioZhkU_FqFZ",
        "outputId": "ddf7e10d-1907-4403-a6cf-28308f7c9a9a",
        "colab": {
          "base_uri": "https://localhost:8080/",
          "height": 453
        }
      },
      "execution_count": 91,
      "outputs": [
        {
          "output_type": "execute_result",
          "data": {
            "text/plain": [
              "<Axes: >"
            ]
          },
          "metadata": {},
          "execution_count": 91
        },
        {
          "output_type": "display_data",
          "data": {
            "text/plain": [
              "<Figure size 640x480 with 2 Axes>"
            ],
            "image/png": "[encoded data removed]"
          },
          "metadata": {}
        }
      ]
    },
    {
      "cell_type": "markdown",
      "source": [
        "Создаём тепловую матрицу для уровня В2:"
      ],
      "metadata": {
        "id": "bYi909etwq47"
      }
    },
    {
      "cell_type": "code",
      "source": [
        "columns=['VRT (0)', 'Kelly (1)', 'SMARTool (2)', 'LM (3)']\n",
        "\n",
        "data = [\n",
        "[1, 0.05, 0.03, 0.03],\n",
        "[0.05, 1, 0.26, 0.27],\n",
        "[0.03, 0.26, 1, 0.97],\n",
        "[0.03, 0.27, 0.97, 1]\n",
        "]\n",
        "\n",
        "df = pd.DataFrame(data, columns=columns)"
      ],
      "metadata": {
        "id": "6OPMNvxKF2kA"
      },
      "execution_count": 92,
      "outputs": []
    },
    {
      "cell_type": "code",
      "source": [
        "sns.heatmap(df, annot=True, vmin=0, vmax=1, cmap ='RdYlGn')"
      ],
      "metadata": {
        "id": "TaGMadToGkqK",
        "outputId": "f0c9d215-d9f7-4d0c-ccf3-489bbf5d7294",
        "colab": {
          "base_uri": "https://localhost:8080/",
          "height": 453
        }
      },
      "execution_count": 93,
      "outputs": [
        {
          "output_type": "execute_result",
          "data": {
            "text/plain": [
              "<Axes: >"
            ]
          },
          "metadata": {},
          "execution_count": 93
        },
        {
          "output_type": "display_data",
          "data": {
            "text/plain": [
              "<Figure size 640x480 with 2 Axes>"
            ],
            "image/png": "[encoded data removed]"
          },
          "metadata": {}
        }
      ]
    }
  ]
}